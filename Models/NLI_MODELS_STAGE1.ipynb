{
 "cells": [
  {
   "cell_type": "markdown",
   "id": "8aac15df",
   "metadata": {},
   "source": [
    "# Intoroduction"
   ]
  },
  {
   "cell_type": "markdown",
   "id": "25ba118e",
   "metadata": {},
   "source": [
    "Natural Language Inferencing (NLI) task is one of the most important subsets of Natural Language Processing (NLP). NLI is also known as Recognizing Textual Entailment (RTE). NLI is a task of determining whether the given “hypothesis” and “premise” logically follow (entailment) or unfollow (contradiction) or are undetermined (neutral) to each other. In other words, the task of NLI is also defined as determining whether a \"hypothesis\" is true (entailment), false (contradiction), or undetermined (neutral) given a \"premise\". Table 1 gives some examples of these three cases."
   ]
  },
  {
   "cell_type": "markdown",
   "id": "8c062ee1",
   "metadata": {},
   "source": [
    "| Text (Premise) | Hypothesis | Judgement (Label) |\n",
    "| --- | --- | --- |\n",
    "| A soccer game with multiple males playing. | Some men are playing a sport. | entailment |\n",
    "| --- | --- | --- |\n",
    "| A black race car starts up in front of a crowd of people. | A man is driving down a lonely road. | contradiction |\n",
    "| --- | --- | --- |\n",
    "| An older and a younger man smiling. | Two men are smiling and laughing at the cats playing on the floor. | neutral |"
   ]
  },
  {
   "cell_type": "markdown",
   "id": "ea4eda8a",
   "metadata": {},
   "source": []
  },
  {
   "cell_type": "code",
   "execution_count": 1,
   "id": "9012af6f",
   "metadata": {},
   "outputs": [],
   "source": [
    "import numpy as np\n",
    "import pandas as pd\n",
    "import matplotlib.pyplot as plt\n",
    "import seaborn as sns\n",
    "import os\n",
    "import re\n",
    "from nltk.corpus import stopwords\n",
    "import pickle\n",
    "from tqdm import tqdm\n",
    "from wordcloud import WordCloud\n",
    "from sklearn.feature_extraction.text import TfidfVectorizer\n",
    "import tensorflow as tf\n",
    "import random\n",
    "import math\n",
    "from textblob import TextBlob\n",
    "from collections import Counter\n",
    "from sklearn.metrics.pairwise import cosine_similarity\n",
    "from sklearn.feature_extraction.text import TfidfVectorizer\n",
    "import nltk, string\n",
    "from collections import Counter\n",
    "from nltk.stem import WordNetLemmatizer \n",
    "import Levenshtein\n",
    "%matplotlib inline"
   ]
  },
  {
   "cell_type": "code",
   "execution_count": 2,
   "id": "357dd979",
   "metadata": {},
   "outputs": [
    {
     "name": "stderr",
     "output_type": "stream",
     "text": [
      "[nltk_data] Downloading package punkt to\n",
      "[nltk_data]     C:\\Users\\anike\\AppData\\Roaming\\nltk_data...\n",
      "[nltk_data]   Package punkt is already up-to-date!\n"
     ]
    },
    {
     "data": {
      "text/plain": [
       "True"
      ]
     },
     "execution_count": 2,
     "metadata": {},
     "output_type": "execute_result"
    }
   ],
   "source": [
    "nltk.download('punkt')"
   ]
  },
  {
   "cell_type": "code",
   "execution_count": 2,
   "id": "32189ea0",
   "metadata": {},
   "outputs": [],
   "source": [
    "# Setting seed\n",
    "global_seed = 42\n",
    "np.random.seed(42)\n",
    "random.seed(42)\n",
    "tf.random.set_seed(42)"
   ]
  },
  {
   "cell_type": "markdown",
   "id": "59ecacc4",
   "metadata": {},
   "source": [
    "**We have already extracted some features in the exploratory phase of the project. We will directly import data with those extracted features. We will start modelling with those features only. Then we will add features using word embeddings** "
   ]
  },
  {
   "cell_type": "markdown",
   "id": "e1957082",
   "metadata": {},
   "source": [
    "# Extracting word embedding features:average glove"
   ]
  },
  {
   "cell_type": "code",
   "execution_count": 11,
   "id": "a0917a97",
   "metadata": {},
   "outputs": [],
   "source": [
    "embeddings_index = dict()\n",
    "f = open('glove.6B.300d.txt', encoding=\"utf8\")\n",
    "for line in f:\n",
    "    values = line.split()\n",
    "    word = values[0]\n",
    "    coefs = np.asarray(values[1:], dtype='float32')\n",
    "    embeddings_index[word] = coefs\n",
    "f.close()"
   ]
  },
  {
   "cell_type": "code",
   "execution_count": 12,
   "id": "b27e67d9",
   "metadata": {},
   "outputs": [],
   "source": [
    "glove_words=set(embeddings_index.keys())"
   ]
  },
  {
   "cell_type": "markdown",
   "id": "2fa69ee7",
   "metadata": {},
   "source": [
    "## train sentence1 sentence representations"
   ]
  },
  {
   "cell_type": "code",
   "execution_count": 13,
   "id": "ec5f3d4a",
   "metadata": {},
   "outputs": [
    {
     "name": "stderr",
     "output_type": "stream",
     "text": [
      "100%|███████████████████████████████████████████████████████████████████████| 549361/549361 [00:22<00:00, 23936.04it/s]"
     ]
    },
    {
     "name": "stdout",
     "output_type": "stream",
     "text": [
      "549361\n",
      "300\n"
     ]
    },
    {
     "name": "stderr",
     "output_type": "stream",
     "text": [
      "\n"
     ]
    }
   ],
   "source": [
    "from tqdm import tqdm\n",
    "x_train_s1_tfidfw2v  = []\n",
    "for sentence in tqdm(train_df['sentence1_preprocessed'].values): \n",
    "    vector = np.zeros(300) \n",
    "    cnt_words =0\n",
    "    for word in sentence.split():\n",
    "        if word in glove_words:\n",
    "            vector += embeddings_index[word]\n",
    "            cnt_words += 1\n",
    "    if cnt_words != 0:\n",
    "        vector /= cnt_words\n",
    "    x_train_s1_tfidfw2v.append(vector)\n",
    "\n",
    "print(len(x_train_s1_tfidfw2v))\n",
    "print(len(x_train_s1_tfidfw2v[0]))"
   ]
  },
  {
   "cell_type": "markdown",
   "id": "9d24e10f",
   "metadata": {},
   "source": [
    "## train sentence2 sentence representations"
   ]
  },
  {
   "cell_type": "code",
   "execution_count": 14,
   "id": "78d46462",
   "metadata": {},
   "outputs": [
    {
     "name": "stderr",
     "output_type": "stream",
     "text": [
      "100%|███████████████████████████████████████████████████████████████████████| 549361/549361 [00:16<00:00, 33748.84it/s]"
     ]
    },
    {
     "name": "stdout",
     "output_type": "stream",
     "text": [
      "549361\n",
      "300\n"
     ]
    },
    {
     "name": "stderr",
     "output_type": "stream",
     "text": [
      "\n"
     ]
    }
   ],
   "source": [
    "from tqdm import tqdm\n",
    "x_train_s2_tfidfw2v  = []\n",
    "for sentence in tqdm(train_df['sentence2_preprocessed'].values): \n",
    "    vector = np.zeros(300) \n",
    "    cnt_words =0\n",
    "    for word in sentence.split(): \n",
    "        if word in glove_words:\n",
    "            vector += embeddings_index[word]\n",
    "            cnt_words += 1\n",
    "    if cnt_words != 0:\n",
    "        vector /= cnt_words\n",
    "    x_train_s2_tfidfw2v.append(vector)\n",
    "\n",
    "print(len(x_train_s2_tfidfw2v))\n",
    "print(len(x_train_s2_tfidfw2v[0]))"
   ]
  },
  {
   "cell_type": "markdown",
   "id": "472a0436",
   "metadata": {},
   "source": [
    "## validation sentence1 sentence representations"
   ]
  },
  {
   "cell_type": "code",
   "execution_count": 15,
   "id": "be48dd50",
   "metadata": {},
   "outputs": [
    {
     "name": "stderr",
     "output_type": "stream",
     "text": [
      "100%|███████████████████████████████████████████████████████████████████████████| 9842/9842 [00:00<00:00, 27434.12it/s]"
     ]
    },
    {
     "name": "stdout",
     "output_type": "stream",
     "text": [
      "9842\n",
      "300\n"
     ]
    },
    {
     "name": "stderr",
     "output_type": "stream",
     "text": [
      "\n"
     ]
    }
   ],
   "source": [
    "from tqdm import tqdm\n",
    "x_val_s1_tfidfw2v  = [];\n",
    "for sentence in tqdm(val_df['sentence1_preprocessed'].values): \n",
    "    vector = np.zeros(300) \n",
    "    cnt_words =0\n",
    "    for word in sentence.split(): \n",
    "        if word in glove_words:\n",
    "            vector += embeddings_index[word]\n",
    "            cnt_words += 1\n",
    "    if cnt_words != 0:\n",
    "        vector /= cnt_words\n",
    "    x_val_s1_tfidfw2v.append(vector)\n",
    "\n",
    "print(len(x_val_s1_tfidfw2v))\n",
    "print(len(x_val_s1_tfidfw2v[0]))"
   ]
  },
  {
   "cell_type": "markdown",
   "id": "4ebe7881",
   "metadata": {},
   "source": [
    "## validation sentence2 sentence representations"
   ]
  },
  {
   "cell_type": "code",
   "execution_count": 16,
   "id": "0f09e0d5",
   "metadata": {},
   "outputs": [
    {
     "name": "stderr",
     "output_type": "stream",
     "text": [
      "100%|███████████████████████████████████████████████████████████████████████████| 9842/9842 [00:00<00:00, 44841.91it/s]"
     ]
    },
    {
     "name": "stdout",
     "output_type": "stream",
     "text": [
      "9842\n",
      "300\n"
     ]
    },
    {
     "name": "stderr",
     "output_type": "stream",
     "text": [
      "\n"
     ]
    }
   ],
   "source": [
    "from tqdm import tqdm\n",
    "x_val_s2_tfidfw2v  = []\n",
    "for sentence in tqdm(val_df['sentence2_preprocessed'].values): \n",
    "    vector = np.zeros(300) \n",
    "    cnt_words =0\n",
    "    for word in sentence.split():\n",
    "        if word in glove_words:\n",
    "            vector += embeddings_index[word]\n",
    "            cnt_words += 1\n",
    "    if cnt_words != 0:\n",
    "        vector /= cnt_words\n",
    "    x_val_s2_tfidfw2v.append(vector)\n",
    "\n",
    "print(len(x_val_s2_tfidfw2v))\n",
    "print(len(x_val_s2_tfidfw2v[0]))"
   ]
  },
  {
   "cell_type": "markdown",
   "id": "36ce42ad",
   "metadata": {},
   "source": [
    "## test sentence1 sentence representations"
   ]
  },
  {
   "cell_type": "code",
   "execution_count": 17,
   "id": "37390973",
   "metadata": {},
   "outputs": [
    {
     "name": "stderr",
     "output_type": "stream",
     "text": [
      "100%|███████████████████████████████████████████████████████████████████████████| 9824/9824 [00:00<00:00, 28765.11it/s]"
     ]
    },
    {
     "name": "stdout",
     "output_type": "stream",
     "text": [
      "9824\n",
      "300\n"
     ]
    },
    {
     "name": "stderr",
     "output_type": "stream",
     "text": [
      "\n"
     ]
    }
   ],
   "source": [
    "from tqdm import tqdm\n",
    "x_test_s1_tfidfw2v  = []; \n",
    "for sentence in tqdm(test_df['sentence1_preprocessed'].values): \n",
    "    vector = np.zeros(300) \n",
    "    cnt_words =0; \n",
    "    for word in sentence.split(): \n",
    "        if word in glove_words:\n",
    "            vector += embeddings_index[word]\n",
    "            cnt_words += 1\n",
    "    if cnt_words != 0:\n",
    "        vector /= cnt_words\n",
    "    x_test_s1_tfidfw2v.append(vector)\n",
    "\n",
    "print(len(x_test_s1_tfidfw2v))\n",
    "print(len(x_test_s1_tfidfw2v[0]))"
   ]
  },
  {
   "cell_type": "markdown",
   "id": "73332614",
   "metadata": {},
   "source": [
    "## test sentence2 sentence representations"
   ]
  },
  {
   "cell_type": "code",
   "execution_count": 18,
   "id": "795060c4",
   "metadata": {},
   "outputs": [
    {
     "name": "stderr",
     "output_type": "stream",
     "text": [
      "100%|███████████████████████████████████████████████████████████████████████████| 9824/9824 [00:00<00:00, 40082.10it/s]"
     ]
    },
    {
     "name": "stdout",
     "output_type": "stream",
     "text": [
      "9824\n",
      "300\n"
     ]
    },
    {
     "name": "stderr",
     "output_type": "stream",
     "text": [
      "\n"
     ]
    }
   ],
   "source": [
    "from tqdm import tqdm\n",
    "x_test_s2_tfidfw2v  = []; \n",
    "for sentence in tqdm(test_df['sentence2_preprocessed'].values): \n",
    "    vector = np.zeros(300) \n",
    "    cnt_words =0\n",
    "    for word in sentence.split(): \n",
    "        if word in glove_words:\n",
    "            vector += embeddings_index[word]\n",
    "            cnt_words += 1\n",
    "    if cnt_words != 0:\n",
    "        vector /= cnt_words\n",
    "    x_test_s2_tfidfw2v.append(vector)\n",
    "\n",
    "print(len(x_test_s2_tfidfw2v))\n",
    "print(len(x_test_s2_tfidfw2v[0]))"
   ]
  },
  {
   "cell_type": "code",
   "execution_count": 19,
   "id": "5c66973e",
   "metadata": {},
   "outputs": [
    {
     "name": "stdout",
     "output_type": "stream",
     "text": [
      "<class 'list'>\n",
      "<class 'numpy.ndarray'>\n"
     ]
    }
   ],
   "source": [
    "print(type(x_train_s1_tfidfw2v))\n",
    "print(type(x_train_s1_tfidfw2v[0]))"
   ]
  },
  {
   "cell_type": "code",
   "execution_count": 20,
   "id": "b58ca9e8",
   "metadata": {},
   "outputs": [
    {
     "name": "stdout",
     "output_type": "stream",
     "text": [
      "<class 'pandas.core.frame.DataFrame'>\n"
     ]
    }
   ],
   "source": [
    "print(type(X_train))"
   ]
  },
  {
   "cell_type": "code",
   "execution_count": 21,
   "id": "a792406e",
   "metadata": {},
   "outputs": [],
   "source": [
    "x_train_s1_tfidfw2v = np.vstack(x_train_s1_tfidfw2v)\n",
    "x_train_s2_tfidfw2v = np.vstack(x_train_s2_tfidfw2v)\n",
    "x_val_s1_tfidfw2v = np.vstack(x_val_s1_tfidfw2v)\n",
    "x_val_s2_tfidfw2v = np.vstack(x_val_s2_tfidfw2v)\n"
   ]
  },
  {
   "cell_type": "code",
   "execution_count": 22,
   "id": "02973bab",
   "metadata": {},
   "outputs": [],
   "source": [
    "x_test_s1_tfidfw2v = np.vstack(x_test_s1_tfidfw2v)\n",
    "x_test_s2_tfidfw2v = np.vstack(x_test_s2_tfidfw2v)"
   ]
  },
  {
   "cell_type": "code",
   "execution_count": 23,
   "id": "a972c20b",
   "metadata": {},
   "outputs": [],
   "source": [
    "np.save('x_train_s1_tfidfw2v.npy', x_train_s1_tfidfw2v)\n",
    "np.save('x_train_s2_tfidfw2v.npy', x_train_s2_tfidfw2v)\n",
    "np.save('x_val_s1_tfidfw2v.npy', x_val_s1_tfidfw2v)\n",
    "np.save('x_val_s2_tfidfw2v.npy', x_val_s2_tfidfw2v)\n",
    "np.save('x_test_s1_tfidfw2v.npy', x_test_s1_tfidfw2v)\n",
    "np.save('x_test_s2_tfidfw2v.npy', x_test_s2_tfidfw2v)"
   ]
  },
  {
   "cell_type": "code",
   "execution_count": 13,
   "id": "0dc4e3d2",
   "metadata": {},
   "outputs": [],
   "source": [
    "x_train_s1_tfidfw2v = np.load('x_train_s1_tfidfw2v.npy')\n",
    "x_train_s2_tfidfw2v = np.load('x_train_s2_tfidfw2v.npy')\n",
    "x_val_s1_tfidfw2v = np.load('x_val_s1_tfidfw2v.npy')\n",
    "x_val_s2_tfidfw2v = np.load('x_val_s2_tfidfw2v.npy')\n",
    "x_test_s1_tfidfw2v = np.load('x_test_s1_tfidfw2v.npy')\n",
    "x_test_s2_tfidfw2v = np.load('x_test_s2_tfidfw2v.npy')"
   ]
  },
  {
   "cell_type": "markdown",
   "id": "26e4b62b",
   "metadata": {},
   "source": [
    "## cosine similarity between average glove"
   ]
  },
  {
   "cell_type": "code",
   "execution_count": 29,
   "id": "0eebe426",
   "metadata": {},
   "outputs": [],
   "source": [
    "def tfidf_w2v_cosine(mat1, mat2):\n",
    "    \"\"\"\n",
    "    Given two matrices, returns a list of cosine similarities between rows of those matrices\n",
    "    \"\"\"\n",
    "    \n",
    "    from scipy.spatial.distance import cosine\n",
    "    sim = [1-cosine(i,j) for i,j in zip(mat1, mat2)]\n",
    "    return sim\n",
    "    \n",
    "        \n",
    "        "
   ]
  },
  {
   "cell_type": "code",
   "execution_count": 30,
   "id": "3ee0dad5",
   "metadata": {},
   "outputs": [
    {
     "name": "stderr",
     "output_type": "stream",
     "text": [
      "C:\\Users\\anike\\.conda\\envs\\tf_test\\lib\\site-packages\\scipy\\spatial\\distance.py:720: RuntimeWarning: invalid value encountered in double_scalars\n",
      "  dist = 1.0 - uv / np.sqrt(uu * vv)\n"
     ]
    }
   ],
   "source": [
    "train_tfidf_w2v_cosine = tfidf_w2v_cosine(x_train_s1_tfidfw2v, x_train_s2_tfidfw2v)"
   ]
  },
  {
   "cell_type": "code",
   "execution_count": 36,
   "id": "f08995ce",
   "metadata": {},
   "outputs": [],
   "source": [
    "val_tfidf_w2v_cosine = tfidf_w2v_cosine(x_val_s1_tfidfw2v, x_val_s2_tfidfw2v)"
   ]
  },
  {
   "cell_type": "code",
   "execution_count": 41,
   "id": "49c47ffc",
   "metadata": {},
   "outputs": [],
   "source": [
    "test_tfidf_w2v_cosine = tfidf_w2v_cosine(x_test_s1_tfidfw2v, x_test_s2_tfidfw2v)"
   ]
  },
  {
   "cell_type": "code",
   "execution_count": 42,
   "id": "d3d60d02",
   "metadata": {},
   "outputs": [],
   "source": [
    "train_df['tfidf_w2v_cosine'] = train_tfidf_w2v_cosine\n",
    "val_df['tfidf_w2v_cosine'] = val_tfidf_w2v_cosine\n",
    "test_df['tfidf_w2v_cosine'] = test_tfidf_w2v_cosine"
   ]
  },
  {
   "cell_type": "code",
   "execution_count": 69,
   "id": "59048dfa",
   "metadata": {},
   "outputs": [],
   "source": [
    "train_df = train_df.fillna(0)"
   ]
  },
  {
   "cell_type": "code",
   "execution_count": 43,
   "id": "66f67dd9",
   "metadata": {},
   "outputs": [
    {
     "data": {
      "image/png": "[encoded data removed]",
      "text/plain": [
       "<Figure size 504x504 with 1 Axes>"
      ]
     },
     "metadata": {
      "needs_background": "light"
     },
     "output_type": "display_data"
    }
   ],
   "source": [
    "fig,ax = plt.subplots(1,1, figsize=(7,7))\n",
    "sns.boxplot(x = train_df['gold_label'], y = train_df['tfidf_w2v_cosine'], ax = ax)\n",
    "ax.set_title('box plot of tfidf weighted w2v between premise and hypothesis for each label', fontdict = {'fontsize': 20})\n",
    "ax.set_ylabel('tfidf weighted w2v')\n",
    "plt.tight_layout()\n",
    "plt.show()"
   ]
  },
  {
   "cell_type": "markdown",
   "id": "5b7911f0",
   "metadata": {},
   "source": [
    "**As expected, the tfidf weighted w2v similarity between two sentences is more for entailment sentences. It is least for contradictory sentences**"
   ]
  },
  {
   "cell_type": "code",
   "execution_count": 44,
   "id": "c75328b4",
   "metadata": {},
   "outputs": [
    {
     "data": {
      "image/png": "[encoded data removed]",
      "text/plain": [
       "<Figure size 720x504 with 1 Axes>"
      ]
     },
     "metadata": {
      "needs_background": "light"
     },
     "output_type": "display_data"
    }
   ],
   "source": [
    "fig,ax = plt.subplots(1,1, figsize=(10,7))\n",
    "sns.kdeplot(x = train_df[train_df['gold_label'] == 'entailment']['tfidf_w2v_cosine'], ax = ax, label = 'entailment')\n",
    "sns.kdeplot(x = train_df[train_df['gold_label'] == 'contradiction']['tfidf_w2v_cosine'], ax = ax, label = 'contradiction')\n",
    "sns.kdeplot(x = train_df[train_df['gold_label'] == 'neutral']['tfidf_w2v_cosine'], ax = ax, label = 'neutral')\n",
    "ax.set_xlabel('tfidf_w2v_cosine')\n",
    "ax.set_ylabel('density')\n",
    "ax.set_title('distribution of tfidf weighted w2v cosine similarity between  sentence 1 and sentence 2', fontdict = {'fontsize': 20})\n",
    "plt.legend()\n",
    "plt.show()"
   ]
  },
  {
   "cell_type": "code",
   "execution_count": 70,
   "id": "1bd9576b",
   "metadata": {},
   "outputs": [],
   "source": [
    "train_df.to_csv('train_df.csv')\n",
    "val_df.to_csv('val_df.csv')\n",
    "test_df.to_csv('test_df.csv')"
   ]
  },
  {
   "cell_type": "code",
   "execution_count": 71,
   "id": "ec9b33ab",
   "metadata": {},
   "outputs": [],
   "source": [
    "train_df = pd.read_csv('train_df.csv', index_col = 0)\n",
    "val_df = pd.read_csv('val_df.csv', index_col = 0)\n",
    "test_df = pd.read_csv('test_df.csv', index_col = 0)"
   ]
  },
  {
   "cell_type": "code",
   "execution_count": 72,
   "id": "dabba448",
   "metadata": {},
   "outputs": [],
   "source": [
    "to_keep_x = ['sentence1_num_words', 'sentence2_num_words', 'log_bleu_score', 'sum_polarity', 'diff_subjectivity',\n",
    "       'cosine_similarity', 'tfidf_cosine_sim', 'diff_num_words', 's1_CC',\n",
    "       's1_IN', 's1_JJ', 's1_JJR', 's1_JJS','s1_PRP', 's1_PRP$', 's1_RB', 's1_RBR', 's1_RBS', 's1_UH', 's1_VBP', 's1_VBZ', 's2_CC', 's2_IN',\n",
    "       's2_JJ', 's2_JJR', 's2_JJS', 's2_NN', 's2_NNP', 's2_NNS', 's2_PRP',\n",
    "       's2_PRP$', 's2_RB', 's2_RBR', 's2_RBS', 's2_UH', 's2_VB', 's2_VBD',\n",
    "       's2_VBG', 's2_VBN', 's2_VBP', 's2_VBZ', 'ratio_noun', 'ratio_verb', 'levenshtein_dist', 'tfidf_w2v_cosine']\n",
    "\n",
    "X_train = train_df[to_keep_x]\n",
    "y_train = train_df['gold_label']\n",
    "X_val = val_df[to_keep_x]\n",
    "y_val = val_df['gold_label']"
   ]
  },
  {
   "cell_type": "markdown",
   "id": "8f780dcb",
   "metadata": {},
   "source": [
    "# Training random forest model without average glove vectors"
   ]
  },
  {
   "cell_type": "code",
   "execution_count": 73,
   "id": "0fa4f4e4",
   "metadata": {},
   "outputs": [
    {
     "data": {
      "text/plain": [
       "RandomForestClassifier(max_depth=80, min_samples_leaf=2, min_samples_split=10,\n",
       "                       n_estimators=800)"
      ]
     },
     "execution_count": 73,
     "metadata": {},
     "output_type": "execute_result"
    }
   ],
   "source": [
    "from sklearn.ensemble import RandomForestClassifier\n",
    "model2 = RandomForestClassifier(max_depth=80, min_samples_leaf=2, min_samples_split=10,\n",
    "                       n_estimators=800)\n",
    "model2.fit(X_train, y_train)"
   ]
  },
  {
   "cell_type": "code",
   "execution_count": 75,
   "id": "d0c603bc",
   "metadata": {},
   "outputs": [
    {
     "data": {
      "text/plain": [
       "0.5821987400934769"
      ]
     },
     "execution_count": 75,
     "metadata": {},
     "output_type": "execute_result"
    }
   ],
   "source": [
    "val_pred = model2.predict(X_val)\n",
    "\n",
    "from sklearn.metrics import accuracy_score\n",
    "acc = accuracy_score(y_val, val_pred)\n",
    "\n",
    "acc"
   ]
  },
  {
   "cell_type": "markdown",
   "id": "f4a9fdbd",
   "metadata": {},
   "source": [
    "**with only extracted features we are getting accuracy of 0.58**"
   ]
  },
  {
   "cell_type": "code",
   "execution_count": 77,
   "id": "36f98232",
   "metadata": {},
   "outputs": [
    {
     "data": {
      "image/png": "[encoded data removed]",
      "text/plain": [
       "<Figure size 864x720 with 1 Axes>"
      ]
     },
     "metadata": {
      "needs_background": "light"
     },
     "output_type": "display_data"
    }
   ],
   "source": [
    "importance = model2.feature_importances_\n",
    "\n",
    "# Plotting feature importance\n",
    "columns = train_df[to_keep_x].columns\n",
    "x_pos = np.arange(len(columns))\n",
    "plt.figure(figsize = (12,10))\n",
    "plt.bar(x_pos, importance)\n",
    "plt.xticks(x_pos, columns, rotation='vertical')\n",
    "plt.show()\n",
    "#plt.plot(np.array(range(0,47)), importance, 'bo' )"
   ]
  },
  {
   "cell_type": "markdown",
   "id": "a7301e09",
   "metadata": {},
   "source": [
    "# Training model with extracted features + avg glove vectors of both sentences"
   ]
  },
  {
   "cell_type": "code",
   "execution_count": 84,
   "id": "dc7dc020",
   "metadata": {},
   "outputs": [],
   "source": [
    "x_train = np.hstack((X_train, x_train_s1_tfidfw2v, x_train_s2_tfidfw2v))\n",
    "x_val = np.hstack((X_val, x_val_s1_tfidfw2v, x_val_s2_tfidfw2v))"
   ]
  },
  {
   "cell_type": "code",
   "execution_count": 86,
   "id": "9cfcb232",
   "metadata": {},
   "outputs": [
    {
     "data": {
      "text/plain": [
       "RandomForestClassifier(max_depth=80, min_samples_leaf=2, min_samples_split=10,\n",
       "                       n_estimators=800)"
      ]
     },
     "execution_count": 86,
     "metadata": {},
     "output_type": "execute_result"
    }
   ],
   "source": [
    "from sklearn.ensemble import RandomForestClassifier\n",
    "model3 = RandomForestClassifier(max_depth=80, min_samples_leaf=2, min_samples_split=10,\n",
    "                       n_estimators=800)\n",
    "model3.fit(x_train, y_train)"
   ]
  },
  {
   "cell_type": "code",
   "execution_count": 88,
   "id": "85dbf41c",
   "metadata": {},
   "outputs": [
    {
     "data": {
      "text/plain": [
       "0.6633814265393213"
      ]
     },
     "execution_count": 88,
     "metadata": {},
     "output_type": "execute_result"
    }
   ],
   "source": [
    "val_pred = model3.predict(x_val)\n",
    "\n",
    "from sklearn.metrics import accuracy_score\n",
    "acc = accuracy_score(y_val, val_pred)\n",
    "\n",
    "acc"
   ]
  },
  {
   "cell_type": "markdown",
   "id": "ba1e565d",
   "metadata": {},
   "source": [
    "**after including average word vectors accuracy increases to 0.66**"
   ]
  },
  {
   "cell_type": "markdown",
   "id": "ee88ed9d",
   "metadata": {},
   "source": [
    "## Considering ngrams: tfidf cosine similarity with bigrams, trigrams and quadgrams"
   ]
  },
  {
   "cell_type": "code",
   "execution_count": 89,
   "id": "d1f5b784",
   "metadata": {},
   "outputs": [],
   "source": [
    "#https://stackoverflow.com/questions/8897593/how-to-compute-the-similarity-between-two-text-documents\n",
    "stemmer = nltk.stem.porter.PorterStemmer()\n",
    "remove_punctuation_map = dict((ord(char), None) for char in string.punctuation)\n",
    "\n",
    "def stem_tokens(tokens):\n",
    "    return [stemmer.stem(item) for item in tokens]\n",
    "\n",
    "'''remove punctuation, lowercase, stem'''\n",
    "def normalize(text):\n",
    "    return stem_tokens(nltk.word_tokenize(text.lower().translate(remove_punctuation_map)))\n",
    "\n",
    "vectorizer = TfidfVectorizer(tokenizer=normalize, ngram_range=(2, 4))#we gave ngram_range equal to 2 to 4\n",
    "\n",
    "def cosine_sim(text1, text2):\n",
    "    tfidf = vectorizer.fit_transform([text1, text2])\n",
    "    return ((tfidf * tfidf.T).A)[0,1]"
   ]
  },
  {
   "cell_type": "markdown",
   "id": "d76bddcc",
   "metadata": {},
   "source": [
    "### ngram tfidf cosine similarity for training data"
   ]
  },
  {
   "cell_type": "code",
   "execution_count": 90,
   "id": "dc8da6f3",
   "metadata": {},
   "outputs": [],
   "source": [
    "tfidf_cos_sim_ngram = list()\n",
    "for i,row in train_df.iterrows():\n",
    "    cos_sim = cosine_sim(row['sentence1'], row['sentence2'])\n",
    "    tfidf_cos_sim_ngram.append(cos_sim)\n",
    "\n",
    "train_df['tfidf_cosine_sim_ngram'] = tfidf_cos_sim_ngram"
   ]
  },
  {
   "cell_type": "markdown",
   "id": "61a9f908",
   "metadata": {},
   "source": [
    "### ngram tfidf cosine similarity for val data"
   ]
  },
  {
   "cell_type": "code",
   "execution_count": 91,
   "id": "35b8d51c",
   "metadata": {},
   "outputs": [],
   "source": [
    "tfidf_cos_sim_ngram = list()\n",
    "for i,row in val_df.iterrows():\n",
    "    cos_sim = cosine_sim(row['sentence1'], row['sentence2'])\n",
    "    tfidf_cos_sim_ngram.append(cos_sim)\n",
    "\n",
    "val_df['tfidf_cosine_sim_ngram'] = tfidf_cos_sim_ngram"
   ]
  },
  {
   "cell_type": "markdown",
   "id": "c5078520",
   "metadata": {},
   "source": [
    "### ngram tfidf cosine similarity for test data"
   ]
  },
  {
   "cell_type": "code",
   "execution_count": 92,
   "id": "9a09e942",
   "metadata": {},
   "outputs": [],
   "source": [
    "tfidf_cos_sim_ngram = list()\n",
    "for i,row in test_df.iterrows():\n",
    "    cos_sim = cosine_sim(row['sentence1'], row['sentence2'])\n",
    "    tfidf_cos_sim_ngram.append(cos_sim)\n",
    "\n",
    "test_df['tfidf_cosine_sim_ngram'] = tfidf_cos_sim_ngram"
   ]
  },
  {
   "cell_type": "code",
   "execution_count": 94,
   "id": "4e08f6d6",
   "metadata": {},
   "outputs": [
    {
     "data": {
      "image/png": "[encoded data removed]",
      "text/plain": [
       "<Figure size 504x504 with 1 Axes>"
      ]
     },
     "metadata": {
      "needs_background": "light"
     },
     "output_type": "display_data"
    }
   ],
   "source": [
    "fig,ax = plt.subplots(1,1, figsize=(7,7))\n",
    "sns.boxplot(x = train_df['gold_label'], y = train_df['tfidf_cosine_sim_ngram'], ax = ax)\n",
    "ax.set_title('box plot of tfidf_cosine_sim_ngram between premise and hypothesis for each label', fontdict = {'fontsize': 20})\n",
    "ax.set_ylabel('tfidf_cosine_sim')\n",
    "plt.tight_layout()\n",
    "plt.show()\n",
    "\n"
   ]
  },
  {
   "cell_type": "code",
   "execution_count": 95,
   "id": "178da609",
   "metadata": {},
   "outputs": [
    {
     "data": {
      "image/png": "[encoded data removed]",
      "text/plain": [
       "<Figure size 720x504 with 1 Axes>"
      ]
     },
     "metadata": {
      "needs_background": "light"
     },
     "output_type": "display_data"
    }
   ],
   "source": [
    "fig,ax = plt.subplots(1,1, figsize=(10,7))\n",
    "sns.kdeplot(x = train_df[train_df['gold_label'] == 'entailment']['tfidf_cosine_sim_ngram'], ax = ax, label = 'entailment')\n",
    "sns.kdeplot(x = train_df[train_df['gold_label'] == 'contradiction']['tfidf_cosine_sim_ngram'], ax = ax, label = 'contradiction')\n",
    "sns.kdeplot(x = train_df[train_df['gold_label'] == 'neutral']['tfidf_cosine_sim_ngram'], ax = ax, label = 'neutral')\n",
    "ax.set_xlabel('tfidf_cosine_sim_ngram')\n",
    "ax.set_ylabel('density')\n",
    "ax.set_title('distribution of tfidf_cosine_sim_ngram between  sentence 1 and sentence 2', fontdict = {'fontsize': 20})\n",
    "plt.legend()\n",
    "plt.show()"
   ]
  },
  {
   "cell_type": "code",
   "execution_count": 99,
   "id": "69bd1216",
   "metadata": {},
   "outputs": [],
   "source": [
    "train_df.to_csv('train_df.csv')\n",
    "val_df.to_csv('val_df.csv')\n",
    "test_df.to_csv('test_df.csv')"
   ]
  },
  {
   "cell_type": "code",
   "execution_count": 5,
   "id": "baea51fc",
   "metadata": {},
   "outputs": [],
   "source": [
    "train_df = pd.read_csv('train_df.csv', index_col = 0)\n",
    "val_df = pd.read_csv('val_df.csv', index_col = 0)\n",
    "test_df = pd.read_csv('test_df.csv', index_col = 0)"
   ]
  },
  {
   "cell_type": "code",
   "execution_count": 3,
   "id": "3abe7829",
   "metadata": {},
   "outputs": [],
   "source": [
    "to_keep = ['sentence1_num_words', 'sentence2_num_words',\n",
    "       'log_bleu_score', 'sentence1_polarity',\n",
    "       'sentence2_polarity', 'sentence1_subjectivity',\n",
    "       'sentence2_subjectivity', \n",
    "       'cosine_similarity', 'tfidf_cosine_sim', 's1_CC',\n",
    "       's1_IN', 's1_JJ', 's1_JJR', 's1_JJS', 's1_NN', 's1_NNP', 's1_NNS',\n",
    "       's1_PRP', 's1_PRP$', 's1_RB', 's1_RBR', 's1_RBS', 's1_UH', 's1_VB',\n",
    "       's1_VBD', 's1_VBG', 's1_VBN', 's1_VBP', 's1_VBZ', 's2_CC', 's2_IN',\n",
    "       's2_JJ', 's2_JJR', 's2_JJS', 's2_NN', 's2_NNP', 's2_NNS', 's2_PRP',\n",
    "       's2_PRP$', 's2_RB', 's2_RBR', 's2_RBS', 's2_UH', 's2_VB', 's2_VBD',\n",
    "       's2_VBG', 's2_VBN', 's2_VBP', 's2_VBZ', 'levenshtein_dist', 'tfidf_w2v_cosine',\n",
    "       'tfidf_cosine_sim_ngram']"
   ]
  },
  {
   "cell_type": "code",
   "execution_count": 4,
   "id": "fa098dbb",
   "metadata": {},
   "outputs": [],
   "source": [
    "X_train = train_df[to_keep]\n",
    "y_train = train_df['gold_label']\n",
    "X_val = val_df[to_keep]\n",
    "y_val = val_df['gold_label']"
   ]
  },
  {
   "cell_type": "code",
   "execution_count": 7,
   "id": "4c8f2f36",
   "metadata": {},
   "outputs": [],
   "source": [
    "x_train = np.hstack((X_train, x_train_s1_tfidfw2v, x_train_s2_tfidfw2v))\n",
    "x_val = np.hstack((X_val, x_val_s1_tfidfw2v, x_val_s2_tfidfw2v))"
   ]
  },
  {
   "cell_type": "code",
   "execution_count": 26,
   "id": "a94359d1",
   "metadata": {},
   "outputs": [
    {
     "data": {
      "text/plain": [
       "RandomForestClassifier(max_depth=80, min_samples_leaf=2, min_samples_split=10,\n",
       "                       n_estimators=800)"
      ]
     },
     "execution_count": 26,
     "metadata": {},
     "output_type": "execute_result"
    }
   ],
   "source": [
    "from sklearn.ensemble import RandomForestClassifier\n",
    "model4 = RandomForestClassifier(max_depth=80, min_samples_leaf=2, min_samples_split=10,\n",
    "                       n_estimators=800)\n",
    "model4.fit(x_train, y_train)\n",
    "\n"
   ]
  },
  {
   "cell_type": "code",
   "execution_count": 27,
   "id": "702e76f0",
   "metadata": {},
   "outputs": [
    {
     "data": {
      "text/plain": [
       "0.662466978256452"
      ]
     },
     "execution_count": 27,
     "metadata": {},
     "output_type": "execute_result"
    }
   ],
   "source": [
    "val_pred = model4.predict(x_val)\n",
    "from sklearn.metrics import accuracy_score\n",
    "acc = accuracy_score(y_val, val_pred)\n",
    "acc"
   ]
  },
  {
   "cell_type": "markdown",
   "id": "acfe2e7c",
   "metadata": {},
   "source": [
    "**random forest best score 0.66 on validation set**"
   ]
  },
  {
   "cell_type": "markdown",
   "id": "d4b39680",
   "metadata": {},
   "source": [
    "# XGBoost"
   ]
  },
  {
   "cell_type": "code",
   "execution_count": 32,
   "id": "3bb9e482",
   "metadata": {},
   "outputs": [],
   "source": [
    "to_keep = ['log_bleu_score', 'sum_polarity', 'diff_subjectivity',\n",
    "       'cosine_similarity', 'tfidf_cosine_sim', 'diff_num_words', 's1_CC',\n",
    "       's1_IN','s1_PRP', 's1_PRP$', 's1_RB', 's1_RBR', 's1_RBS', 's1_UH', 's1_VB', 's2_CC', 's2_IN', 's2_PRP',\n",
    "       's2_PRP$', 's2_RB', 's2_RBR', 's2_RBS', 's2_UH', 'ratio_noun', 'ratio_verb', \n",
    "       'diff_adjective', 'levenshtein_dist', 'tfidf_w2v_cosine',\n",
    "       'tfidf_cosine_sim_ngram']"
   ]
  },
  {
   "cell_type": "code",
   "execution_count": 5,
   "id": "c31625cd",
   "metadata": {},
   "outputs": [],
   "source": [
    "X_train = train_df[to_keep]\n",
    "y_train = train_df['gold_label']\n",
    "X_val = val_df[to_keep]\n",
    "y_val = val_df['gold_label']\n"
   ]
  },
  {
   "cell_type": "code",
   "execution_count": null,
   "id": "4f07805b",
   "metadata": {},
   "outputs": [],
   "source": [
    "x_train = np.hstack((X_train, x_train_s1_tfidfw2v, x_train_s2_tfidfw2v))\n",
    "x_val = np.hstack((X_val, x_val_s1_tfidfw2v, x_val_s2_tfidfw2v))"
   ]
  },
  {
   "cell_type": "code",
   "execution_count": 7,
   "id": "18eec2d7",
   "metadata": {},
   "outputs": [],
   "source": [
    "#classes for grid search and cross-validation, function for splitting data and evaluating models\n",
    "from sklearn.model_selection import GridSearchCV,RandomizedSearchCV,train_test_split\n",
    "from sklearn.metrics import accuracy_score,f1_score,roc_auc_score,confusion_matrix,roc_curve\n",
    "X_tr, X_te, y_tr, y_te = train_test_split(X_train, y_train, test_size = 0.4,  stratify = y_train)"
   ]
  },
  {
   "cell_type": "code",
   "execution_count": 10,
   "id": "bd82e67c",
   "metadata": {},
   "outputs": [
    {
     "name": "stderr",
     "output_type": "stream",
     "text": [
      "C:\\Users\\anike\\.conda\\envs\\tf_test\\lib\\site-packages\\xgboost\\sklearn.py:1224: UserWarning: The use of label encoder in XGBClassifier is deprecated and will be removed in a future release. To remove this warning, do the following: 1) Pass option use_label_encoder=False when constructing XGBClassifier object; and 2) Encode your labels (y) as integers starting with 0, i.e. 0, 1, 2, ..., [num_class - 1].\n",
      "  warnings.warn(label_encoder_deprecation_msg, UserWarning)\n"
     ]
    },
    {
     "name": "stdout",
     "output_type": "stream",
     "text": [
      "[14:03:35] WARNING: C:/Users/Administrator/workspace/xgboost-win64_release_1.5.1/src/learner.cc:1115: Starting in XGBoost 1.3.0, the default evaluation metric used with the objective 'multi:softprob' was changed from 'merror' to 'mlogloss'. Explicitly set eval_metric if you'd like to restore the old behavior.\n"
     ]
    },
    {
     "data": {
      "text/plain": [
       "RandomizedSearchCV(cv=4,\n",
       "                   estimator=XGBClassifier(base_score=None, booster=None,\n",
       "                                           colsample_bylevel=None,\n",
       "                                           colsample_bynode=None,\n",
       "                                           colsample_bytree=None,\n",
       "                                           enable_categorical=False, gamma=None,\n",
       "                                           gpu_id=None, importance_type=None,\n",
       "                                           interaction_constraints=None,\n",
       "                                           learning_rate=None,\n",
       "                                           max_delta_step=None, max_depth=None,\n",
       "                                           min_child_weight=None, missing=nan,\n",
       "                                           monotone_constraints...\n",
       "                                           subsample=None, tree_method=None,\n",
       "                                           validate_parameters=None,\n",
       "                                           verbosity=None),\n",
       "                   n_iter=50, n_jobs=6,\n",
       "                   param_distributions={'gamma': [0, 0.1, 0.4, 0.8, 3.2, 6.4,\n",
       "                                                  25.6, 102.4, 200],\n",
       "                                        'learning_rate': [0.01, 0.001, 0.1,\n",
       "                                                          0.5],\n",
       "                                        'max_depth': [3, 4, 5, 9, 12],\n",
       "                                        'n_estimators': [50, 100, 200, 400,\n",
       "                                                         800],\n",
       "                                        'reg_alpha': [0, 0.1, 0.001, 1, 5, 100,\n",
       "                                                      200],\n",
       "                                        'reg_lambda': [0, 0.1, 0.001, 1, 5, 100,\n",
       "                                                       200]},\n",
       "                   random_state=42)"
      ]
     },
     "execution_count": 10,
     "metadata": {},
     "output_type": "execute_result"
    }
   ],
   "source": [
    "# hyperparameter tuning\n",
    "#XGBoost library\n",
    "import xgboost as xgb\n",
    "from sklearn.model_selection import RandomizedSearchCV\n",
    "param_grid = {'gamma': [0,0.1,0.4,0.8,3.2,6.4,25.6,102.4, 200],\n",
    "              'learning_rate': [0.01,0.001, 0.1, 0.5],\n",
    "              'max_depth': [3,4,5,9,12],\n",
    "              'n_estimators': [50,100,200,400,800],\n",
    "              'reg_alpha': [0,0.1,0.001,1,5,100,200],\n",
    "              'reg_lambda': [0,0.1,0.001,1,5,100,200]}\n",
    "xgbc = xgb.XGBClassifier()\n",
    "# Random search of parameters, using 3 fold cross validation, \n",
    "# search across 100 different combinations, and use all available cores\n",
    "xgb_random = RandomizedSearchCV(estimator = xgbc, param_distributions = param_grid, n_iter = 50, cv = 4, random_state=42, n_jobs = 6)\n",
    "# Fit the random search model\n",
    "xgb_random.fit(X_tr, y_tr)"
   ]
  },
  {
   "cell_type": "code",
   "execution_count": 11,
   "id": "064f3358",
   "metadata": {},
   "outputs": [
    {
     "data": {
      "text/plain": [
       "XGBClassifier(base_score=0.5, booster='gbtree', colsample_bylevel=1,\n",
       "              colsample_bynode=1, colsample_bytree=1, enable_categorical=False,\n",
       "              gamma=0.1, gpu_id=-1, importance_type=None,\n",
       "              interaction_constraints='', learning_rate=0.1, max_delta_step=0,\n",
       "              max_depth=12, min_child_weight=1, missing=nan,\n",
       "              monotone_constraints='()', n_estimators=200, n_jobs=16,\n",
       "              num_parallel_tree=1, objective='multi:softprob', predictor='auto',\n",
       "              random_state=0, reg_alpha=0, reg_lambda=100,\n",
       "              scale_pos_weight=None, subsample=1, tree_method='exact',\n",
       "              validate_parameters=1, verbosity=None)"
      ]
     },
     "execution_count": 11,
     "metadata": {},
     "output_type": "execute_result"
    }
   ],
   "source": [
    "xgb_random.best_estimator_"
   ]
  },
  {
   "cell_type": "code",
   "execution_count": 14,
   "id": "d6108388",
   "metadata": {},
   "outputs": [],
   "source": [
    "X_train = train_df[to_keep]\n",
    "y_train = train_df['gold_label']\n",
    "X_val = val_df[to_keep]\n",
    "y_val = val_df['gold_label']\n",
    "x_train = np.hstack((X_train, x_train_s1_tfidfw2v, x_train_s2_tfidfw2v))\n",
    "x_val = np.hstack((X_val, x_val_s1_tfidfw2v, x_val_s2_tfidfw2v))"
   ]
  },
  {
   "cell_type": "code",
   "execution_count": 18,
   "id": "460efe87",
   "metadata": {},
   "outputs": [],
   "source": [
    "xgbc = xgb.XGBClassifier(base_score=0.5, booster='gbtree', colsample_bylevel=1,\n",
    "              colsample_bynode=1, colsample_bytree=1, enable_categorical=False,\n",
    "              gamma=0.1, gpu_id=-1, importance_type=None,\n",
    "              interaction_constraints='', learning_rate=0.1, max_delta_step=0,\n",
    "              max_depth=12, min_child_weight=1, missing=np.nan,\n",
    "              monotone_constraints='()', n_estimators=200, n_jobs=16,\n",
    "              num_parallel_tree=1, objective='multi:softprob', predictor='auto',\n",
    "              random_state=0, reg_alpha=0, reg_lambda=100,\n",
    "              scale_pos_weight=None, subsample=1, tree_method='exact',\n",
    "              validate_parameters=1, verbosity=None)"
   ]
  },
  {
   "cell_type": "code",
   "execution_count": 22,
   "id": "4794962c",
   "metadata": {},
   "outputs": [],
   "source": [
    "y_train.replace(to_replace = ['neutral', 'contradiction', 'entailment'] , value = [0, 1, 2], inplace = True)\n",
    "y_val.replace(to_replace = ['neutral', 'contradiction', 'entailment'] , value = [0, 1, 2], inplace = True)"
   ]
  },
  {
   "cell_type": "code",
   "execution_count": 25,
   "id": "634bacd8",
   "metadata": {},
   "outputs": [
    {
     "name": "stdout",
     "output_type": "stream",
     "text": [
      "(549361, 629)\n",
      "(9842, 629)\n"
     ]
    }
   ],
   "source": [
    "print(x_train.shape)\n",
    "print(x_val.shape)"
   ]
  },
  {
   "cell_type": "code",
   "execution_count": 23,
   "id": "423037b7",
   "metadata": {},
   "outputs": [
    {
     "name": "stdout",
     "output_type": "stream",
     "text": [
      "[14:15:04] WARNING: C:/Users/Administrator/workspace/xgboost-win64_release_1.5.1/src/learner.cc:1115: Starting in XGBoost 1.3.0, the default evaluation metric used with the objective 'multi:softprob' was changed from 'merror' to 'mlogloss'. Explicitly set eval_metric if you'd like to restore the old behavior.\n"
     ]
    },
    {
     "data": {
      "text/plain": [
       "XGBClassifier(base_score=0.5, booster='gbtree', colsample_bylevel=1,\n",
       "              colsample_bynode=1, colsample_bytree=1, enable_categorical=False,\n",
       "              gamma=0.1, gpu_id=-1, importance_type=None,\n",
       "              interaction_constraints='', learning_rate=0.1, max_delta_step=0,\n",
       "              max_depth=12, min_child_weight=1, missing=nan,\n",
       "              monotone_constraints='()', n_estimators=200, n_jobs=16,\n",
       "              num_parallel_tree=1, objective='multi:softprob', predictor='auto',\n",
       "              random_state=0, reg_alpha=0, reg_lambda=100,\n",
       "              scale_pos_weight=None, subsample=1, tree_method='exact',\n",
       "              validate_parameters=1, verbosity=None)"
      ]
     },
     "execution_count": 23,
     "metadata": {},
     "output_type": "execute_result"
    }
   ],
   "source": [
    "xgbc.fit(x_train, y_train)"
   ]
  },
  {
   "cell_type": "code",
   "execution_count": 26,
   "id": "1fddb572",
   "metadata": {},
   "outputs": [
    {
     "data": {
      "text/plain": [
       "0.7087990245884983"
      ]
     },
     "execution_count": 26,
     "metadata": {},
     "output_type": "execute_result"
    }
   ],
   "source": [
    "val_pred = xgbc.predict(x_val)\n",
    "from sklearn.metrics import accuracy_score\n",
    "acc = accuracy_score(y_val, val_pred)\n",
    "acc"
   ]
  },
  {
   "cell_type": "markdown",
   "id": "c5bb7815",
   "metadata": {},
   "source": [
    "**xgboost best score 0.7 on validation set(with extracted features+average word embeddings(GLoVe))**\n"
   ]
  },
  {
   "cell_type": "markdown",
   "id": "ab2b65ee",
   "metadata": {},
   "source": [
    "# Embeddings using fasttext"
   ]
  },
  {
   "cell_type": "code",
   "execution_count": 4,
   "id": "60e2e5f0",
   "metadata": {},
   "outputs": [],
   "source": [
    "import fasttext"
   ]
  },
  {
   "cell_type": "code",
   "execution_count": 20,
   "id": "b95c13a3",
   "metadata": {
    "scrolled": true
   },
   "outputs": [
    {
     "name": "stdout",
     "output_type": "stream",
     "text": [
      "Downloading https://dl.fbaipublicfiles.com/fasttext/vectors-crawl/cc.en.300.bin.gz\n",
      " (100.00%) [==================================================>]===============================================>  ]  ]================================================>  ]================================================>  ]]  ]================================================>  ]================================================>  ]================================================>  ]================================================>  ]  ]]  ]]=================================================> ]=================================================> ]=================================================> ]=================================================> ]=================================================> ] ] ]=================================================> ]]=================================================> ] ]=================================================> ]=================================================> ]]=================================================> ]]=================================================> ]=================================================> ]=================================================> ]=================================================> ]=================================================> ]=================================================> ]=================================================> ]=================================================> ]=================================================> ]=================================================> ]=================================================> ] ]=================================================> ] ]=================================================> ]=================================================> ]=================================================> ] ] ]=================================================> ]> ]=================================================> ]=================================================> ]=================================================> ] ] ] ]=================================================> ]=================================================> ] ]=================================================> ]=================================================> ]=================================================> ]=================================================> ]=================================================> ] ]=================================================> ]=================================================> ] ]=================================================> ]=================================================> ]=================================================> ]\n"
     ]
    }
   ],
   "source": [
    "#loading oretrained fasttext model\n",
    "#https://fasttext.cc/docs/en/crawl-vectors.html\n",
    "import fasttext.util\n",
    "fasttext.util.download_model('en', if_exists='ignore')  # English\n",
    "ft = fasttext.load_model('cc.en.300.bin')"
   ]
  },
  {
   "cell_type": "markdown",
   "id": "1a4b305f",
   "metadata": {},
   "source": [
    "## train sentence1 average fasttext"
   ]
  },
  {
   "cell_type": "code",
   "execution_count": 23,
   "id": "7f51b4c1",
   "metadata": {},
   "outputs": [
    {
     "name": "stderr",
     "output_type": "stream",
     "text": [
      "100%|████████████████████████████████████████████████████████████████████████| 549361/549361 [01:04<00:00, 8521.67it/s]"
     ]
    },
    {
     "name": "stdout",
     "output_type": "stream",
     "text": [
      "549361\n",
      "300\n"
     ]
    },
    {
     "name": "stderr",
     "output_type": "stream",
     "text": [
      "\n"
     ]
    }
   ],
   "source": [
    "from tqdm import tqdm\n",
    "x_train_s1_avg_fasttext  = []\n",
    "for sentence in tqdm(train_df['sentence1_preprocessed'].values): \n",
    "    vector = np.zeros(300) \n",
    "    cnt_words =0\n",
    "    for word in sentence.split():\n",
    "        vector += ft.get_word_vector(word)\n",
    "        cnt_words += 1\n",
    "    if cnt_words != 0:\n",
    "        vector /= cnt_words\n",
    "    x_train_s1_avg_fasttext.append(vector)\n",
    "\n",
    "print(len(x_train_s1_avg_fasttext))\n",
    "print(len(x_train_s1_avg_fasttext[0]))"
   ]
  },
  {
   "cell_type": "markdown",
   "id": "4db4989a",
   "metadata": {},
   "source": [
    "## train sentence2 average fasttext"
   ]
  },
  {
   "cell_type": "code",
   "execution_count": 24,
   "id": "e16257b1",
   "metadata": {},
   "outputs": [
    {
     "name": "stderr",
     "output_type": "stream",
     "text": [
      "100%|███████████████████████████████████████████████████████████████████████| 549361/549361 [00:40<00:00, 13669.84it/s]"
     ]
    },
    {
     "name": "stdout",
     "output_type": "stream",
     "text": [
      "549361\n",
      "300\n"
     ]
    },
    {
     "name": "stderr",
     "output_type": "stream",
     "text": [
      "\n"
     ]
    }
   ],
   "source": [
    "from tqdm import tqdm\n",
    "x_train_s2_avg_fasttext  = []\n",
    "for sentence in tqdm(train_df['sentence2_preprocessed'].values): \n",
    "    vector = np.zeros(300) \n",
    "    cnt_words =0\n",
    "    for word in sentence.split():\n",
    "        vector += ft.get_word_vector(word)\n",
    "        cnt_words += 1\n",
    "    if cnt_words != 0:\n",
    "        vector /= cnt_words\n",
    "    x_train_s2_avg_fasttext.append(vector)\n",
    "\n",
    "print(len(x_train_s2_avg_fasttext))\n",
    "print(len(x_train_s2_avg_fasttext[0]))"
   ]
  },
  {
   "cell_type": "markdown",
   "id": "23b939e2",
   "metadata": {},
   "source": [
    "## val sentence1 average fasttext\n"
   ]
  },
  {
   "cell_type": "code",
   "execution_count": 25,
   "id": "d75c9b3e",
   "metadata": {},
   "outputs": [
    {
     "name": "stderr",
     "output_type": "stream",
     "text": [
      "100%|████████████████████████████████████████████████████████████████████████████| 9842/9842 [00:01<00:00, 7761.10it/s]"
     ]
    },
    {
     "name": "stdout",
     "output_type": "stream",
     "text": [
      "9842\n",
      "300\n"
     ]
    },
    {
     "name": "stderr",
     "output_type": "stream",
     "text": [
      "\n"
     ]
    }
   ],
   "source": [
    "from tqdm import tqdm\n",
    "x_val_s1_avg_fasttext  = []\n",
    "for sentence in tqdm(val_df['sentence1_preprocessed'].values): \n",
    "    vector = np.zeros(300) \n",
    "    cnt_words =0\n",
    "    for word in sentence.split():\n",
    "        vector += ft.get_word_vector(word)\n",
    "        cnt_words += 1\n",
    "    if cnt_words != 0:\n",
    "        vector /= cnt_words\n",
    "    x_val_s1_avg_fasttext.append(vector)\n",
    "\n",
    "print(len(x_val_s1_avg_fasttext))\n",
    "print(len(x_val_s1_avg_fasttext[0]))"
   ]
  },
  {
   "cell_type": "markdown",
   "id": "54bafaed",
   "metadata": {},
   "source": [
    "## val sentence2 average fasttext"
   ]
  },
  {
   "cell_type": "code",
   "execution_count": 26,
   "id": "ef105793",
   "metadata": {},
   "outputs": [
    {
     "name": "stderr",
     "output_type": "stream",
     "text": [
      "100%|███████████████████████████████████████████████████████████████████████████| 9842/9842 [00:00<00:00, 12560.89it/s]"
     ]
    },
    {
     "name": "stdout",
     "output_type": "stream",
     "text": [
      "9842\n",
      "300\n"
     ]
    },
    {
     "name": "stderr",
     "output_type": "stream",
     "text": [
      "\n"
     ]
    }
   ],
   "source": [
    "from tqdm import tqdm\n",
    "x_val_s2_avg_fasttext  = []\n",
    "for sentence in tqdm(val_df['sentence2_preprocessed'].values): \n",
    "    vector = np.zeros(300) \n",
    "    cnt_words =0\n",
    "    for word in sentence.split():\n",
    "        vector += ft.get_word_vector(word)\n",
    "        cnt_words += 1\n",
    "    if cnt_words != 0:\n",
    "        vector /= cnt_words\n",
    "    x_val_s2_avg_fasttext.append(vector)\n",
    "\n",
    "print(len(x_val_s2_avg_fasttext))\n",
    "print(len(x_val_s2_avg_fasttext[0]))"
   ]
  },
  {
   "cell_type": "markdown",
   "id": "b17e7c70",
   "metadata": {},
   "source": [
    "## test sentence1 average fasttext\n"
   ]
  },
  {
   "cell_type": "code",
   "execution_count": 27,
   "id": "92de6521",
   "metadata": {},
   "outputs": [
    {
     "name": "stderr",
     "output_type": "stream",
     "text": [
      "100%|████████████████████████████████████████████████████████████████████████████| 9824/9824 [00:01<00:00, 7749.76it/s]"
     ]
    },
    {
     "name": "stdout",
     "output_type": "stream",
     "text": [
      "9824\n",
      "300\n"
     ]
    },
    {
     "name": "stderr",
     "output_type": "stream",
     "text": [
      "\n"
     ]
    }
   ],
   "source": [
    "from tqdm import tqdm\n",
    "x_test_s1_avg_fasttext  = []\n",
    "for sentence in tqdm(test_df['sentence1_preprocessed'].values): \n",
    "    vector = np.zeros(300) \n",
    "    cnt_words =0\n",
    "    for word in sentence.split():\n",
    "        vector += ft.get_word_vector(word)\n",
    "        cnt_words += 1\n",
    "    if cnt_words != 0:\n",
    "        vector /= cnt_words\n",
    "    x_test_s1_avg_fasttext.append(vector)\n",
    "\n",
    "print(len(x_test_s1_avg_fasttext))\n",
    "print(len(x_test_s1_avg_fasttext[0]))"
   ]
  },
  {
   "cell_type": "markdown",
   "id": "60e9887f",
   "metadata": {},
   "source": [
    "## test sentence2 average fasttext"
   ]
  },
  {
   "cell_type": "code",
   "execution_count": 28,
   "id": "da171f06",
   "metadata": {},
   "outputs": [
    {
     "name": "stderr",
     "output_type": "stream",
     "text": [
      "100%|███████████████████████████████████████████████████████████████████████████| 9824/9824 [00:00<00:00, 13819.69it/s]"
     ]
    },
    {
     "name": "stdout",
     "output_type": "stream",
     "text": [
      "9824\n",
      "300\n"
     ]
    },
    {
     "name": "stderr",
     "output_type": "stream",
     "text": [
      "\n"
     ]
    }
   ],
   "source": [
    "from tqdm import tqdm\n",
    "x_test_s2_avg_fasttext  = []\n",
    "for sentence in tqdm(test_df['sentence2_preprocessed'].values): \n",
    "    vector = np.zeros(300) \n",
    "    cnt_words =0\n",
    "    for word in sentence.split():\n",
    "        vector += ft.get_word_vector(word)\n",
    "        cnt_words += 1\n",
    "    if cnt_words != 0:\n",
    "        vector /= cnt_words\n",
    "    x_test_s2_avg_fasttext.append(vector)\n",
    "\n",
    "print(len(x_test_s2_avg_fasttext))\n",
    "print(len(x_test_s2_avg_fasttext[0]))"
   ]
  },
  {
   "cell_type": "markdown",
   "id": "08ca35e8",
   "metadata": {},
   "source": [
    "### saving the fastext ecoded array"
   ]
  },
  {
   "cell_type": "code",
   "execution_count": 29,
   "id": "63e8ee00",
   "metadata": {},
   "outputs": [],
   "source": [
    "x_train_s1_avg_fasttext = np.vstack(x_train_s1_avg_fasttext)\n",
    "x_train_s2_avg_fasttext = np.vstack(x_train_s2_avg_fasttext)\n",
    "x_val_s1_avg_fasttext = np.vstack(x_val_s1_avg_fasttext)\n",
    "x_val_s2_avg_fasttext = np.vstack(x_val_s2_avg_fasttext)\n",
    "x_test_s1_avg_fasttext = np.vstack(x_test_s1_avg_fasttext)\n",
    "x_test_s2_avg_fasttext = np.vstack(x_test_s2_avg_fasttext)"
   ]
  },
  {
   "cell_type": "code",
   "execution_count": 30,
   "id": "7152dc9e",
   "metadata": {},
   "outputs": [],
   "source": [
    "np.save('x_train_s1_avg_fasttext.npy', x_train_s1_avg_fasttext)\n",
    "np.save('x_train_s2_avg_fasttext.npy', x_train_s2_avg_fasttext)\n",
    "np.save('x_val_s1_avg_fasttext.npy', x_val_s1_avg_fasttext)\n",
    "np.save('x_val_s2_avg_fasttext.npy', x_val_s2_avg_fasttext)\n",
    "np.save('x_test_s1_avg_fasttext.npy', x_test_s1_avg_fasttext)\n",
    "np.save('x_test_s2_avg_fasttext.npy', x_test_s2_avg_fasttext)"
   ]
  },
  {
   "cell_type": "code",
   "execution_count": 31,
   "id": "a4bf4cea",
   "metadata": {},
   "outputs": [],
   "source": [
    "x_train_s1_avg_fasttext = np.load('x_train_s1_avg_fasttext.npy', mmap_mode='r')\n",
    "x_train_s2_avg_fasttext = np.load('x_train_s2_avg_fasttext.npy', mmap_mode='r')\n",
    "x_val_s1_avg_fasttext = np.load('x_val_s1_avg_fasttext.npy', mmap_mode='r')\n",
    "x_val_s2_avg_fasttext = np.load('x_val_s2_avg_fasttext.npy', mmap_mode='r')\n",
    "x_test_s1_avg_fasttext = np.load('x_test_s1_avg_fasttext.npy', mmap_mode='r')\n",
    "x_test_s2_avg_fasttext = np.load('x_test_s2_avg_fasttext.npy', mmap_mode='r')"
   ]
  },
  {
   "cell_type": "markdown",
   "id": "3121145b",
   "metadata": {},
   "source": [
    "## Xgboost with fasttext embeddings"
   ]
  },
  {
   "cell_type": "code",
   "execution_count": 33,
   "id": "11a50df1",
   "metadata": {},
   "outputs": [],
   "source": [
    "X_train = train_df[to_keep]\n",
    "y_train = train_df['gold_label']\n",
    "X_val = val_df[to_keep]\n",
    "y_val = val_df['gold_label']\n",
    "x_train = np.hstack((X_train, x_train_s1_avg_fasttext, x_train_s2_avg_fasttext))\n",
    "x_val = np.hstack((X_val, x_val_s1_avg_fasttext, x_val_s2_avg_fasttext))"
   ]
  },
  {
   "cell_type": "code",
   "execution_count": 34,
   "id": "e49704d0",
   "metadata": {},
   "outputs": [],
   "source": [
    "y_train.replace(to_replace = ['neutral', 'contradiction', 'entailment'] , value = [0, 1, 2], inplace = True)\n",
    "y_val.replace(to_replace = ['neutral', 'contradiction', 'entailment'] , value = [0, 1, 2], inplace = True)"
   ]
  },
  {
   "cell_type": "code",
   "execution_count": 40,
   "id": "490d9a1a",
   "metadata": {},
   "outputs": [],
   "source": [
    "import xgboost as xgb\n",
    "xgbc = xgb.XGBClassifier(base_score=0.5, booster='gbtree', colsample_bylevel=1,\n",
    "              colsample_bynode=1, colsample_bytree=1, enable_categorical=False,\n",
    "              gamma=0.1, gpu_id=-1, importance_type=None,\n",
    "              interaction_constraints='', learning_rate=0.1, max_delta_step=0,\n",
    "              max_depth=12, min_child_weight=1, missing=np.nan,\n",
    "              monotone_constraints='()', n_estimators=200, n_jobs=16,\n",
    "              num_parallel_tree=1, objective='multi:softprob', predictor='auto',\n",
    "              random_state=0, reg_alpha=0, reg_lambda=100,\n",
    "              scale_pos_weight=None, subsample=1, tree_method='exact',\n",
    "              validate_parameters=1, verbosity=None, use_label_encoder=False)"
   ]
  },
  {
   "cell_type": "code",
   "execution_count": 41,
   "id": "06ad50de",
   "metadata": {},
   "outputs": [
    {
     "name": "stdout",
     "output_type": "stream",
     "text": [
      "[11:36:17] WARNING: C:/Users/Administrator/workspace/xgboost-win64_release_1.5.1/src/learner.cc:1115: Starting in XGBoost 1.3.0, the default evaluation metric used with the objective 'multi:softprob' was changed from 'merror' to 'mlogloss'. Explicitly set eval_metric if you'd like to restore the old behavior.\n"
     ]
    },
    {
     "data": {
      "text/plain": [
       "XGBClassifier(base_score=0.5, booster='gbtree', colsample_bylevel=1,\n",
       "              colsample_bynode=1, colsample_bytree=1, enable_categorical=False,\n",
       "              gamma=0.1, gpu_id=-1, importance_type=None,\n",
       "              interaction_constraints='', learning_rate=0.1, max_delta_step=0,\n",
       "              max_depth=12, min_child_weight=1, missing=nan,\n",
       "              monotone_constraints='()', n_estimators=200, n_jobs=16,\n",
       "              num_parallel_tree=1, objective='multi:softprob', predictor='auto',\n",
       "              random_state=0, reg_alpha=0, reg_lambda=100,\n",
       "              scale_pos_weight=None, subsample=1, tree_method='exact',\n",
       "              use_label_encoder=False, validate_parameters=1, verbosity=None)"
      ]
     },
     "execution_count": 41,
     "metadata": {},
     "output_type": "execute_result"
    }
   ],
   "source": [
    "xgbc.fit(x_train, y_train)"
   ]
  },
  {
   "cell_type": "code",
   "execution_count": 42,
   "id": "803e9dc0",
   "metadata": {},
   "outputs": [
    {
     "data": {
      "text/plain": [
       "0.7050396260922577"
      ]
     },
     "execution_count": 42,
     "metadata": {},
     "output_type": "execute_result"
    }
   ],
   "source": [
    "val_pred = xgbc.predict(x_val)\n",
    "from sklearn.metrics import accuracy_score\n",
    "acc = accuracy_score(y_val, val_pred)\n",
    "acc"
   ]
  },
  {
   "cell_type": "markdown",
   "id": "30228cf9",
   "metadata": {},
   "source": [
    "**we are getting 0.7 accuracy with average fasttext embeddings. No improvement. Let us try tfidf weighted fasttext**"
   ]
  },
  {
   "cell_type": "markdown",
   "id": "1c126269",
   "metadata": {},
   "source": [
    "# tfidf weighted fasttext embeddings"
   ]
  },
  {
   "cell_type": "markdown",
   "id": "a99f3db5",
   "metadata": {},
   "source": [
    "### sentence1"
   ]
  },
  {
   "cell_type": "code",
   "execution_count": 72,
   "id": "9f200095",
   "metadata": {},
   "outputs": [],
   "source": [
    "#creating tfidf vecotrizer for sentence1\n",
    "from sklearn.feature_extraction.text import TfidfVectorizer\n",
    "tfidf_vectorizer_s1 = TfidfVectorizer(ngram_range=(1, 1))"
   ]
  },
  {
   "cell_type": "code",
   "execution_count": 73,
   "id": "347142e6",
   "metadata": {},
   "outputs": [
    {
     "data": {
      "text/plain": [
       "TfidfVectorizer()"
      ]
     },
     "execution_count": 73,
     "metadata": {},
     "output_type": "execute_result"
    }
   ],
   "source": [
    "#fitting on train data\n",
    "tfidf_vectorizer_s1.fit(train_df['sentence1_preprocessed'])"
   ]
  },
  {
   "cell_type": "code",
   "execution_count": 74,
   "id": "88585ec3",
   "metadata": {},
   "outputs": [],
   "source": [
    "#transforming train-test-val data\n",
    "train_s1_tfidf = tfidf_vectorizer_s1.transform(train_df['sentence1_preprocessed'])\n",
    "val_s1_tfidf = tfidf_vectorizer_s1.transform(val_df['sentence1_preprocessed'])\n",
    "test_s1_tfidf = tfidf_vectorizer_s1.transform(test_df['sentence1_preprocessed'])"
   ]
  },
  {
   "cell_type": "code",
   "execution_count": 75,
   "id": "49626ed2",
   "metadata": {},
   "outputs": [
    {
     "data": {
      "text/plain": [
       "17960"
      ]
     },
     "execution_count": 75,
     "metadata": {},
     "output_type": "execute_result"
    }
   ],
   "source": [
    "len(tfidf_vectorizer_s1.get_feature_names())"
   ]
  },
  {
   "cell_type": "code",
   "execution_count": 82,
   "id": "22a42157",
   "metadata": {},
   "outputs": [],
   "source": [
    "# creating a dic with keys as tokens and values and idf values\n",
    "idf_dict_s1 = dict(zip(tfidf_vectorizer_s1.get_feature_names(), tfidf_vectorizer_s1.idf_))"
   ]
  },
  {
   "cell_type": "code",
   "execution_count": 138,
   "id": "7c1ceaa0",
   "metadata": {},
   "outputs": [],
   "source": [
    "def tfidf_weighted_fasttext(sentences, ft, idf_dict):\n",
    "    \n",
    "    \"\"\"\n",
    "    Given a list of sentences, the function returns\n",
    "    a 2d array where each row is tf-idf weighted fasttext\n",
    "    vector of each sentence.\n",
    "    args:\n",
    "    sentences: list of sentences\n",
    "    ft: a fasttext model\n",
    "    idf_dict: a dictionary with tokens as keys and idf values and values\n",
    "    \n",
    "    \"\"\"\n",
    "    \n",
    "    from collections import Counter\n",
    "    sentences_tfidf_fasttext = list()\n",
    "    vocab = list(idf_dict.keys())\n",
    "    for sent in sentences:\n",
    "        words = sent.split(' ')\n",
    "        tf_dict = dict(Counter(words))\n",
    "        tf_idf_sum = 0\n",
    "        doc_vector = np.zeros(300)\n",
    "        for word in words:\n",
    "            if word in vocab:\n",
    "                fast_text = ft.get_word_vector(word)\n",
    "                idf = idf_dict[word]\n",
    "                tf = tf_dict[word]\n",
    "                tf_idf = tf*idf\n",
    "                weighted_word_vec = fast_text*tf_idf\n",
    "                tf_idf_sum = tf_idf_sum + tf_idf\n",
    "                doc_vector = doc_vector + weighted_word_vec\n",
    "    \n",
    "        if tf_idf_sum != 0:\n",
    "            doc_vector = doc_vector/tf_idf_sum\n",
    "        \n",
    "        sentences_tfidf_fasttext.append(doc_vector)\n",
    "    \n",
    "    return np.vstack(sentences_tfidf_fasttext)\n",
    "\n",
    "    "
   ]
  },
  {
   "cell_type": "code",
   "execution_count": 139,
   "id": "af3dfefa",
   "metadata": {},
   "outputs": [],
   "source": [
    "sentences = train_df['sentence1_preprocessed'][0:5].values\n",
    "v = TfidfVectorizer(ngram_range=(1,1))\n",
    "v.fit(sentences)\n",
    "idf_dict = dict(zip(v.get_feature_names(), v.idf_))"
   ]
  },
  {
   "cell_type": "code",
   "execution_count": 140,
   "id": "565b5a6c",
   "metadata": {},
   "outputs": [],
   "source": [
    "result = tfidf_weighted_fasttext(sentences, ft, idf_dict)"
   ]
  },
  {
   "cell_type": "code",
   "execution_count": 141,
   "id": "955a0374",
   "metadata": {},
   "outputs": [
    {
     "data": {
      "text/plain": [
       "(5, 300)"
      ]
     },
     "execution_count": 141,
     "metadata": {},
     "output_type": "execute_result"
    }
   ],
   "source": [
    "result.shape"
   ]
  },
  {
   "cell_type": "markdown",
   "id": "281757f6",
   "metadata": {},
   "source": []
  },
  {
   "cell_type": "markdown",
   "id": "a7876dcf",
   "metadata": {},
   "source": [
    "## train sentence1 tfidf weighted fasttext"
   ]
  },
  {
   "cell_type": "markdown",
   "id": "1afc7def",
   "metadata": {},
   "source": []
  },
  {
   "cell_type": "code",
   "execution_count": 142,
   "id": "4fed56d2",
   "metadata": {},
   "outputs": [],
   "source": [
    "sentences = train_df['sentence1_preprocessed'].values\n",
    "train_s1_tfidf_fasttext = tfidf_weighted_fasttext(sentences, ft, idf_dict_s1)"
   ]
  },
  {
   "cell_type": "code",
   "execution_count": 143,
   "id": "7308416f",
   "metadata": {},
   "outputs": [
    {
     "data": {
      "text/plain": [
       "(549361, 300)"
      ]
     },
     "execution_count": 143,
     "metadata": {},
     "output_type": "execute_result"
    }
   ],
   "source": [
    "train_s1_tfidf_fasttext.shape"
   ]
  },
  {
   "cell_type": "markdown",
   "id": "7b910d00",
   "metadata": {},
   "source": [
    "## validation sentence1 tfidf weighted fasttext"
   ]
  },
  {
   "cell_type": "code",
   "execution_count": 144,
   "id": "efeb4cf8",
   "metadata": {},
   "outputs": [],
   "source": [
    "sentences = val_df['sentence1_preprocessed'].values\n",
    "val_s1_tfidf_fasttext = tfidf_weighted_fasttext(sentences, ft, idf_dict_s1)"
   ]
  },
  {
   "cell_type": "code",
   "execution_count": 145,
   "id": "8bd53f61",
   "metadata": {},
   "outputs": [
    {
     "data": {
      "text/plain": [
       "(9842, 300)"
      ]
     },
     "execution_count": 145,
     "metadata": {},
     "output_type": "execute_result"
    }
   ],
   "source": [
    "val_s1_tfidf_fasttext.shape"
   ]
  },
  {
   "cell_type": "markdown",
   "id": "430199c0",
   "metadata": {},
   "source": [
    "## test sentence1 tfidf weighted fasttext"
   ]
  },
  {
   "cell_type": "code",
   "execution_count": 146,
   "id": "7134b2bd",
   "metadata": {},
   "outputs": [],
   "source": [
    "sentences = test_df['sentence1_preprocessed'].values\n",
    "test_s1_tfidf_fasttext = tfidf_weighted_fasttext(sentences, ft, idf_dict_s1)"
   ]
  },
  {
   "cell_type": "code",
   "execution_count": 147,
   "id": "56a51341",
   "metadata": {},
   "outputs": [
    {
     "data": {
      "text/plain": [
       "(9824, 300)"
      ]
     },
     "execution_count": 147,
     "metadata": {},
     "output_type": "execute_result"
    }
   ],
   "source": [
    "test_s1_tfidf_fasttext.shape"
   ]
  },
  {
   "cell_type": "markdown",
   "id": "3a280fee",
   "metadata": {},
   "source": [
    "### sentence2"
   ]
  },
  {
   "cell_type": "code",
   "execution_count": 148,
   "id": "cc8de72f",
   "metadata": {},
   "outputs": [],
   "source": [
    "#creating tfidf vecotrizer for sentence2\n",
    "from sklearn.feature_extraction.text import TfidfVectorizer\n",
    "tfidf_vectorizer_s2 = TfidfVectorizer(ngram_range=(1, 1))"
   ]
  },
  {
   "cell_type": "code",
   "execution_count": 149,
   "id": "300a0949",
   "metadata": {},
   "outputs": [
    {
     "data": {
      "text/plain": [
       "TfidfVectorizer()"
      ]
     },
     "execution_count": 149,
     "metadata": {},
     "output_type": "execute_result"
    }
   ],
   "source": [
    "#fitting on train data\n",
    "tfidf_vectorizer_s2.fit(train_df['sentence2_preprocessed'])"
   ]
  },
  {
   "cell_type": "code",
   "execution_count": 150,
   "id": "884ce198",
   "metadata": {},
   "outputs": [
    {
     "data": {
      "text/plain": [
       "30038"
      ]
     },
     "execution_count": 150,
     "metadata": {},
     "output_type": "execute_result"
    }
   ],
   "source": [
    "len(tfidf_vectorizer_s2.get_feature_names())"
   ]
  },
  {
   "cell_type": "code",
   "execution_count": 151,
   "id": "52d9d5d7",
   "metadata": {},
   "outputs": [],
   "source": [
    "# creating a dic with keys as tokens and values and idf values\n",
    "idf_dict_s2 = dict(zip(tfidf_vectorizer_s2.get_feature_names(), tfidf_vectorizer_s2.idf_))"
   ]
  },
  {
   "cell_type": "markdown",
   "id": "6ff7b843",
   "metadata": {},
   "source": [
    "## train sentence2 tfidf weighted fasttext"
   ]
  },
  {
   "cell_type": "code",
   "execution_count": 153,
   "id": "3df12a5b",
   "metadata": {},
   "outputs": [],
   "source": [
    "sentences = train_df['sentence2_preprocessed'].values\n",
    "train_s2_tfidf_fasttext = tfidf_weighted_fasttext(sentences, ft, idf_dict_s2)"
   ]
  },
  {
   "cell_type": "code",
   "execution_count": 154,
   "id": "21982109",
   "metadata": {},
   "outputs": [
    {
     "data": {
      "text/plain": [
       "(549361, 300)"
      ]
     },
     "execution_count": 154,
     "metadata": {},
     "output_type": "execute_result"
    }
   ],
   "source": [
    "train_s2_tfidf_fasttext.shape"
   ]
  },
  {
   "cell_type": "markdown",
   "id": "73f9ce79",
   "metadata": {},
   "source": [
    "## validation sentence2 tfidf weighted fasttext"
   ]
  },
  {
   "cell_type": "code",
   "execution_count": 155,
   "id": "1ca713c4",
   "metadata": {},
   "outputs": [],
   "source": [
    "sentences = val_df['sentence2_preprocessed'].values\n",
    "val_s2_tfidf_fasttext = tfidf_weighted_fasttext(sentences, ft, idf_dict_s2)"
   ]
  },
  {
   "cell_type": "code",
   "execution_count": 157,
   "id": "3238424b",
   "metadata": {},
   "outputs": [
    {
     "data": {
      "text/plain": [
       "(9842, 300)"
      ]
     },
     "execution_count": 157,
     "metadata": {},
     "output_type": "execute_result"
    }
   ],
   "source": [
    "val_s2_tfidf_fasttext.shape"
   ]
  },
  {
   "cell_type": "markdown",
   "id": "5a33c444",
   "metadata": {},
   "source": [
    "## test sentence2 tfidf weighted fasttext"
   ]
  },
  {
   "cell_type": "code",
   "execution_count": 158,
   "id": "54731315",
   "metadata": {},
   "outputs": [],
   "source": [
    "sentences = test_df['sentence2_preprocessed'].values\n",
    "test_s2_tfidf_fasttext = tfidf_weighted_fasttext(sentences, ft, idf_dict_s2)"
   ]
  },
  {
   "cell_type": "code",
   "execution_count": 159,
   "id": "0107858d",
   "metadata": {},
   "outputs": [
    {
     "data": {
      "text/plain": [
       "(9824, 300)"
      ]
     },
     "execution_count": 159,
     "metadata": {},
     "output_type": "execute_result"
    }
   ],
   "source": [
    "test_s2_tfidf_fasttext.shape"
   ]
  },
  {
   "cell_type": "code",
   "execution_count": 160,
   "id": "91bc16a8",
   "metadata": {},
   "outputs": [],
   "source": [
    "#saving the matrices\n",
    "np.save('train_s1_tfidf_fasttext.npy', train_s1_tfidf_fasttext)\n",
    "np.save('train_s2_tfidf_fasttext.npy', train_s2_tfidf_fasttext)\n",
    "np.save('val_s1_tfidf_fasttext.npy', val_s1_tfidf_fasttext)\n",
    "np.save('val_s2_tfidf_fasttext.npy', val_s2_tfidf_fasttext)\n",
    "np.save('test_s1_tfidf_fasttext.npy', test_s1_tfidf_fasttext)\n",
    "np.save('test_s2_tfidf_fasttext.npy', test_s2_tfidf_fasttext)"
   ]
  },
  {
   "cell_type": "code",
   "execution_count": 161,
   "id": "2e6aea6d",
   "metadata": {},
   "outputs": [],
   "source": [
    "# loading\n",
    "train_s1_tfidf_fasttext = np.load('train_s1_tfidf_fasttext.npy', mmap_mode='r')\n",
    "train_s2_tfidf_fasttext = np.load('train_s2_tfidf_fasttext.npy', mmap_mode='r')\n",
    "val_s1_tfidf_fasttext = np.load('val_s1_tfidf_fasttext.npy', mmap_mode='r')\n",
    "val_s2_tfidf_fasttext = np.load('val_s2_tfidf_fasttext.npy', mmap_mode='r')\n",
    "test_s1_tfidf_fasttext = np.load('test_s1_tfidf_fasttext.npy', mmap_mode='r')\n",
    "test_s2_tfidf_fasttext = np.load('test_s2_tfidf_fasttext.npy', mmap_mode='r')"
   ]
  },
  {
   "cell_type": "code",
   "execution_count": 164,
   "id": "c1ee2286",
   "metadata": {},
   "outputs": [],
   "source": [
    "X_train = train_df[to_keep]\n",
    "y_train = train_df['gold_label']\n",
    "X_val = val_df[to_keep]\n",
    "y_val = val_df['gold_label']\n",
    "x_train = np.hstack((X_train, train_s1_tfidf_fasttext, train_s2_tfidf_fasttext))\n",
    "x_val = np.hstack((X_val, val_s1_tfidf_fasttext, val_s2_tfidf_fasttext))"
   ]
  },
  {
   "cell_type": "code",
   "execution_count": null,
   "id": "28719118",
   "metadata": {},
   "outputs": [],
   "source": [
    "y_train.replace(to_replace = ['neutral', 'contradiction', 'entailment'] , value = [0, 1, 2], inplace = True)\n",
    "y_val.replace(to_replace = ['neutral', 'contradiction', 'entailment'] , value = [0, 1, 2], inplace = True)"
   ]
  },
  {
   "cell_type": "code",
   "execution_count": 165,
   "id": "d510f65e",
   "metadata": {},
   "outputs": [],
   "source": [
    "import xgboost as xgb\n",
    "xgbc = xgb.XGBClassifier(base_score=0.5, booster='gbtree', colsample_bylevel=1,\n",
    "              colsample_bynode=1, colsample_bytree=1, enable_categorical=False,\n",
    "              gamma=0.1, gpu_id=-1, importance_type=None,\n",
    "              interaction_constraints='', learning_rate=0.1, max_delta_step=0,\n",
    "              max_depth=12, min_child_weight=1, missing=np.nan,\n",
    "              monotone_constraints='()', n_estimators=200, n_jobs=16,\n",
    "              num_parallel_tree=1, objective='multi:softprob', predictor='auto',\n",
    "              random_state=0, reg_alpha=0, reg_lambda=100,\n",
    "              scale_pos_weight=None, subsample=1, tree_method='exact',\n",
    "              validate_parameters=1, verbosity=None, use_label_encoder=False)"
   ]
  },
  {
   "cell_type": "code",
   "execution_count": 166,
   "id": "73b2c715",
   "metadata": {},
   "outputs": [
    {
     "name": "stdout",
     "output_type": "stream",
     "text": [
      "[18:22:41] WARNING: C:/Users/Administrator/workspace/xgboost-win64_release_1.5.1/src/learner.cc:1115: Starting in XGBoost 1.3.0, the default evaluation metric used with the objective 'multi:softprob' was changed from 'merror' to 'mlogloss'. Explicitly set eval_metric if you'd like to restore the old behavior.\n"
     ]
    },
    {
     "data": {
      "text/plain": [
       "XGBClassifier(base_score=0.5, booster='gbtree', colsample_bylevel=1,\n",
       "              colsample_bynode=1, colsample_bytree=1, enable_categorical=False,\n",
       "              gamma=0.1, gpu_id=-1, importance_type=None,\n",
       "              interaction_constraints='', learning_rate=0.1, max_delta_step=0,\n",
       "              max_depth=12, min_child_weight=1, missing=nan,\n",
       "              monotone_constraints='()', n_estimators=200, n_jobs=16,\n",
       "              num_parallel_tree=1, objective='multi:softprob', predictor='auto',\n",
       "              random_state=0, reg_alpha=0, reg_lambda=100,\n",
       "              scale_pos_weight=None, subsample=1, tree_method='exact',\n",
       "              use_label_encoder=False, validate_parameters=1, verbosity=None)"
      ]
     },
     "execution_count": 166,
     "metadata": {},
     "output_type": "execute_result"
    }
   ],
   "source": [
    "xgbc.fit(x_train, y_train)"
   ]
  },
  {
   "cell_type": "code",
   "execution_count": 167,
   "id": "de8884ea",
   "metadata": {},
   "outputs": [
    {
     "data": {
      "text/plain": [
       "0.7159114001219264"
      ]
     },
     "execution_count": 167,
     "metadata": {},
     "output_type": "execute_result"
    }
   ],
   "source": [
    "val_pred = xgbc.predict(x_val)\n",
    "from sklearn.metrics import accuracy_score\n",
    "acc = accuracy_score(y_val, val_pred)\n",
    "acc"
   ]
  },
  {
   "cell_type": "markdown",
   "id": "e29c2f15",
   "metadata": {},
   "source": [
    "**little improvement after taking tfidf weighted fasttext embeddings**"
   ]
  },
  {
   "cell_type": "code",
   "execution_count": 4,
   "id": "75f7fc0d",
   "metadata": {},
   "outputs": [
    {
     "name": "stdout",
     "output_type": "stream",
     "text": [
      "Summary of classical machine learning aproaches:\n",
      "+---------------------------------------------------------+--------------+----------+\n",
      "|                       Feature set                       |    Model     | accuracy |\n",
      "+---------------------------------------------------------+--------------+----------+\n",
      "|                 Only extracted features                 | RandomForest |   0.58   |\n",
      "|        Extracted features + avg GloVe embeddings        | RandomForest |   0.66   |\n",
      "|        Extracted features + avg GloVe embeddings        |   XGBoost    |   0.70   |\n",
      "|       Extracted features + avg fasttext embeddings      |   XGBoost    |   0.70   |\n",
      "| Extracted features + tfidf weighted fasttext embeddings |   XGBoost    |   0.71   |\n",
      "+---------------------------------------------------------+--------------+----------+\n"
     ]
    }
   ],
   "source": [
    "from prettytable import PrettyTable\n",
    "myTable = PrettyTable([\"Feature set\", \"Model\", \"accuracy\"])\n",
    "myTable.add_row([\"Only extracted features\", \"RandomForest\", \"0.58\"])\n",
    "myTable.add_row([\"Extracted features + avg GloVe embeddings\", \"RandomForest\", \"0.66\"])\n",
    "myTable.add_row([\"Extracted features + avg GloVe embeddings\", \"XGBoost\", \"0.70\"])\n",
    "myTable.add_row([\"Extracted features + avg fasttext embeddings\", \"XGBoost\", \"0.70\"])\n",
    "myTable.add_row([\"Extracted features + tfidf weighted fasttext embeddings\", \"XGBoost\", \"0.71\"])\n",
    "print('Summary of classical machine learning aproaches:')\n",
    "print(myTable)"
   ]
  },
  {
   "cell_type": "markdown",
   "id": "62210f92",
   "metadata": {},
   "source": [
    "# Moving towards Deep Learning"
   ]
  },
  {
   "cell_type": "code",
   "execution_count": 3,
   "id": "4b266583",
   "metadata": {},
   "outputs": [],
   "source": [
    "from tensorflow.keras.layers import Input, Dense, concatenate, BatchNormalization, Dropout\n",
    "from tensorflow.keras.models import Model\n",
    "from tensorflow.keras.utils import plot_model\n",
    "from tensorflow.keras.utils import to_categorical\n",
    "from tensorflow.keras.regularizers import L1, L2\n",
    "from tensorflow.keras.optimizers import Adam, SGD, RMSprop"
   ]
  },
  {
   "cell_type": "code",
   "execution_count": 4,
   "id": "4afd2bf2",
   "metadata": {},
   "outputs": [],
   "source": [
    "import tensorflow as tf\n",
    "tf.config.experimental.allow_growth = True\n"
   ]
  },
  {
   "cell_type": "code",
   "execution_count": 5,
   "id": "de67dade",
   "metadata": {},
   "outputs": [],
   "source": [
    "# loading the dataframes in which features have already been extracted\n",
    "train_df = pd.read_csv(\"train_df.csv\")\n",
    "val_df = pd.read_csv(\"val_df.csv\")\n",
    "test_df = pd.read_csv(\"test_df.csv\")"
   ]
  },
  {
   "cell_type": "code",
   "execution_count": 6,
   "id": "a46886e4",
   "metadata": {},
   "outputs": [],
   "source": [
    "# loading avg glove vectors\n",
    "x_train_s1_tfidfw2v = np.load('x_train_s1_tfidfw2v.npy', mmap_mode='r')\n",
    "x_train_s2_tfidfw2v = np.load('x_train_s2_tfidfw2v.npy', mmap_mode='r')\n",
    "x_val_s1_tfidfw2v = np.load('x_val_s1_tfidfw2v.npy', mmap_mode='r')\n",
    "x_val_s2_tfidfw2v = np.load('x_val_s2_tfidfw2v.npy', mmap_mode='r')\n",
    "# x_test_s1_tfidfw2v = np.load('x_test_s1_tfidfw2v.npy', mmap_mode='r')\n",
    "# x_test_s2_tfidfw2v = np.load('x_test_s2_tfidfw2v.npy', mmap_mode='r')"
   ]
  },
  {
   "cell_type": "code",
   "execution_count": 6,
   "id": "146f1d9e",
   "metadata": {},
   "outputs": [],
   "source": [
    "# list of columns to be kept from loaded dataframes\n",
    "to_keep = ['log_bleu_score', 'sum_polarity', 'diff_subjectivity',\n",
    "       'cosine_similarity', 'tfidf_cosine_sim', 'diff_num_words', 's1_CC',\n",
    "       's1_IN','s1_PRP', 's1_PRP$', 's1_RB', 's1_RBR', 's1_RBS', 's1_UH', 's1_VB', 's2_CC', 's2_IN', 's2_PRP',\n",
    "       's2_PRP$', 's2_RB', 's2_RBR', 's2_RBS', 's2_UH', 'ratio_noun', 'ratio_verb', \n",
    "       'diff_adjective', 'levenshtein_dist', 'tfidf_w2v_cosine',\n",
    "       'tfidf_cosine_sim_ngram']"
   ]
  },
  {
   "cell_type": "code",
   "execution_count": 7,
   "id": "ce795755",
   "metadata": {},
   "outputs": [],
   "source": [
    "#selecting required columns\n",
    "X_train_1 = train_df[to_keep]\n",
    "y_train = train_df['gold_label']\n",
    "X_val_1 = val_df[to_keep]\n",
    "y_val = val_df['gold_label']"
   ]
  },
  {
   "cell_type": "code",
   "execution_count": 8,
   "id": "885f3142",
   "metadata": {},
   "outputs": [],
   "source": [
    "#converting target categories to numbers: neutral:0, contradiction:1, entailment:2\n",
    "y_train.replace(to_replace = ['neutral', 'contradiction', 'entailment'] , value = [0, 1, 2], inplace = True)\n",
    "y_val.replace(to_replace = ['neutral', 'contradiction', 'entailment'] , value = [0, 1, 2], inplace = True)"
   ]
  },
  {
   "cell_type": "code",
   "execution_count": 9,
   "id": "f2edcec4",
   "metadata": {},
   "outputs": [],
   "source": [
    "#one hot encoding target\n",
    "y_train_enc = to_categorical(y_train)\n",
    "y_val_enc = to_categorical(y_val)"
   ]
  },
  {
   "cell_type": "markdown",
   "id": "72b557a8",
   "metadata": {},
   "source": [
    "## model0: considering only avg glove embeddings "
   ]
  },
  {
   "cell_type": "code",
   "execution_count": 12,
   "id": "6f8a16d8",
   "metadata": {},
   "outputs": [],
   "source": [
    "input2 = Input(shape=(300,)) #for sentence1 embeddings\n",
    "input3 = Input(shape=(300,)) #for sentence2 embeddings\n",
    "merged = concatenate([input2, input3]) #merging all inputs\n",
    "norm1 = BatchNormalization()(merged)\n",
    "dense1 = Dense(units = 50, activation = 'relu')(norm1)\n",
    "dense2 = Dense(units = 40, activation = 'relu')(dense1)\n",
    "dense3 = Dense(units = 30, activation = 'relu')(dense2)\n",
    "norm2 = BatchNormalization()(dense3)\n",
    "dense4 = Dense(units = 20, activation = 'relu')(norm2)\n",
    "dense5 = Dense(units = 10, activation = 'relu')(dense4)\n",
    "output = Dense(units = 3, activation = 'softmax')(dense5)\n",
    "model0 = Model(inputs = [input2, input3], outputs = output)"
   ]
  },
  {
   "cell_type": "code",
   "execution_count": 13,
   "id": "5912e6c1",
   "metadata": {},
   "outputs": [],
   "source": [
    "model0.compile(optimizer = 'adam', loss = 'categorical_crossentropy', metrics = 'accuracy')"
   ]
  },
  {
   "cell_type": "code",
   "execution_count": 14,
   "id": "b968b059",
   "metadata": {},
   "outputs": [
    {
     "name": "stdout",
     "output_type": "stream",
     "text": [
      "Epoch 1/50\n",
      "4292/4292 [==============================] - 20s 4ms/step - loss: 0.8394 - accuracy: 0.6137 - val_loss: 0.7503 - val_accuracy: 0.6715\n",
      "Epoch 2/50\n",
      "4292/4292 [==============================] - 18s 4ms/step - loss: 0.7406 - accuracy: 0.6768 - val_loss: 0.7123 - val_accuracy: 0.6944\n",
      "Epoch 3/50\n",
      "4292/4292 [==============================] - 18s 4ms/step - loss: 0.7113 - accuracy: 0.6929 - val_loss: 0.6980 - val_accuracy: 0.7017\n",
      "Epoch 4/50\n",
      "4292/4292 [==============================] - 18s 4ms/step - loss: 0.6938 - accuracy: 0.7021 - val_loss: 0.6847 - val_accuracy: 0.7038\n",
      "Epoch 5/50\n",
      "4292/4292 [==============================] - 18s 4ms/step - loss: 0.6816 - accuracy: 0.7092 - val_loss: 0.6860 - val_accuracy: 0.7074\n",
      "Epoch 6/50\n",
      "4292/4292 [==============================] - 18s 4ms/step - loss: 0.6731 - accuracy: 0.7139 - val_loss: 0.6701 - val_accuracy: 0.7166\n",
      "Epoch 7/50\n",
      "4292/4292 [==============================] - 18s 4ms/step - loss: 0.6666 - accuracy: 0.7172 - val_loss: 0.6730 - val_accuracy: 0.7143\n",
      "Epoch 8/50\n",
      "4292/4292 [==============================] - 18s 4ms/step - loss: 0.6605 - accuracy: 0.7206 - val_loss: 0.6670 - val_accuracy: 0.7142\n",
      "Epoch 9/50\n",
      "4292/4292 [==============================] - 18s 4ms/step - loss: 0.6558 - accuracy: 0.7225 - val_loss: 0.6651 - val_accuracy: 0.7196\n",
      "Epoch 10/50\n",
      "4292/4292 [==============================] - 18s 4ms/step - loss: 0.6522 - accuracy: 0.7251 - val_loss: 0.6638 - val_accuracy: 0.7208\n",
      "Epoch 11/50\n",
      "4292/4292 [==============================] - 18s 4ms/step - loss: 0.6487 - accuracy: 0.7266 - val_loss: 0.6638 - val_accuracy: 0.7195\n",
      "Epoch 12/50\n",
      "4292/4292 [==============================] - 18s 4ms/step - loss: 0.6457 - accuracy: 0.7280 - val_loss: 0.6591 - val_accuracy: 0.7224\n",
      "Epoch 13/50\n",
      "4292/4292 [==============================] - 18s 4ms/step - loss: 0.6433 - accuracy: 0.7294 - val_loss: 0.6574 - val_accuracy: 0.7186\n",
      "Epoch 14/50\n",
      "4292/4292 [==============================] - 18s 4ms/step - loss: 0.6418 - accuracy: 0.7299 - val_loss: 0.6635 - val_accuracy: 0.7210\n",
      "Epoch 15/50\n",
      "4292/4292 [==============================] - 18s 4ms/step - loss: 0.6392 - accuracy: 0.7310 - val_loss: 0.6579 - val_accuracy: 0.7236\n",
      "Epoch 16/50\n",
      "4292/4292 [==============================] - 18s 4ms/step - loss: 0.6370 - accuracy: 0.7323 - val_loss: 0.6556 - val_accuracy: 0.7254\n",
      "Epoch 17/50\n",
      "4292/4292 [==============================] - 17s 4ms/step - loss: 0.6356 - accuracy: 0.7331 - val_loss: 0.6567 - val_accuracy: 0.7231\n",
      "Epoch 18/50\n",
      "4292/4292 [==============================] - 18s 4ms/step - loss: 0.6339 - accuracy: 0.7341 - val_loss: 0.6530 - val_accuracy: 0.7201\n",
      "Epoch 19/50\n",
      "4292/4292 [==============================] - 18s 4ms/step - loss: 0.6323 - accuracy: 0.7348 - val_loss: 0.6536 - val_accuracy: 0.7232\n",
      "Epoch 20/50\n",
      "4292/4292 [==============================] - 18s 4ms/step - loss: 0.6313 - accuracy: 0.7356 - val_loss: 0.6539 - val_accuracy: 0.7258\n",
      "Epoch 21/50\n",
      "4292/4292 [==============================] - 18s 4ms/step - loss: 0.6294 - accuracy: 0.7366 - val_loss: 0.6538 - val_accuracy: 0.7264\n",
      "Epoch 22/50\n",
      "4292/4292 [==============================] - 18s 4ms/step - loss: 0.6288 - accuracy: 0.7359 - val_loss: 0.6533 - val_accuracy: 0.7225\n",
      "Epoch 23/50\n",
      "4292/4292 [==============================] - 18s 4ms/step - loss: 0.6272 - accuracy: 0.7376 - val_loss: 0.6492 - val_accuracy: 0.7265\n",
      "Epoch 24/50\n",
      "4292/4292 [==============================] - 18s 4ms/step - loss: 0.6261 - accuracy: 0.7386 - val_loss: 0.6558 - val_accuracy: 0.7218\n",
      "Epoch 25/50\n",
      "4292/4292 [==============================] - 18s 4ms/step - loss: 0.6252 - accuracy: 0.7391 - val_loss: 0.6495 - val_accuracy: 0.7274\n",
      "Epoch 26/50\n",
      "4292/4292 [==============================] - 18s 4ms/step - loss: 0.6243 - accuracy: 0.7392 - val_loss: 0.6515 - val_accuracy: 0.7256\n",
      "Epoch 27/50\n",
      "4292/4292 [==============================] - 18s 4ms/step - loss: 0.6235 - accuracy: 0.7393 - val_loss: 0.6508 - val_accuracy: 0.7266\n",
      "Epoch 28/50\n",
      "4292/4292 [==============================] - 18s 4ms/step - loss: 0.6225 - accuracy: 0.7400 - val_loss: 0.6512 - val_accuracy: 0.7260\n",
      "Epoch 29/50\n",
      "4292/4292 [==============================] - 18s 4ms/step - loss: 0.6218 - accuracy: 0.7403 - val_loss: 0.6523 - val_accuracy: 0.7265\n",
      "Epoch 30/50\n",
      "4292/4292 [==============================] - 18s 4ms/step - loss: 0.6206 - accuracy: 0.7409 - val_loss: 0.6478 - val_accuracy: 0.7301\n",
      "Epoch 31/50\n",
      "4292/4292 [==============================] - 18s 4ms/step - loss: 0.6204 - accuracy: 0.7409 - val_loss: 0.6494 - val_accuracy: 0.7238\n",
      "Epoch 32/50\n",
      "4292/4292 [==============================] - 18s 4ms/step - loss: 0.6194 - accuracy: 0.7416 - val_loss: 0.6501 - val_accuracy: 0.7264\n",
      "Epoch 33/50\n",
      "4292/4292 [==============================] - 18s 4ms/step - loss: 0.6188 - accuracy: 0.7417 - val_loss: 0.6480 - val_accuracy: 0.7285\n",
      "Epoch 34/50\n",
      "4292/4292 [==============================] - 18s 4ms/step - loss: 0.6181 - accuracy: 0.7419 - val_loss: 0.6453 - val_accuracy: 0.7251\n",
      "Epoch 35/50\n",
      "4292/4292 [==============================] - 18s 4ms/step - loss: 0.6178 - accuracy: 0.7425 - val_loss: 0.6461 - val_accuracy: 0.7298\n",
      "Epoch 36/50\n",
      "4292/4292 [==============================] - 18s 4ms/step - loss: 0.6171 - accuracy: 0.7426 - val_loss: 0.6464 - val_accuracy: 0.7294\n",
      "Epoch 37/50\n",
      "4292/4292 [==============================] - 18s 4ms/step - loss: 0.6165 - accuracy: 0.7428 - val_loss: 0.6459 - val_accuracy: 0.7316\n",
      "Epoch 38/50\n",
      "4292/4292 [==============================] - 18s 4ms/step - loss: 0.6156 - accuracy: 0.7432 - val_loss: 0.6464 - val_accuracy: 0.7298\n",
      "Epoch 39/50\n",
      "4292/4292 [==============================] - 18s 4ms/step - loss: 0.6146 - accuracy: 0.7435 - val_loss: 0.6494 - val_accuracy: 0.7295\n",
      "Epoch 40/50\n",
      "4292/4292 [==============================] - 18s 4ms/step - loss: 0.6150 - accuracy: 0.7431 - val_loss: 0.6416 - val_accuracy: 0.7335\n",
      "Epoch 41/50\n",
      "4292/4292 [==============================] - 18s 4ms/step - loss: 0.6142 - accuracy: 0.7436 - val_loss: 0.6456 - val_accuracy: 0.7299\n",
      "Epoch 42/50\n",
      "4292/4292 [==============================] - 18s 4ms/step - loss: 0.6136 - accuracy: 0.7445 - val_loss: 0.6455 - val_accuracy: 0.7306\n",
      "Epoch 43/50\n",
      "4292/4292 [==============================] - 18s 4ms/step - loss: 0.6133 - accuracy: 0.7443 - val_loss: 0.6445 - val_accuracy: 0.7312\n",
      "Epoch 44/50\n",
      "4292/4292 [==============================] - 18s 4ms/step - loss: 0.6128 - accuracy: 0.7446 - val_loss: 0.6457 - val_accuracy: 0.7303\n",
      "Epoch 45/50\n",
      "4292/4292 [==============================] - 18s 4ms/step - loss: 0.6125 - accuracy: 0.7449 - val_loss: 0.6429 - val_accuracy: 0.7322\n",
      "Epoch 46/50\n",
      "4292/4292 [==============================] - 18s 4ms/step - loss: 0.6121 - accuracy: 0.7448 - val_loss: 0.6475 - val_accuracy: 0.7314\n",
      "Epoch 47/50\n",
      "4292/4292 [==============================] - 18s 4ms/step - loss: 0.6118 - accuracy: 0.7455 - val_loss: 0.6469 - val_accuracy: 0.7305\n",
      "Epoch 48/50\n",
      "4292/4292 [==============================] - 17s 4ms/step - loss: 0.6106 - accuracy: 0.7454 - val_loss: 0.6467 - val_accuracy: 0.7304\n",
      "Epoch 49/50\n",
      "4292/4292 [==============================] - 17s 4ms/step - loss: 0.6107 - accuracy: 0.7456 - val_loss: 0.6417 - val_accuracy: 0.7320\n",
      "Epoch 50/50\n",
      "4292/4292 [==============================] - 17s 4ms/step - loss: 0.6100 - accuracy: 0.7463 - val_loss: 0.6465 - val_accuracy: 0.7284\n"
     ]
    },
    {
     "data": {
      "text/plain": [
       "<keras.callbacks.History at 0x213e682d7f0>"
      ]
     },
     "execution_count": 14,
     "metadata": {},
     "output_type": "execute_result"
    }
   ],
   "source": [
    "model0.fit([x_train_s1_tfidfw2v, x_train_s2_tfidfw2v], y_train_enc, epochs = 50, batch_size = 128, \n",
    "           validation_data = ([x_val_s1_tfidfw2v, x_val_s2_tfidfw2v], y_val_enc))"
   ]
  },
  {
   "cell_type": "code",
   "execution_count": 15,
   "id": "2cd5d956",
   "metadata": {},
   "outputs": [
    {
     "name": "stdout",
     "output_type": "stream",
     "text": [
      "Epoch 1/20\n",
      "4292/4292 [==============================] - 17s 4ms/step - loss: 0.6099 - accuracy: 0.7463 - val_loss: 0.6453 - val_accuracy: 0.7322\n",
      "Epoch 2/20\n",
      "4292/4292 [==============================] - 17s 4ms/step - loss: 0.6092 - accuracy: 0.7466 - val_loss: 0.6461 - val_accuracy: 0.7303\n",
      "Epoch 3/20\n",
      "4292/4292 [==============================] - 17s 4ms/step - loss: 0.6093 - accuracy: 0.7460 - val_loss: 0.6455 - val_accuracy: 0.7280\n",
      "Epoch 4/20\n",
      "4292/4292 [==============================] - 17s 4ms/step - loss: 0.6088 - accuracy: 0.7466 - val_loss: 0.6423 - val_accuracy: 0.7314\n",
      "Epoch 5/20\n",
      "4292/4292 [==============================] - 17s 4ms/step - loss: 0.6084 - accuracy: 0.7471 - val_loss: 0.6435 - val_accuracy: 0.7311\n",
      "Epoch 6/20\n",
      "4292/4292 [==============================] - 17s 4ms/step - loss: 0.6082 - accuracy: 0.7470 - val_loss: 0.6428 - val_accuracy: 0.7304\n",
      "Epoch 7/20\n",
      "4292/4292 [==============================] - 17s 4ms/step - loss: 0.6078 - accuracy: 0.7476 - val_loss: 0.6431 - val_accuracy: 0.7306\n",
      "Epoch 8/20\n",
      "4292/4292 [==============================] - 17s 4ms/step - loss: 0.6075 - accuracy: 0.7472 - val_loss: 0.6444 - val_accuracy: 0.7309\n",
      "Epoch 9/20\n",
      "4292/4292 [==============================] - 17s 4ms/step - loss: 0.6067 - accuracy: 0.7472 - val_loss: 0.6431 - val_accuracy: 0.7307\n",
      "Epoch 10/20\n",
      "4292/4292 [==============================] - 17s 4ms/step - loss: 0.6063 - accuracy: 0.7478 - val_loss: 0.6485 - val_accuracy: 0.7321\n",
      "Epoch 11/20\n",
      "4292/4292 [==============================] - 17s 4ms/step - loss: 0.6063 - accuracy: 0.7479 - val_loss: 0.6466 - val_accuracy: 0.7306\n",
      "Epoch 12/20\n",
      "4292/4292 [==============================] - 18s 4ms/step - loss: 0.6058 - accuracy: 0.7485 - val_loss: 0.6424 - val_accuracy: 0.7342\n",
      "Epoch 13/20\n",
      "4292/4292 [==============================] - 18s 4ms/step - loss: 0.6058 - accuracy: 0.7484 - val_loss: 0.6394 - val_accuracy: 0.7344\n",
      "Epoch 14/20\n",
      "4292/4292 [==============================] - 17s 4ms/step - loss: 0.6060 - accuracy: 0.7478 - val_loss: 0.6458 - val_accuracy: 0.7332\n",
      "Epoch 15/20\n",
      "4292/4292 [==============================] - 18s 4ms/step - loss: 0.6053 - accuracy: 0.7480 - val_loss: 0.6461 - val_accuracy: 0.7303\n",
      "Epoch 16/20\n",
      "4292/4292 [==============================] - 20s 5ms/step - loss: 0.6045 - accuracy: 0.7482 - val_loss: 0.6459 - val_accuracy: 0.7296\n",
      "Epoch 17/20\n",
      "4292/4292 [==============================] - 19s 4ms/step - loss: 0.6047 - accuracy: 0.7484 - val_loss: 0.6429 - val_accuracy: 0.7326\n",
      "Epoch 18/20\n",
      "4292/4292 [==============================] - 17s 4ms/step - loss: 0.6044 - accuracy: 0.7485 - val_loss: 0.6416 - val_accuracy: 0.7322\n",
      "Epoch 19/20\n",
      "4292/4292 [==============================] - 17s 4ms/step - loss: 0.6040 - accuracy: 0.7491 - val_loss: 0.6417 - val_accuracy: 0.7320\n",
      "Epoch 20/20\n",
      "4292/4292 [==============================] - 17s 4ms/step - loss: 0.6041 - accuracy: 0.7491 - val_loss: 0.6388 - val_accuracy: 0.7357\n"
     ]
    },
    {
     "data": {
      "text/plain": [
       "<keras.callbacks.History at 0x213f4fdd780>"
      ]
     },
     "execution_count": 15,
     "metadata": {},
     "output_type": "execute_result"
    }
   ],
   "source": [
    "model0.fit([x_train_s1_tfidfw2v, x_train_s2_tfidfw2v], y_train_enc, epochs = 20, batch_size = 128, \n",
    "           validation_data = ([x_val_s1_tfidfw2v, x_val_s2_tfidfw2v], y_val_enc))"
   ]
  },
  {
   "cell_type": "code",
   "execution_count": 16,
   "id": "95ca2b0e",
   "metadata": {},
   "outputs": [
    {
     "name": "stdout",
     "output_type": "stream",
     "text": [
      "Epoch 1/20\n",
      "4292/4292 [==============================] - 18s 4ms/step - loss: 0.6038 - accuracy: 0.7489 - val_loss: 0.6420 - val_accuracy: 0.7335\n",
      "Epoch 2/20\n",
      "4292/4292 [==============================] - 18s 4ms/step - loss: 0.6033 - accuracy: 0.7493 - val_loss: 0.6446 - val_accuracy: 0.7331\n",
      "Epoch 3/20\n",
      "4292/4292 [==============================] - 18s 4ms/step - loss: 0.6033 - accuracy: 0.7487 - val_loss: 0.6431 - val_accuracy: 0.7311\n",
      "Epoch 4/20\n",
      "4292/4292 [==============================] - 18s 4ms/step - loss: 0.6030 - accuracy: 0.7497 - val_loss: 0.6425 - val_accuracy: 0.7337\n",
      "Epoch 5/20\n",
      "4292/4292 [==============================] - 18s 4ms/step - loss: 0.6028 - accuracy: 0.7500 - val_loss: 0.6430 - val_accuracy: 0.7315\n",
      "Epoch 6/20\n",
      "4292/4292 [==============================] - 18s 4ms/step - loss: 0.6025 - accuracy: 0.7494 - val_loss: 0.6432 - val_accuracy: 0.7283\n",
      "Epoch 7/20\n",
      "4292/4292 [==============================] - 18s 4ms/step - loss: 0.6023 - accuracy: 0.7499 - val_loss: 0.6439 - val_accuracy: 0.7282\n",
      "Epoch 8/20\n",
      "4292/4292 [==============================] - 18s 4ms/step - loss: 0.6021 - accuracy: 0.7493 - val_loss: 0.6427 - val_accuracy: 0.7312\n",
      "Epoch 9/20\n",
      "4292/4292 [==============================] - 18s 4ms/step - loss: 0.6015 - accuracy: 0.7500 - val_loss: 0.6424 - val_accuracy: 0.7322\n",
      "Epoch 10/20\n",
      "4292/4292 [==============================] - 18s 4ms/step - loss: 0.6013 - accuracy: 0.7507 - val_loss: 0.6465 - val_accuracy: 0.7327\n",
      "Epoch 11/20\n",
      "4292/4292 [==============================] - 18s 4ms/step - loss: 0.6012 - accuracy: 0.7502 - val_loss: 0.6449 - val_accuracy: 0.7331\n",
      "Epoch 12/20\n",
      "4292/4292 [==============================] - 18s 4ms/step - loss: 0.6008 - accuracy: 0.7506 - val_loss: 0.6412 - val_accuracy: 0.7324\n",
      "Epoch 13/20\n",
      "4292/4292 [==============================] - 18s 4ms/step - loss: 0.6008 - accuracy: 0.7503 - val_loss: 0.6396 - val_accuracy: 0.7313\n",
      "Epoch 14/20\n",
      "4292/4292 [==============================] - 18s 4ms/step - loss: 0.6012 - accuracy: 0.7501 - val_loss: 0.6441 - val_accuracy: 0.7315\n",
      "Epoch 15/20\n",
      "4292/4292 [==============================] - 18s 4ms/step - loss: 0.6006 - accuracy: 0.7507 - val_loss: 0.6449 - val_accuracy: 0.7316\n",
      "Epoch 16/20\n",
      "4292/4292 [==============================] - 18s 4ms/step - loss: 0.5999 - accuracy: 0.7500 - val_loss: 0.6460 - val_accuracy: 0.7312\n",
      "Epoch 17/20\n",
      "4292/4292 [==============================] - 18s 4ms/step - loss: 0.6002 - accuracy: 0.7505 - val_loss: 0.6446 - val_accuracy: 0.7342\n",
      "Epoch 18/20\n",
      "4292/4292 [==============================] - 18s 4ms/step - loss: 0.6001 - accuracy: 0.7502 - val_loss: 0.6418 - val_accuracy: 0.7337\n",
      "Epoch 19/20\n",
      "4292/4292 [==============================] - 18s 4ms/step - loss: 0.5997 - accuracy: 0.7510 - val_loss: 0.6398 - val_accuracy: 0.7308\n",
      "Epoch 20/20\n",
      "4292/4292 [==============================] - 18s 4ms/step - loss: 0.5997 - accuracy: 0.7509 - val_loss: 0.6390 - val_accuracy: 0.7351\n"
     ]
    },
    {
     "data": {
      "text/plain": [
       "<keras.callbacks.History at 0x213f4fd0ac8>"
      ]
     },
     "execution_count": 16,
     "metadata": {},
     "output_type": "execute_result"
    }
   ],
   "source": [
    "model0.fit([x_train_s1_tfidfw2v, x_train_s2_tfidfw2v], y_train_enc, epochs = 20, batch_size = 128, \n",
    "           validation_data = ([x_val_s1_tfidfw2v, x_val_s2_tfidfw2v], y_val_enc))"
   ]
  },
  {
   "cell_type": "markdown",
   "id": "ec8529df",
   "metadata": {},
   "source": [
    "## Model0_a"
   ]
  },
  {
   "cell_type": "code",
   "execution_count": 31,
   "id": "6b8aa736",
   "metadata": {},
   "outputs": [],
   "source": [
    "input2 = Input(shape=(300,)) #for sentence1 embeddings\n",
    "norm2 = BatchNormalization()(input2)\n",
    "input3 = Input(shape=(300,)) #for sentence2 embeddings\n",
    "norm3 = BatchNormalization()(input3)\n",
    "merged = concatenate([norm2, norm3]) #merging all inputs\n",
    "#norm1 = BatchNormalization()(merged)\n",
    "dense1 = Dense(units = 100, activation = 'relu', kernel_regularizer = L1(0.00001))(merged)\n",
    "drop1 = Dropout(0.01)(dense1)\n",
    "dense2 = Dense(units = 100, activation = 'relu', kernel_regularizer = L1(0.00001))(drop1)\n",
    "drop2 = Dropout(0.01)(dense2)\n",
    "dense3 = Dense(units = 100, activation = 'relu', kernel_regularizer = L1(0.00001))(drop2)\n",
    "dense4 = Dense(units = 50, activation = 'relu')(dense3)\n",
    "output = Dense(units = 3, activation = 'softmax')(dense4)\n",
    "model0_a = Model(inputs = [input2, input3], outputs = output)"
   ]
  },
  {
   "cell_type": "code",
   "execution_count": 32,
   "id": "8aea2a1d",
   "metadata": {},
   "outputs": [],
   "source": [
    "model0_a.compile(optimizer = 'adam', loss = 'categorical_crossentropy', metrics = 'accuracy')"
   ]
  },
  {
   "cell_type": "code",
   "execution_count": 34,
   "id": "4635a059",
   "metadata": {},
   "outputs": [
    {
     "name": "stdout",
     "output_type": "stream",
     "text": [
      "Epoch 1/100\n",
      "1073/1073 [==============================] - 11s 8ms/step - loss: 0.8531 - accuracy: 0.6338 - val_loss: 0.7762 - val_accuracy: 0.6831\n",
      "Epoch 2/100\n",
      "1073/1073 [==============================] - 8s 7ms/step - loss: 0.7543 - accuracy: 0.6929 - val_loss: 0.7307 - val_accuracy: 0.7064\n",
      "Epoch 3/100\n",
      "1073/1073 [==============================] - 8s 7ms/step - loss: 0.7202 - accuracy: 0.7111 - val_loss: 0.7142 - val_accuracy: 0.7123\n",
      "Epoch 4/100\n",
      "1073/1073 [==============================] - 8s 7ms/step - loss: 0.6995 - accuracy: 0.7226 - val_loss: 0.6951 - val_accuracy: 0.7253\n",
      "Epoch 5/100\n",
      "1073/1073 [==============================] - 8s 7ms/step - loss: 0.6845 - accuracy: 0.7308 - val_loss: 0.6869 - val_accuracy: 0.7301\n",
      "Epoch 6/100\n",
      "1073/1073 [==============================] - 8s 8ms/step - loss: 0.6736 - accuracy: 0.7368 - val_loss: 0.6803 - val_accuracy: 0.7350\n",
      "Epoch 7/100\n",
      "1073/1073 [==============================] - 8s 8ms/step - loss: 0.6648 - accuracy: 0.7416 - val_loss: 0.6805 - val_accuracy: 0.7379\n",
      "Epoch 8/100\n",
      "1073/1073 [==============================] - 8s 8ms/step - loss: 0.6579 - accuracy: 0.7459 - val_loss: 0.6835 - val_accuracy: 0.7352\n",
      "Epoch 9/100\n",
      "1073/1073 [==============================] - 8s 8ms/step - loss: 0.6525 - accuracy: 0.7487 - val_loss: 0.6767 - val_accuracy: 0.7360\n",
      "Epoch 10/100\n",
      "1073/1073 [==============================] - ETA: 0s - loss: 0.6474 - accuracy: 0.75 - 8s 7ms/step - loss: 0.6472 - accuracy: 0.7519 - val_loss: 0.6741 - val_accuracy: 0.7371\n",
      "Epoch 11/100\n",
      "1073/1073 [==============================] - 8s 8ms/step - loss: 0.6432 - accuracy: 0.7547 - val_loss: 0.6719 - val_accuracy: 0.7423\n",
      "Epoch 12/100\n",
      "1073/1073 [==============================] - 8s 8ms/step - loss: 0.6407 - accuracy: 0.7557 - val_loss: 0.6741 - val_accuracy: 0.7405\n",
      "Epoch 13/100\n",
      "1073/1073 [==============================] - 9s 8ms/step - loss: 0.6375 - accuracy: 0.7577 - val_loss: 0.6695 - val_accuracy: 0.7410\n",
      "Epoch 14/100\n",
      "1073/1073 [==============================] - 8s 7ms/step - loss: 0.6346 - accuracy: 0.7592 - val_loss: 0.6781 - val_accuracy: 0.7399\n",
      "Epoch 15/100\n",
      "1073/1073 [==============================] - 8s 7ms/step - loss: 0.6322 - accuracy: 0.7615 - val_loss: 0.6752 - val_accuracy: 0.7398\n",
      "Epoch 16/100\n",
      "1073/1073 [==============================] - 8s 7ms/step - loss: 0.6292 - accuracy: 0.7624 - val_loss: 0.6731 - val_accuracy: 0.7396\n",
      "Epoch 17/100\n",
      "1073/1073 [==============================] - 7s 7ms/step - loss: 0.6271 - accuracy: 0.7640 - val_loss: 0.6791 - val_accuracy: 0.7370\n",
      "Epoch 18/100\n",
      "1073/1073 [==============================] - 8s 7ms/step - loss: 0.6256 - accuracy: 0.7650 - val_loss: 0.6700 - val_accuracy: 0.7415\n",
      "Epoch 19/100\n",
      "1073/1073 [==============================] - 8s 7ms/step - loss: 0.6234 - accuracy: 0.7667 - val_loss: 0.6783 - val_accuracy: 0.7403\n",
      "Epoch 20/100\n",
      "1073/1073 [==============================] - 7s 7ms/step - loss: 0.6223 - accuracy: 0.7671 - val_loss: 0.6686 - val_accuracy: 0.7478\n",
      "Epoch 21/100\n",
      "1073/1073 [==============================] - 7s 7ms/step - loss: 0.6207 - accuracy: 0.7685 - val_loss: 0.6743 - val_accuracy: 0.7430\n",
      "Epoch 22/100\n",
      "1073/1073 [==============================] - 8s 7ms/step - loss: 0.6189 - accuracy: 0.7698 - val_loss: 0.6770 - val_accuracy: 0.7412\n",
      "Epoch 23/100\n",
      "1073/1073 [==============================] - 8s 8ms/step - loss: 0.6183 - accuracy: 0.7699 - val_loss: 0.6760 - val_accuracy: 0.7423\n",
      "Epoch 24/100\n",
      "1073/1073 [==============================] - 8s 8ms/step - loss: 0.6171 - accuracy: 0.7709 - val_loss: 0.6844 - val_accuracy: 0.7384\n",
      "Epoch 25/100\n",
      "1073/1073 [==============================] - 8s 8ms/step - loss: 0.6160 - accuracy: 0.7718 - val_loss: 0.6804 - val_accuracy: 0.7434\n",
      "Epoch 26/100\n",
      "1073/1073 [==============================] - 8s 7ms/step - loss: 0.6149 - accuracy: 0.7723 - val_loss: 0.6774 - val_accuracy: 0.7447\n",
      "Epoch 27/100\n",
      "1073/1073 [==============================] - 8s 8ms/step - loss: 0.6141 - accuracy: 0.7735 - val_loss: 0.6746 - val_accuracy: 0.7461\n",
      "Epoch 28/100\n",
      "1073/1073 [==============================] - 8s 7ms/step - loss: 0.6132 - accuracy: 0.7739 - val_loss: 0.6767 - val_accuracy: 0.7428\n",
      "Epoch 29/100\n",
      "1073/1073 [==============================] - 8s 7ms/step - loss: 0.6118 - accuracy: 0.7747 - val_loss: 0.6787 - val_accuracy: 0.7491\n",
      "Epoch 30/100\n",
      "1073/1073 [==============================] - 8s 7ms/step - loss: 0.6112 - accuracy: 0.7749 - val_loss: 0.6805 - val_accuracy: 0.7453\n",
      "Epoch 31/100\n",
      "1073/1073 [==============================] - 8s 8ms/step - loss: 0.6103 - accuracy: 0.7757 - val_loss: 0.6799 - val_accuracy: 0.7451\n",
      "Epoch 32/100\n",
      "1073/1073 [==============================] - 8s 8ms/step - loss: 0.6105 - accuracy: 0.7757 - val_loss: 0.6785 - val_accuracy: 0.7455\n",
      "Epoch 33/100\n",
      "1073/1073 [==============================] - 8s 7ms/step - loss: 0.6094 - accuracy: 0.7763 - val_loss: 0.6830 - val_accuracy: 0.7436\n",
      "Epoch 34/100\n",
      "1073/1073 [==============================] - 8s 7ms/step - loss: 0.6088 - accuracy: 0.7774 - val_loss: 0.6830 - val_accuracy: 0.7414\n",
      "Epoch 35/100\n",
      "1073/1073 [==============================] - 8s 7ms/step - loss: 0.6081 - accuracy: 0.7771 - val_loss: 0.6808 - val_accuracy: 0.7465\n",
      "Epoch 36/100\n",
      "1073/1073 [==============================] - 8s 7ms/step - loss: 0.6072 - accuracy: 0.7776 - val_loss: 0.6847 - val_accuracy: 0.7431\n",
      "Epoch 37/100\n",
      "1073/1073 [==============================] - 8s 7ms/step - loss: 0.6065 - accuracy: 0.7786 - val_loss: 0.6838 - val_accuracy: 0.7449\n",
      "Epoch 38/100\n",
      "1073/1073 [==============================] - 8s 7ms/step - loss: 0.6064 - accuracy: 0.7790 - val_loss: 0.6897 - val_accuracy: 0.7408\n",
      "Epoch 39/100\n",
      "1073/1073 [==============================] - 8s 7ms/step - loss: 0.6056 - accuracy: 0.7792 - val_loss: 0.6901 - val_accuracy: 0.7414\n",
      "Epoch 40/100\n",
      "1073/1073 [==============================] - 8s 7ms/step - loss: 0.6051 - accuracy: 0.7795 - val_loss: 0.6852 - val_accuracy: 0.7449\n",
      "Epoch 41/100\n",
      "1073/1073 [==============================] - 8s 7ms/step - loss: 0.6045 - accuracy: 0.7800 - val_loss: 0.6901 - val_accuracy: 0.7442\n",
      "Epoch 42/100\n",
      "1073/1073 [==============================] - 8s 7ms/step - loss: 0.6043 - accuracy: 0.7798 - val_loss: 0.6869 - val_accuracy: 0.7430\n",
      "Epoch 43/100\n",
      "1073/1073 [==============================] - 8s 7ms/step - loss: 0.6032 - accuracy: 0.7805 - val_loss: 0.6914 - val_accuracy: 0.7410\n",
      "Epoch 44/100\n",
      "1073/1073 [==============================] - 8s 7ms/step - loss: 0.6035 - accuracy: 0.7810 - val_loss: 0.6902 - val_accuracy: 0.7407\n",
      "Epoch 45/100\n",
      "1073/1073 [==============================] - 8s 7ms/step - loss: 0.6028 - accuracy: 0.7818 - val_loss: 0.6944 - val_accuracy: 0.7375\n",
      "Epoch 46/100\n",
      "1073/1073 [==============================] - 8s 7ms/step - loss: 0.6023 - accuracy: 0.7819 - val_loss: 0.6936 - val_accuracy: 0.7448\n",
      "Epoch 47/100\n",
      "1073/1073 [==============================] - 8s 7ms/step - loss: 0.6025 - accuracy: 0.7817 - val_loss: 0.6955 - val_accuracy: 0.7439\n",
      "Epoch 48/100\n",
      "1073/1073 [==============================] - 8s 7ms/step - loss: 0.6018 - accuracy: 0.7819 - val_loss: 0.6891 - val_accuracy: 0.7433\n",
      "Epoch 49/100\n",
      "1073/1073 [==============================] - 8s 7ms/step - loss: 0.6014 - accuracy: 0.7821 - val_loss: 0.6924 - val_accuracy: 0.7410\n",
      "Epoch 50/100\n",
      "1073/1073 [==============================] - 8s 7ms/step - loss: 0.6013 - accuracy: 0.7826 - val_loss: 0.6927 - val_accuracy: 0.7411\n",
      "Epoch 51/100\n",
      "1073/1073 [==============================] - 8s 7ms/step - loss: 0.6006 - accuracy: 0.7829 - val_loss: 0.6958 - val_accuracy: 0.7450\n",
      "Epoch 52/100\n",
      "1073/1073 [==============================] - 8s 7ms/step - loss: 0.6010 - accuracy: 0.7829 - val_loss: 0.6925 - val_accuracy: 0.7435\n",
      "Epoch 53/100\n",
      "1073/1073 [==============================] - 8s 7ms/step - loss: 0.6005 - accuracy: 0.7828 - val_loss: 0.6928 - val_accuracy: 0.7426\n",
      "Epoch 54/100\n",
      "1073/1073 [==============================] - 8s 7ms/step - loss: 0.5996 - accuracy: 0.7834 - val_loss: 0.6959 - val_accuracy: 0.7402\n",
      "Epoch 55/100\n",
      "1073/1073 [==============================] - 8s 7ms/step - loss: 0.6001 - accuracy: 0.7841 - val_loss: 0.6940 - val_accuracy: 0.7426\n",
      "Epoch 56/100\n",
      "1073/1073 [==============================] - 8s 7ms/step - loss: 0.5995 - accuracy: 0.7836 - val_loss: 0.6946 - val_accuracy: 0.7432\n",
      "Epoch 57/100\n",
      "1073/1073 [==============================] - 8s 7ms/step - loss: 0.5988 - accuracy: 0.7842 - val_loss: 0.7042 - val_accuracy: 0.7432\n",
      "Epoch 58/100\n",
      "1073/1073 [==============================] - 8s 7ms/step - loss: 0.5993 - accuracy: 0.7842 - val_loss: 0.6979 - val_accuracy: 0.7410\n",
      "Epoch 59/100\n",
      "1073/1073 [==============================] - 8s 7ms/step - loss: 0.5991 - accuracy: 0.7841 - val_loss: 0.6937 - val_accuracy: 0.7444\n",
      "Epoch 60/100\n",
      "1073/1073 [==============================] - 8s 7ms/step - loss: 0.5987 - accuracy: 0.7847 - val_loss: 0.6968 - val_accuracy: 0.7424\n",
      "Epoch 61/100\n",
      "1073/1073 [==============================] - 8s 7ms/step - loss: 0.5978 - accuracy: 0.7851 - val_loss: 0.7048 - val_accuracy: 0.7407\n",
      "Epoch 62/100\n",
      "1073/1073 [==============================] - 8s 7ms/step - loss: 0.5976 - accuracy: 0.7852 - val_loss: 0.7001 - val_accuracy: 0.7427\n",
      "Epoch 63/100\n",
      "1073/1073 [==============================] - 8s 7ms/step - loss: 0.5971 - accuracy: 0.7856 - val_loss: 0.6962 - val_accuracy: 0.7446\n",
      "Epoch 64/100\n",
      "1073/1073 [==============================] - 8s 7ms/step - loss: 0.5974 - accuracy: 0.7862 - val_loss: 0.6995 - val_accuracy: 0.7446\n",
      "Epoch 65/100\n",
      "1073/1073 [==============================] - 8s 7ms/step - loss: 0.5971 - accuracy: 0.7857 - val_loss: 0.7021 - val_accuracy: 0.7389\n",
      "Epoch 66/100\n",
      "1073/1073 [==============================] - 8s 7ms/step - loss: 0.5966 - accuracy: 0.7860 - val_loss: 0.7056 - val_accuracy: 0.7410\n",
      "Epoch 67/100\n",
      "1073/1073 [==============================] - 8s 7ms/step - loss: 0.5970 - accuracy: 0.7863 - val_loss: 0.7003 - val_accuracy: 0.7417\n",
      "Epoch 68/100\n",
      "1073/1073 [==============================] - 8s 7ms/step - loss: 0.5962 - accuracy: 0.7867 - val_loss: 0.6985 - val_accuracy: 0.7424\n",
      "Epoch 69/100\n",
      "1073/1073 [==============================] - 8s 7ms/step - loss: 0.5964 - accuracy: 0.7867 - val_loss: 0.6986 - val_accuracy: 0.7439\n",
      "Epoch 70/100\n",
      "1073/1073 [==============================] - 8s 7ms/step - loss: 0.5960 - accuracy: 0.7864 - val_loss: 0.7014 - val_accuracy: 0.7394\n",
      "Epoch 71/100\n",
      "1073/1073 [==============================] - 8s 7ms/step - loss: 0.5956 - accuracy: 0.7869 - val_loss: 0.7121 - val_accuracy: 0.7392\n",
      "Epoch 72/100\n",
      "1073/1073 [==============================] - 8s 7ms/step - loss: 0.5953 - accuracy: 0.7873 - val_loss: 0.7097 - val_accuracy: 0.7417\n",
      "Epoch 73/100\n",
      "1073/1073 [==============================] - 8s 7ms/step - loss: 0.5955 - accuracy: 0.7871 - val_loss: 0.7042 - val_accuracy: 0.7411\n",
      "Epoch 74/100\n",
      "1073/1073 [==============================] - 8s 7ms/step - loss: 0.5954 - accuracy: 0.7873 - val_loss: 0.7048 - val_accuracy: 0.7419\n",
      "Epoch 75/100\n",
      "1073/1073 [==============================] - 8s 7ms/step - loss: 0.5951 - accuracy: 0.7877 - val_loss: 0.7044 - val_accuracy: 0.7390\n",
      "Epoch 76/100\n",
      "1073/1073 [==============================] - 8s 7ms/step - loss: 0.5944 - accuracy: 0.7880 - val_loss: 0.7046 - val_accuracy: 0.7376\n",
      "Epoch 77/100\n",
      "1073/1073 [==============================] - 8s 7ms/step - loss: 0.5947 - accuracy: 0.7880 - val_loss: 0.7071 - val_accuracy: 0.7381\n",
      "Epoch 78/100\n",
      "1073/1073 [==============================] - 8s 8ms/step - loss: 0.5950 - accuracy: 0.7876 - val_loss: 0.7073 - val_accuracy: 0.7384\n",
      "Epoch 79/100\n",
      "1073/1073 [==============================] - 8s 7ms/step - loss: 0.5940 - accuracy: 0.7884 - val_loss: 0.7097 - val_accuracy: 0.7379\n",
      "Epoch 80/100\n",
      "1073/1073 [==============================] - 8s 7ms/step - loss: 0.5949 - accuracy: 0.7880 - val_loss: 0.7066 - val_accuracy: 0.7455\n",
      "Epoch 81/100\n",
      "1073/1073 [==============================] - 8s 8ms/step - loss: 0.5949 - accuracy: 0.7883 - val_loss: 0.7141 - val_accuracy: 0.7380\n",
      "Epoch 82/100\n",
      "1073/1073 [==============================] - 8s 7ms/step - loss: 0.5939 - accuracy: 0.7886 - val_loss: 0.7067 - val_accuracy: 0.7415\n",
      "Epoch 83/100\n",
      "1073/1073 [==============================] - 8s 7ms/step - loss: 0.5938 - accuracy: 0.7887 - val_loss: 0.7113 - val_accuracy: 0.7386\n",
      "Epoch 84/100\n",
      "1073/1073 [==============================] - 8s 7ms/step - loss: 0.5944 - accuracy: 0.7884 - val_loss: 0.7111 - val_accuracy: 0.7391\n",
      "Epoch 85/100\n",
      "1073/1073 [==============================] - 8s 7ms/step - loss: 0.5940 - accuracy: 0.7890 - val_loss: 0.7089 - val_accuracy: 0.7425\n",
      "Epoch 86/100\n",
      "1073/1073 [==============================] - 8s 7ms/step - loss: 0.5934 - accuracy: 0.7892 - val_loss: 0.7106 - val_accuracy: 0.7363\n",
      "Epoch 87/100\n",
      "1073/1073 [==============================] - 8s 7ms/step - loss: 0.5932 - accuracy: 0.7891 - val_loss: 0.7106 - val_accuracy: 0.7346\n",
      "Epoch 88/100\n",
      "1073/1073 [==============================] - 8s 7ms/step - loss: 0.5926 - accuracy: 0.7898 - val_loss: 0.7132 - val_accuracy: 0.7401\n",
      "Epoch 89/100\n",
      "1073/1073 [==============================] - 8s 7ms/step - loss: 0.5929 - accuracy: 0.7891 - val_loss: 0.7069 - val_accuracy: 0.7382\n",
      "Epoch 90/100\n",
      "1073/1073 [==============================] - 8s 7ms/step - loss: 0.5938 - accuracy: 0.7890 - val_loss: 0.7086 - val_accuracy: 0.7415\n",
      "Epoch 91/100\n",
      "1073/1073 [==============================] - 8s 7ms/step - loss: 0.5931 - accuracy: 0.7898 - val_loss: 0.7089 - val_accuracy: 0.7440\n",
      "Epoch 92/100\n",
      "1073/1073 [==============================] - 8s 7ms/step - loss: 0.5928 - accuracy: 0.7894 - val_loss: 0.7093 - val_accuracy: 0.7395\n",
      "Epoch 93/100\n",
      "1073/1073 [==============================] - 8s 7ms/step - loss: 0.5929 - accuracy: 0.7892 - val_loss: 0.7107 - val_accuracy: 0.7377\n",
      "Epoch 94/100\n",
      "1073/1073 [==============================] - 8s 7ms/step - loss: 0.5929 - accuracy: 0.7899 - val_loss: 0.7139 - val_accuracy: 0.7353\n",
      "Epoch 95/100\n",
      "1073/1073 [==============================] - 8s 7ms/step - loss: 0.5930 - accuracy: 0.7898 - val_loss: 0.7127 - val_accuracy: 0.7362\n",
      "Epoch 96/100\n",
      "1073/1073 [==============================] - 8s 7ms/step - loss: 0.5922 - accuracy: 0.7897 - val_loss: 0.7200 - val_accuracy: 0.7368\n",
      "Epoch 97/100\n",
      "1073/1073 [==============================] - 8s 7ms/step - loss: 0.5918 - accuracy: 0.7900 - val_loss: 0.7159 - val_accuracy: 0.7415\n",
      "Epoch 98/100\n",
      "1073/1073 [==============================] - 8s 7ms/step - loss: 0.5923 - accuracy: 0.7899 - val_loss: 0.7231 - val_accuracy: 0.7380\n",
      "Epoch 99/100\n",
      "1073/1073 [==============================] - 8s 7ms/step - loss: 0.5924 - accuracy: 0.7901 - val_loss: 0.7107 - val_accuracy: 0.7380\n",
      "Epoch 100/100\n",
      "1073/1073 [==============================] - 8s 7ms/step - loss: 0.5924 - accuracy: 0.7900 - val_loss: 0.7177 - val_accuracy: 0.7414\n"
     ]
    }
   ],
   "source": [
    "tf.debugging.set_log_device_placement(True)\n",
    "\n",
    "# Place tensors on the CPU\n",
    "with tf.device('/CPU:0'):\n",
    "    model0_a.fit([x_train_s1_tfidfw2v, x_train_s2_tfidfw2v], y_train_enc, epochs = 100, batch_size = 512, \n",
    "           validation_data = ([x_val_s1_tfidfw2v, x_val_s2_tfidfw2v], y_val_enc))"
   ]
  },
  {
   "cell_type": "markdown",
   "id": "fd27ed18",
   "metadata": {},
   "source": [
    "## model1: considering extracted features+avg glove embeddings"
   ]
  },
  {
   "cell_type": "code",
   "execution_count": 16,
   "id": "ae7fc6ee",
   "metadata": {},
   "outputs": [],
   "source": [
    "input1 = Input(shape=(29,)) #for extracted features\n",
    "input2 = Input(shape=(300,)) #for sentence1 embeddings\n",
    "input3 = Input(shape=(300,)) #for sentence2 embeddings\n",
    "merged = concatenate([input1, input2, input3]) #merging all inputs\n",
    "norm1 = BatchNormalization()(merged)\n",
    "dense1 = Dense(units = 50, activation = 'relu')(norm1)\n",
    "dense2 = Dense(units = 40, activation = 'relu')(dense1)\n",
    "dense3 = Dense(units = 30, activation = 'relu')(dense2)\n",
    "norm2 = BatchNormalization()(dense3)\n",
    "dense4 = Dense(units = 20, activation = 'relu')(norm2)\n",
    "dense5 = Dense(units = 10, activation = 'relu')(dense4)\n",
    "output = Dense(units = 3, activation = 'softmax')(dense5)\n",
    "model1 = Model(inputs = [input1, input2, input3], outputs = output)"
   ]
  },
  {
   "cell_type": "code",
   "execution_count": 17,
   "id": "dcbe864a",
   "metadata": {},
   "outputs": [],
   "source": [
    "model1.compile(optimizer = 'adam', loss = 'categorical_crossentropy', metrics = 'accuracy')"
   ]
  },
  {
   "cell_type": "code",
   "execution_count": 18,
   "id": "808e2a19",
   "metadata": {},
   "outputs": [
    {
     "name": "stdout",
     "output_type": "stream",
     "text": [
      "Epoch 1/50\n",
      "4292/4292 [==============================] - 23s 5ms/step - loss: 0.7971 - accuracy: 0.6417 - val_loss: 0.7009 - val_accuracy: 0.6971\n",
      "Epoch 2/50\n",
      "4292/4292 [==============================] - 17s 4ms/step - loss: 0.7027 - accuracy: 0.6977 - val_loss: 0.6650 - val_accuracy: 0.7143\n",
      "Epoch 3/50\n",
      "4292/4292 [==============================] - 17s 4ms/step - loss: 0.6749 - accuracy: 0.7125 - val_loss: 0.6568 - val_accuracy: 0.7214\n",
      "Epoch 4/50\n",
      "4292/4292 [==============================] - 18s 4ms/step - loss: 0.6584 - accuracy: 0.7211 - val_loss: 0.6435 - val_accuracy: 0.7313\n",
      "Epoch 5/50\n",
      "4292/4292 [==============================] - 17s 4ms/step - loss: 0.6469 - accuracy: 0.7266 - val_loss: 0.6365 - val_accuracy: 0.7297\n",
      "Epoch 6/50\n",
      "4292/4292 [==============================] - 17s 4ms/step - loss: 0.6388 - accuracy: 0.7309 - val_loss: 0.6262 - val_accuracy: 0.7379\n",
      "Epoch 7/50\n",
      "4292/4292 [==============================] - 18s 4ms/step - loss: 0.6327 - accuracy: 0.7344 - val_loss: 0.6217 - val_accuracy: 0.7401\n",
      "Epoch 8/50\n",
      "4292/4292 [==============================] - 17s 4ms/step - loss: 0.6266 - accuracy: 0.7376 - val_loss: 0.6221 - val_accuracy: 0.7382\n",
      "Epoch 9/50\n",
      "4292/4292 [==============================] - 17s 4ms/step - loss: 0.6219 - accuracy: 0.7390 - val_loss: 0.6157 - val_accuracy: 0.7414\n",
      "Epoch 10/50\n",
      "4292/4292 [==============================] - 17s 4ms/step - loss: 0.6185 - accuracy: 0.7414 - val_loss: 0.6186 - val_accuracy: 0.7429\n",
      "Epoch 11/50\n",
      "4292/4292 [==============================] - 17s 4ms/step - loss: 0.6147 - accuracy: 0.7435 - val_loss: 0.6125 - val_accuracy: 0.7449\n",
      "Epoch 12/50\n",
      "4292/4292 [==============================] - 17s 4ms/step - loss: 0.6124 - accuracy: 0.7443 - val_loss: 0.6089 - val_accuracy: 0.7476\n",
      "Epoch 13/50\n",
      "4292/4292 [==============================] - 17s 4ms/step - loss: 0.6099 - accuracy: 0.7455 - val_loss: 0.6046 - val_accuracy: 0.7466\n",
      "Epoch 14/50\n",
      "4292/4292 [==============================] - 18s 4ms/step - loss: 0.6080 - accuracy: 0.7464 - val_loss: 0.6138 - val_accuracy: 0.7413\n",
      "Epoch 15/50\n",
      "4292/4292 [==============================] - 17s 4ms/step - loss: 0.6055 - accuracy: 0.7484 - val_loss: 0.6090 - val_accuracy: 0.7427\n",
      "Epoch 16/50\n",
      "4292/4292 [==============================] - 18s 4ms/step - loss: 0.6036 - accuracy: 0.7484 - val_loss: 0.6111 - val_accuracy: 0.7473\n",
      "Epoch 17/50\n",
      "4292/4292 [==============================] - 17s 4ms/step - loss: 0.6017 - accuracy: 0.7493 - val_loss: 0.6087 - val_accuracy: 0.7464\n",
      "Epoch 18/50\n",
      "4292/4292 [==============================] - 18s 4ms/step - loss: 0.6001 - accuracy: 0.7506 - val_loss: 0.6035 - val_accuracy: 0.7450\n",
      "Epoch 19/50\n",
      "4292/4292 [==============================] - 17s 4ms/step - loss: 0.5983 - accuracy: 0.7507 - val_loss: 0.6051 - val_accuracy: 0.7462\n",
      "Epoch 20/50\n",
      "4292/4292 [==============================] - 18s 4ms/step - loss: 0.5974 - accuracy: 0.7517 - val_loss: 0.6081 - val_accuracy: 0.7474\n",
      "Epoch 21/50\n",
      "4292/4292 [==============================] - 18s 4ms/step - loss: 0.5960 - accuracy: 0.7528 - val_loss: 0.6057 - val_accuracy: 0.7473\n",
      "Epoch 22/50\n",
      "4292/4292 [==============================] - 17s 4ms/step - loss: 0.5946 - accuracy: 0.7529 - val_loss: 0.6089 - val_accuracy: 0.7425\n",
      "Epoch 23/50\n",
      "4292/4292 [==============================] - 17s 4ms/step - loss: 0.5939 - accuracy: 0.7537 - val_loss: 0.6004 - val_accuracy: 0.7462\n",
      "Epoch 24/50\n",
      "4292/4292 [==============================] - 18s 4ms/step - loss: 0.5921 - accuracy: 0.7542 - val_loss: 0.6069 - val_accuracy: 0.7478\n",
      "Epoch 25/50\n",
      "4292/4292 [==============================] - 19s 4ms/step - loss: 0.5912 - accuracy: 0.7550 - val_loss: 0.6054 - val_accuracy: 0.7493\n",
      "Epoch 26/50\n",
      "4292/4292 [==============================] - 18s 4ms/step - loss: 0.5905 - accuracy: 0.7546 - val_loss: 0.6076 - val_accuracy: 0.7515\n",
      "Epoch 27/50\n",
      "4292/4292 [==============================] - 18s 4ms/step - loss: 0.5894 - accuracy: 0.7558 - val_loss: 0.6043 - val_accuracy: 0.7470\n",
      "Epoch 28/50\n",
      "4292/4292 [==============================] - 18s 4ms/step - loss: 0.5886 - accuracy: 0.7568 - val_loss: 0.6063 - val_accuracy: 0.7466\n",
      "Epoch 29/50\n",
      "4292/4292 [==============================] - 17s 4ms/step - loss: 0.5876 - accuracy: 0.7568 - val_loss: 0.6050 - val_accuracy: 0.7490\n",
      "Epoch 30/50\n",
      "4292/4292 [==============================] - 17s 4ms/step - loss: 0.5870 - accuracy: 0.7567 - val_loss: 0.6047 - val_accuracy: 0.7492\n",
      "Epoch 31/50\n",
      "4292/4292 [==============================] - 18s 4ms/step - loss: 0.5861 - accuracy: 0.7571 - val_loss: 0.6021 - val_accuracy: 0.7488\n",
      "Epoch 32/50\n",
      "4292/4292 [==============================] - 17s 4ms/step - loss: 0.5859 - accuracy: 0.7573 - val_loss: 0.6048 - val_accuracy: 0.7512\n",
      "Epoch 33/50\n",
      "4292/4292 [==============================] - 17s 4ms/step - loss: 0.5846 - accuracy: 0.7583 - val_loss: 0.6002 - val_accuracy: 0.7524\n",
      "Epoch 34/50\n",
      "4292/4292 [==============================] - 18s 4ms/step - loss: 0.5845 - accuracy: 0.7579 - val_loss: 0.5986 - val_accuracy: 0.7485\n",
      "Epoch 35/50\n",
      "4292/4292 [==============================] - 17s 4ms/step - loss: 0.5834 - accuracy: 0.7582 - val_loss: 0.6006 - val_accuracy: 0.7488\n",
      "Epoch 36/50\n",
      "4292/4292 [==============================] - 18s 4ms/step - loss: 0.5825 - accuracy: 0.7587 - val_loss: 0.6041 - val_accuracy: 0.7519\n",
      "Epoch 37/50\n",
      "4292/4292 [==============================] - 17s 4ms/step - loss: 0.5817 - accuracy: 0.7596 - val_loss: 0.6019 - val_accuracy: 0.7496\n",
      "Epoch 38/50\n",
      "4292/4292 [==============================] - 18s 4ms/step - loss: 0.5812 - accuracy: 0.7594 - val_loss: 0.6014 - val_accuracy: 0.7481\n",
      "Epoch 39/50\n",
      "4292/4292 [==============================] - 17s 4ms/step - loss: 0.5807 - accuracy: 0.7594 - val_loss: 0.6031 - val_accuracy: 0.7497\n",
      "Epoch 40/50\n",
      "4292/4292 [==============================] - 18s 4ms/step - loss: 0.5806 - accuracy: 0.7600 - val_loss: 0.5985 - val_accuracy: 0.7513\n",
      "Epoch 41/50\n",
      "4292/4292 [==============================] - 18s 4ms/step - loss: 0.5799 - accuracy: 0.7600 - val_loss: 0.5992 - val_accuracy: 0.7543\n",
      "Epoch 42/50\n",
      "4292/4292 [==============================] - 20s 5ms/step - loss: 0.5791 - accuracy: 0.7604 - val_loss: 0.5994 - val_accuracy: 0.7496\n",
      "Epoch 43/50\n",
      "4292/4292 [==============================] - 19s 4ms/step - loss: 0.5788 - accuracy: 0.7602 - val_loss: 0.6009 - val_accuracy: 0.7496\n",
      "Epoch 44/50\n",
      "4292/4292 [==============================] - 19s 5ms/step - loss: 0.5785 - accuracy: 0.7603 - val_loss: 0.5993 - val_accuracy: 0.7519\n",
      "Epoch 45/50\n",
      "4292/4292 [==============================] - 18s 4ms/step - loss: 0.5776 - accuracy: 0.7611 - val_loss: 0.6012 - val_accuracy: 0.7529\n",
      "Epoch 46/50\n",
      "4292/4292 [==============================] - 18s 4ms/step - loss: 0.5771 - accuracy: 0.7610 - val_loss: 0.5990 - val_accuracy: 0.7510\n",
      "Epoch 47/50\n",
      "4292/4292 [==============================] - 18s 4ms/step - loss: 0.5774 - accuracy: 0.7612 - val_loss: 0.5994 - val_accuracy: 0.7527\n",
      "Epoch 48/50\n",
      "4292/4292 [==============================] - 18s 4ms/step - loss: 0.5762 - accuracy: 0.7622 - val_loss: 0.5993 - val_accuracy: 0.7526\n",
      "Epoch 49/50\n",
      "4292/4292 [==============================] - 18s 4ms/step - loss: 0.5766 - accuracy: 0.7615 - val_loss: 0.5986 - val_accuracy: 0.7520\n",
      "Epoch 50/50\n",
      "4292/4292 [==============================] - 17s 4ms/step - loss: 0.5757 - accuracy: 0.7621 - val_loss: 0.6026 - val_accuracy: 0.7534\n"
     ]
    },
    {
     "data": {
      "text/plain": [
       "<keras.callbacks.History at 0x2ab8d4c72b0>"
      ]
     },
     "execution_count": 18,
     "metadata": {},
     "output_type": "execute_result"
    }
   ],
   "source": [
    "model1.fit([X_train_1, x_train_s1_tfidfw2v, x_train_s2_tfidfw2v], y_train_enc, epochs = 50, batch_size = 128, \n",
    "           validation_data = ([X_val_1, x_val_s1_tfidfw2v, x_val_s2_tfidfw2v], y_val_enc))"
   ]
  },
  {
   "cell_type": "code",
   "execution_count": 19,
   "id": "7a5eabf2",
   "metadata": {},
   "outputs": [
    {
     "name": "stdout",
     "output_type": "stream",
     "text": [
      "Epoch 1/20\n",
      "4292/4292 [==============================] - 17s 4ms/step - loss: 0.5752 - accuracy: 0.7624 - val_loss: 0.5992 - val_accuracy: 0.7520\n",
      "Epoch 2/20\n",
      "4292/4292 [==============================] - 19s 4ms/step - loss: 0.5748 - accuracy: 0.7624 - val_loss: 0.5974 - val_accuracy: 0.7552\n",
      "Epoch 3/20\n",
      "4292/4292 [==============================] - 18s 4ms/step - loss: 0.5749 - accuracy: 0.7620 - val_loss: 0.5993 - val_accuracy: 0.7522\n",
      "Epoch 4/20\n",
      "4292/4292 [==============================] - 19s 4ms/step - loss: 0.5744 - accuracy: 0.7625 - val_loss: 0.5978 - val_accuracy: 0.7555\n",
      "Epoch 5/20\n",
      "4292/4292 [==============================] - 19s 4ms/step - loss: 0.5738 - accuracy: 0.7626 - val_loss: 0.5985 - val_accuracy: 0.7526\n",
      "Epoch 6/20\n",
      "4292/4292 [==============================] - 17s 4ms/step - loss: 0.5733 - accuracy: 0.7629 - val_loss: 0.6009 - val_accuracy: 0.7555\n",
      "Epoch 7/20\n",
      "4292/4292 [==============================] - 17s 4ms/step - loss: 0.5731 - accuracy: 0.7636 - val_loss: 0.6005 - val_accuracy: 0.7534\n",
      "Epoch 8/20\n",
      "4292/4292 [==============================] - 17s 4ms/step - loss: 0.5728 - accuracy: 0.7630 - val_loss: 0.6010 - val_accuracy: 0.7510\n",
      "Epoch 9/20\n",
      "4292/4292 [==============================] - 17s 4ms/step - loss: 0.5721 - accuracy: 0.7635 - val_loss: 0.5982 - val_accuracy: 0.7551\n",
      "Epoch 10/20\n",
      "4292/4292 [==============================] - 17s 4ms/step - loss: 0.5719 - accuracy: 0.7642 - val_loss: 0.6077 - val_accuracy: 0.7534\n",
      "Epoch 11/20\n",
      "4292/4292 [==============================] - 17s 4ms/step - loss: 0.5711 - accuracy: 0.7644 - val_loss: 0.6005 - val_accuracy: 0.7516\n",
      "Epoch 12/20\n",
      "4292/4292 [==============================] - 17s 4ms/step - loss: 0.5715 - accuracy: 0.7639 - val_loss: 0.5984 - val_accuracy: 0.7543\n",
      "Epoch 13/20\n",
      "4292/4292 [==============================] - 17s 4ms/step - loss: 0.5708 - accuracy: 0.7646 - val_loss: 0.5962 - val_accuracy: 0.7537\n",
      "Epoch 14/20\n",
      "4292/4292 [==============================] - 17s 4ms/step - loss: 0.5712 - accuracy: 0.7648 - val_loss: 0.6000 - val_accuracy: 0.7539\n",
      "Epoch 15/20\n",
      "4292/4292 [==============================] - 17s 4ms/step - loss: 0.5702 - accuracy: 0.7650 - val_loss: 0.6015 - val_accuracy: 0.7525\n",
      "Epoch 16/20\n",
      "4292/4292 [==============================] - 17s 4ms/step - loss: 0.5701 - accuracy: 0.7648 - val_loss: 0.6028 - val_accuracy: 0.7577\n",
      "Epoch 17/20\n",
      "4292/4292 [==============================] - 17s 4ms/step - loss: 0.5699 - accuracy: 0.7645 - val_loss: 0.5993 - val_accuracy: 0.7561\n",
      "Epoch 18/20\n",
      "4292/4292 [==============================] - 17s 4ms/step - loss: 0.5694 - accuracy: 0.7647 - val_loss: 0.5994 - val_accuracy: 0.7552\n",
      "Epoch 19/20\n",
      "4292/4292 [==============================] - 17s 4ms/step - loss: 0.5693 - accuracy: 0.7647 - val_loss: 0.5987 - val_accuracy: 0.7546\n",
      "Epoch 20/20\n",
      "4292/4292 [==============================] - 17s 4ms/step - loss: 0.5693 - accuracy: 0.7645 - val_loss: 0.5980 - val_accuracy: 0.7571\n"
     ]
    },
    {
     "data": {
      "text/plain": [
       "<keras.callbacks.History at 0x2aca478d860>"
      ]
     },
     "execution_count": 19,
     "metadata": {},
     "output_type": "execute_result"
    }
   ],
   "source": [
    "model1.fit([X_train_1, x_train_s1_tfidfw2v, x_train_s2_tfidfw2v], y_train_enc, epochs = 20, batch_size = 128, \n",
    "           validation_data = ([X_val_1, x_val_s1_tfidfw2v, x_val_s2_tfidfw2v], y_val_enc))"
   ]
  },
  {
   "cell_type": "markdown",
   "id": "a1cc787e",
   "metadata": {},
   "source": [
    "# model1_a"
   ]
  },
  {
   "cell_type": "code",
   "execution_count": 61,
   "id": "b804c0d9",
   "metadata": {},
   "outputs": [],
   "source": [
    "input1 = Input(shape=(29,)) #for extracted features\n",
    "input2 = Input(shape=(300,)) #for sentence1 embeddings\n",
    "input3 = Input(shape=(300,)) #for sentence2 embeddings\n",
    "merged = concatenate([input1, input2, input3]) #merging all inputs\n",
    "norm1 = BatchNormalization()(merged)\n",
    "dense1 = Dense(units = 50, activation = 'relu')(merged)\n",
    "dense2 = Dense(units = 50, activation = 'relu')(dense1)\n",
    "dense3 = Dense(units = 50, activation = 'relu')(dense2)\n",
    "output = Dense(units = 3, activation = 'softmax')(dense3)\n",
    "model1_a = Model(inputs = [input1, input2, input3], outputs = output)"
   ]
  },
  {
   "cell_type": "code",
   "execution_count": 62,
   "id": "23b0d7ed",
   "metadata": {},
   "outputs": [
    {
     "name": "stdout",
     "output_type": "stream",
     "text": [
      "Epoch 1/100\n",
      "1073/1073 [==============================] - 4s 4ms/step - loss: 0.9425 - accuracy: 0.5589 - val_loss: 0.8820 - val_accuracy: 0.5935\n",
      "Epoch 2/100\n",
      "1073/1073 [==============================] - 4s 4ms/step - loss: 0.8529 - accuracy: 0.6141 - val_loss: 0.8227 - val_accuracy: 0.6304\n",
      "Epoch 3/100\n",
      "1073/1073 [==============================] - 4s 4ms/step - loss: 0.8321 - accuracy: 0.6260 - val_loss: 0.8034 - val_accuracy: 0.6467\n",
      "Epoch 4/100\n",
      "1073/1073 [==============================] - 4s 4ms/step - loss: 0.8176 - accuracy: 0.6335 - val_loss: 0.7844 - val_accuracy: 0.6520\n",
      "Epoch 5/100\n",
      "1073/1073 [==============================] - 4s 4ms/step - loss: 0.8003 - accuracy: 0.6437 - val_loss: 0.8355 - val_accuracy: 0.6159\n",
      "Epoch 6/100\n",
      "1073/1073 [==============================] - 4s 4ms/step - loss: 0.7881 - accuracy: 0.6508 - val_loss: 0.7705 - val_accuracy: 0.6612\n",
      "Epoch 7/100\n",
      "1073/1073 [==============================] - 4s 4ms/step - loss: 0.7783 - accuracy: 0.6564 - val_loss: 0.7564 - val_accuracy: 0.6704\n",
      "Epoch 8/100\n",
      "1073/1073 [==============================] - 4s 4ms/step - loss: 0.7690 - accuracy: 0.6621 - val_loss: 0.7516 - val_accuracy: 0.6729\n",
      "Epoch 9/100\n",
      "1073/1073 [==============================] - 4s 4ms/step - loss: 0.7606 - accuracy: 0.6673 - val_loss: 0.7453 - val_accuracy: 0.6772\n",
      "Epoch 10/100\n",
      "1073/1073 [==============================] - 4s 4ms/step - loss: 0.7550 - accuracy: 0.6691 - val_loss: 0.7402 - val_accuracy: 0.6807\n",
      "Epoch 11/100\n",
      "1073/1073 [==============================] - 4s 4ms/step - loss: 0.7483 - accuracy: 0.6731 - val_loss: 0.7461 - val_accuracy: 0.6783\n",
      "Epoch 12/100\n",
      "1073/1073 [==============================] - 4s 4ms/step - loss: 0.7424 - accuracy: 0.6763 - val_loss: 0.7355 - val_accuracy: 0.6836\n",
      "Epoch 13/100\n",
      "1073/1073 [==============================] - 4s 4ms/step - loss: 0.7333 - accuracy: 0.6811 - val_loss: 0.7354 - val_accuracy: 0.6828\n",
      "Epoch 14/100\n",
      "1073/1073 [==============================] - 4s 4ms/step - loss: 0.7289 - accuracy: 0.6838 - val_loss: 0.7374 - val_accuracy: 0.6770\n",
      "Epoch 15/100\n",
      "1073/1073 [==============================] - 4s 4ms/step - loss: 0.7234 - accuracy: 0.6868 - val_loss: 0.7264 - val_accuracy: 0.6849\n",
      "Epoch 16/100\n",
      "1073/1073 [==============================] - 4s 4ms/step - loss: 0.7178 - accuracy: 0.6895 - val_loss: 0.7206 - val_accuracy: 0.6906\n",
      "Epoch 17/100\n",
      "1073/1073 [==============================] - 4s 4ms/step - loss: 0.7158 - accuracy: 0.6901 - val_loss: 0.7154 - val_accuracy: 0.6915\n",
      "Epoch 18/100\n",
      "1073/1073 [==============================] - 4s 4ms/step - loss: 0.7104 - accuracy: 0.6937 - val_loss: 0.7220 - val_accuracy: 0.6873\n",
      "Epoch 19/100\n",
      "1073/1073 [==============================] - 4s 4ms/step - loss: 0.7080 - accuracy: 0.6939 - val_loss: 0.7141 - val_accuracy: 0.6934\n",
      "Epoch 20/100\n",
      "1073/1073 [==============================] - 4s 4ms/step - loss: 0.7045 - accuracy: 0.6963 - val_loss: 0.7139 - val_accuracy: 0.6903\n",
      "Epoch 21/100\n",
      "1073/1073 [==============================] - 4s 4ms/step - loss: 0.7002 - accuracy: 0.6983 - val_loss: 0.7071 - val_accuracy: 0.6958\n",
      "Epoch 22/100\n",
      "1073/1073 [==============================] - 4s 4ms/step - loss: 0.6975 - accuracy: 0.6995 - val_loss: 0.7056 - val_accuracy: 0.6926\n",
      "Epoch 23/100\n",
      "1073/1073 [==============================] - 4s 4ms/step - loss: 0.6960 - accuracy: 0.7006 - val_loss: 0.7230 - val_accuracy: 0.6863\n",
      "Epoch 24/100\n",
      "1073/1073 [==============================] - 4s 4ms/step - loss: 0.6923 - accuracy: 0.7031 - val_loss: 0.7194 - val_accuracy: 0.6891\n",
      "Epoch 25/100\n",
      "1073/1073 [==============================] - 4s 4ms/step - loss: 0.6898 - accuracy: 0.7037 - val_loss: 0.6991 - val_accuracy: 0.6982\n",
      "Epoch 26/100\n",
      "1073/1073 [==============================] - 4s 4ms/step - loss: 0.6869 - accuracy: 0.7057 - val_loss: 0.7010 - val_accuracy: 0.6935\n",
      "Epoch 27/100\n",
      "1073/1073 [==============================] - 4s 4ms/step - loss: 0.6855 - accuracy: 0.7061 - val_loss: 0.6908 - val_accuracy: 0.7021\n",
      "Epoch 28/100\n",
      "1073/1073 [==============================] - 4s 4ms/step - loss: 0.6836 - accuracy: 0.7077 - val_loss: 0.6914 - val_accuracy: 0.6985\n",
      "Epoch 29/100\n",
      "1073/1073 [==============================] - 4s 4ms/step - loss: 0.6789 - accuracy: 0.7093 - val_loss: 0.7126 - val_accuracy: 0.6934\n",
      "Epoch 30/100\n",
      "1073/1073 [==============================] - 4s 4ms/step - loss: 0.6800 - accuracy: 0.7085 - val_loss: 0.6945 - val_accuracy: 0.6999\n",
      "Epoch 31/100\n",
      "1073/1073 [==============================] - 4s 4ms/step - loss: 0.6772 - accuracy: 0.7101 - val_loss: 0.6925 - val_accuracy: 0.7045\n",
      "Epoch 32/100\n",
      "1073/1073 [==============================] - 4s 4ms/step - loss: 0.6756 - accuracy: 0.7108 - val_loss: 0.6957 - val_accuracy: 0.6995\n",
      "Epoch 33/100\n",
      "1073/1073 [==============================] - 4s 4ms/step - loss: 0.6745 - accuracy: 0.7116 - val_loss: 0.6855 - val_accuracy: 0.7052\n",
      "Epoch 34/100\n",
      "1073/1073 [==============================] - 4s 4ms/step - loss: 0.6720 - accuracy: 0.7129 - val_loss: 0.6864 - val_accuracy: 0.7049\n",
      "Epoch 35/100\n",
      "1073/1073 [==============================] - 4s 4ms/step - loss: 0.6707 - accuracy: 0.7137 - val_loss: 0.6986 - val_accuracy: 0.6997\n",
      "Epoch 36/100\n",
      "1073/1073 [==============================] - 4s 4ms/step - loss: 0.6696 - accuracy: 0.7141 - val_loss: 0.6878 - val_accuracy: 0.7026\n",
      "Epoch 37/100\n",
      "1073/1073 [==============================] - 4s 4ms/step - loss: 0.6686 - accuracy: 0.7143 - val_loss: 0.6849 - val_accuracy: 0.7052\n",
      "Epoch 38/100\n",
      "1073/1073 [==============================] - 4s 4ms/step - loss: 0.6664 - accuracy: 0.7160 - val_loss: 0.6829 - val_accuracy: 0.7082\n",
      "Epoch 39/100\n",
      "1073/1073 [==============================] - 4s 4ms/step - loss: 0.6652 - accuracy: 0.7165 - val_loss: 0.6759 - val_accuracy: 0.7086\n",
      "Epoch 40/100\n",
      "1073/1073 [==============================] - 4s 4ms/step - loss: 0.6632 - accuracy: 0.7178 - val_loss: 0.6801 - val_accuracy: 0.7051\n",
      "Epoch 41/100\n",
      "1073/1073 [==============================] - 4s 4ms/step - loss: 0.6619 - accuracy: 0.7184 - val_loss: 0.6831 - val_accuracy: 0.7059\n",
      "Epoch 42/100\n",
      "1073/1073 [==============================] - 4s 4ms/step - loss: 0.6606 - accuracy: 0.7188 - val_loss: 0.6803 - val_accuracy: 0.7075\n",
      "Epoch 43/100\n",
      "1073/1073 [==============================] - 4s 4ms/step - loss: 0.6601 - accuracy: 0.7190 - val_loss: 0.6796 - val_accuracy: 0.7099\n",
      "Epoch 44/100\n",
      "1073/1073 [==============================] - 4s 4ms/step - loss: 0.6584 - accuracy: 0.7195 - val_loss: 0.6958 - val_accuracy: 0.7021\n",
      "Epoch 45/100\n",
      "1073/1073 [==============================] - 4s 4ms/step - loss: 0.6564 - accuracy: 0.7211 - val_loss: 0.6749 - val_accuracy: 0.7088\n",
      "Epoch 46/100\n",
      "1073/1073 [==============================] - 4s 4ms/step - loss: 0.6558 - accuracy: 0.7213 - val_loss: 0.6764 - val_accuracy: 0.7087\n",
      "Epoch 47/100\n",
      "1073/1073 [==============================] - 4s 4ms/step - loss: 0.6553 - accuracy: 0.7215 - val_loss: 0.6802 - val_accuracy: 0.7096\n",
      "Epoch 48/100\n",
      "1073/1073 [==============================] - 4s 4ms/step - loss: 0.6539 - accuracy: 0.7225 - val_loss: 0.6729 - val_accuracy: 0.7103\n",
      "Epoch 49/100\n",
      "1073/1073 [==============================] - 4s 4ms/step - loss: 0.6541 - accuracy: 0.7220 - val_loss: 0.7034 - val_accuracy: 0.6952\n",
      "Epoch 50/100\n",
      "1073/1073 [==============================] - 4s 4ms/step - loss: 0.6522 - accuracy: 0.7229 - val_loss: 0.6967 - val_accuracy: 0.7007\n",
      "Epoch 51/100\n",
      "1073/1073 [==============================] - 4s 4ms/step - loss: 0.6512 - accuracy: 0.7234 - val_loss: 0.6846 - val_accuracy: 0.7067\n",
      "Epoch 52/100\n",
      "1073/1073 [==============================] - 4s 4ms/step - loss: 0.6496 - accuracy: 0.7241 - val_loss: 0.6824 - val_accuracy: 0.7068\n",
      "Epoch 53/100\n",
      "1073/1073 [==============================] - 4s 4ms/step - loss: 0.6491 - accuracy: 0.7246 - val_loss: 0.6807 - val_accuracy: 0.7083\n",
      "Epoch 54/100\n",
      "1073/1073 [==============================] - 4s 4ms/step - loss: 0.6483 - accuracy: 0.7249 - val_loss: 0.6889 - val_accuracy: 0.7027\n",
      "Epoch 55/100\n",
      "1073/1073 [==============================] - 4s 4ms/step - loss: 0.6470 - accuracy: 0.7259 - val_loss: 0.6715 - val_accuracy: 0.7130\n",
      "Epoch 56/100\n",
      "1073/1073 [==============================] - 4s 4ms/step - loss: 0.6471 - accuracy: 0.7254 - val_loss: 0.6736 - val_accuracy: 0.7109\n",
      "Epoch 57/100\n",
      "1073/1073 [==============================] - 4s 4ms/step - loss: 0.6462 - accuracy: 0.7258 - val_loss: 0.7016 - val_accuracy: 0.6986\n",
      "Epoch 58/100\n",
      "1073/1073 [==============================] - 4s 4ms/step - loss: 0.6458 - accuracy: 0.7260 - val_loss: 0.6932 - val_accuracy: 0.7045\n",
      "Epoch 59/100\n",
      "1073/1073 [==============================] - 4s 4ms/step - loss: 0.6438 - accuracy: 0.7273 - val_loss: 0.6796 - val_accuracy: 0.7099\n",
      "Epoch 60/100\n",
      "1073/1073 [==============================] - 4s 4ms/step - loss: 0.6436 - accuracy: 0.7269 - val_loss: 0.6785 - val_accuracy: 0.7115\n",
      "Epoch 61/100\n",
      "1073/1073 [==============================] - 4s 4ms/step - loss: 0.6427 - accuracy: 0.7277 - val_loss: 0.6780 - val_accuracy: 0.7086\n",
      "Epoch 62/100\n",
      "1073/1073 [==============================] - 4s 4ms/step - loss: 0.6421 - accuracy: 0.7279 - val_loss: 0.6703 - val_accuracy: 0.7110\n",
      "Epoch 63/100\n",
      "1073/1073 [==============================] - 4s 4ms/step - loss: 0.6407 - accuracy: 0.7288 - val_loss: 0.6647 - val_accuracy: 0.7163\n",
      "Epoch 64/100\n",
      "1073/1073 [==============================] - 4s 4ms/step - loss: 0.6408 - accuracy: 0.7289 - val_loss: 0.6661 - val_accuracy: 0.7150\n",
      "Epoch 65/100\n",
      "1073/1073 [==============================] - 4s 4ms/step - loss: 0.6399 - accuracy: 0.7290 - val_loss: 0.6763 - val_accuracy: 0.7122\n",
      "Epoch 66/100\n",
      "1073/1073 [==============================] - 4s 4ms/step - loss: 0.6400 - accuracy: 0.7291 - val_loss: 0.6678 - val_accuracy: 0.7117\n",
      "Epoch 67/100\n",
      "1073/1073 [==============================] - 4s 4ms/step - loss: 0.6385 - accuracy: 0.7297 - val_loss: 0.6759 - val_accuracy: 0.7112\n",
      "Epoch 68/100\n",
      "1073/1073 [==============================] - 4s 4ms/step - loss: 0.6385 - accuracy: 0.7300 - val_loss: 0.6755 - val_accuracy: 0.7101\n",
      "Epoch 69/100\n",
      "1073/1073 [==============================] - 4s 4ms/step - loss: 0.6363 - accuracy: 0.7311 - val_loss: 0.6678 - val_accuracy: 0.7155\n",
      "Epoch 70/100\n",
      "1073/1073 [==============================] - 4s 4ms/step - loss: 0.6362 - accuracy: 0.7309 - val_loss: 0.6688 - val_accuracy: 0.7103\n",
      "Epoch 71/100\n",
      "1073/1073 [==============================] - 4s 4ms/step - loss: 0.6352 - accuracy: 0.7318 - val_loss: 0.6706 - val_accuracy: 0.7107\n",
      "Epoch 72/100\n",
      "1073/1073 [==============================] - 4s 4ms/step - loss: 0.6355 - accuracy: 0.7314 - val_loss: 0.6709 - val_accuracy: 0.7172\n",
      "Epoch 73/100\n",
      "1073/1073 [==============================] - 4s 4ms/step - loss: 0.6349 - accuracy: 0.7319 - val_loss: 0.6637 - val_accuracy: 0.7152\n",
      "Epoch 74/100\n",
      "1073/1073 [==============================] - 4s 4ms/step - loss: 0.6346 - accuracy: 0.7321 - val_loss: 0.6681 - val_accuracy: 0.7156\n",
      "Epoch 75/100\n",
      "1073/1073 [==============================] - 4s 4ms/step - loss: 0.6338 - accuracy: 0.7321 - val_loss: 0.6690 - val_accuracy: 0.7157\n",
      "Epoch 76/100\n",
      "1073/1073 [==============================] - 4s 4ms/step - loss: 0.6338 - accuracy: 0.7323 - val_loss: 0.6764 - val_accuracy: 0.7142\n",
      "Epoch 77/100\n",
      "1073/1073 [==============================] - 4s 4ms/step - loss: 0.6325 - accuracy: 0.7329 - val_loss: 0.6823 - val_accuracy: 0.7096\n",
      "Epoch 78/100\n",
      "1073/1073 [==============================] - 4s 4ms/step - loss: 0.6324 - accuracy: 0.7330 - val_loss: 0.6824 - val_accuracy: 0.7109\n",
      "Epoch 79/100\n",
      "1073/1073 [==============================] - 4s 4ms/step - loss: 0.6313 - accuracy: 0.7334 - val_loss: 0.6667 - val_accuracy: 0.7168\n",
      "Epoch 80/100\n",
      "1073/1073 [==============================] - 4s 4ms/step - loss: 0.6311 - accuracy: 0.7337 - val_loss: 0.6660 - val_accuracy: 0.7172\n",
      "Epoch 81/100\n",
      "1073/1073 [==============================] - 4s 4ms/step - loss: 0.6308 - accuracy: 0.7337 - val_loss: 0.6669 - val_accuracy: 0.7201\n",
      "Epoch 82/100\n",
      "1073/1073 [==============================] - 4s 4ms/step - loss: 0.6303 - accuracy: 0.7344 - val_loss: 0.6660 - val_accuracy: 0.7178\n",
      "Epoch 83/100\n",
      "1073/1073 [==============================] - 4s 4ms/step - loss: 0.6291 - accuracy: 0.7346 - val_loss: 0.6676 - val_accuracy: 0.7191\n",
      "Epoch 84/100\n",
      "1073/1073 [==============================] - 4s 4ms/step - loss: 0.6299 - accuracy: 0.7337 - val_loss: 0.6698 - val_accuracy: 0.7134\n",
      "Epoch 85/100\n",
      "1073/1073 [==============================] - 4s 4ms/step - loss: 0.6292 - accuracy: 0.7348 - val_loss: 0.6710 - val_accuracy: 0.7156\n",
      "Epoch 86/100\n",
      "1073/1073 [==============================] - 4s 4ms/step - loss: 0.6282 - accuracy: 0.7352 - val_loss: 0.6658 - val_accuracy: 0.7170\n",
      "Epoch 87/100\n",
      "1073/1073 [==============================] - 4s 4ms/step - loss: 0.6289 - accuracy: 0.7348 - val_loss: 0.6607 - val_accuracy: 0.7166\n",
      "Epoch 88/100\n",
      "1073/1073 [==============================] - 4s 4ms/step - loss: 0.6275 - accuracy: 0.7354 - val_loss: 0.6654 - val_accuracy: 0.7161\n",
      "Epoch 89/100\n",
      "1073/1073 [==============================] - 4s 4ms/step - loss: 0.6270 - accuracy: 0.7359 - val_loss: 0.6597 - val_accuracy: 0.7206\n",
      "Epoch 90/100\n",
      "1073/1073 [==============================] - 4s 4ms/step - loss: 0.6267 - accuracy: 0.7358 - val_loss: 0.6687 - val_accuracy: 0.7174\n",
      "Epoch 91/100\n",
      "1073/1073 [==============================] - 4s 4ms/step - loss: 0.6261 - accuracy: 0.7359 - val_loss: 0.6676 - val_accuracy: 0.7170\n",
      "Epoch 92/100\n",
      "1073/1073 [==============================] - 4s 4ms/step - loss: 0.6251 - accuracy: 0.7366 - val_loss: 0.6631 - val_accuracy: 0.7206\n",
      "Epoch 93/100\n",
      "1073/1073 [==============================] - 4s 4ms/step - loss: 0.6245 - accuracy: 0.7370 - val_loss: 0.6652 - val_accuracy: 0.7214\n",
      "Epoch 94/100\n",
      "1073/1073 [==============================] - 4s 4ms/step - loss: 0.6244 - accuracy: 0.7371 - val_loss: 0.6641 - val_accuracy: 0.7186\n",
      "Epoch 95/100\n",
      "1073/1073 [==============================] - 4s 4ms/step - loss: 0.6246 - accuracy: 0.7370 - val_loss: 0.6685 - val_accuracy: 0.7152\n",
      "Epoch 96/100\n",
      "1073/1073 [==============================] - 4s 4ms/step - loss: 0.6240 - accuracy: 0.7371 - val_loss: 0.6653 - val_accuracy: 0.7190\n",
      "Epoch 97/100\n",
      "1073/1073 [==============================] - 4s 4ms/step - loss: 0.6243 - accuracy: 0.7375 - val_loss: 0.6688 - val_accuracy: 0.7216\n",
      "Epoch 98/100\n",
      "1073/1073 [==============================] - 4s 4ms/step - loss: 0.6227 - accuracy: 0.7381 - val_loss: 0.6722 - val_accuracy: 0.7142\n",
      "Epoch 99/100\n",
      "1073/1073 [==============================] - 4s 4ms/step - loss: 0.6228 - accuracy: 0.7374 - val_loss: 0.6632 - val_accuracy: 0.7211\n",
      "Epoch 100/100\n",
      "1073/1073 [==============================] - 4s 4ms/step - loss: 0.6226 - accuracy: 0.7377 - val_loss: 0.6729 - val_accuracy: 0.7165\n"
     ]
    }
   ],
   "source": [
    "model1_a.compile(optimizer = Adam(0.001), loss = 'categorical_crossentropy', metrics = 'accuracy')\n",
    "tf.debugging.set_log_device_placement(True)\n",
    "\n",
    "# Place tensors on the CPU\n",
    "with tf.device('/CPU:0'):\n",
    "    model1_a.fit([X_train_1, x_train_s1_tfidfw2v, x_train_s2_tfidfw2v], y_train_enc, epochs = 100, batch_size = 512, \n",
    "           validation_data = ([X_val_1, x_val_s1_tfidfw2v, x_val_s2_tfidfw2v], y_val_enc))"
   ]
  },
  {
   "cell_type": "code",
   "execution_count": 63,
   "id": "6332abe1",
   "metadata": {},
   "outputs": [
    {
     "name": "stdout",
     "output_type": "stream",
     "text": [
      "Epoch 1/50\n",
      "1073/1073 [==============================] - 4s 4ms/step - loss: 0.6231 - accuracy: 0.7374 - val_loss: 0.6644 - val_accuracy: 0.7195\n",
      "Epoch 2/50\n",
      "1073/1073 [==============================] - 4s 4ms/step - loss: 0.6219 - accuracy: 0.7382 - val_loss: 0.6702 - val_accuracy: 0.7167\n",
      "Epoch 3/50\n",
      "1073/1073 [==============================] - 4s 4ms/step - loss: 0.6216 - accuracy: 0.7384 - val_loss: 0.6611 - val_accuracy: 0.7228\n",
      "Epoch 4/50\n",
      "1073/1073 [==============================] - 4s 4ms/step - loss: 0.6206 - accuracy: 0.7394 - val_loss: 0.6817 - val_accuracy: 0.7150\n",
      "Epoch 5/50\n",
      "1073/1073 [==============================] - 4s 4ms/step - loss: 0.6218 - accuracy: 0.7385 - val_loss: 0.6624 - val_accuracy: 0.7214\n",
      "Epoch 6/50\n",
      "1073/1073 [==============================] - 4s 4ms/step - loss: 0.6214 - accuracy: 0.7385 - val_loss: 0.6626 - val_accuracy: 0.7198\n",
      "Epoch 7/50\n",
      "1073/1073 [==============================] - 4s 4ms/step - loss: 0.6205 - accuracy: 0.7390 - val_loss: 0.6837 - val_accuracy: 0.7141\n",
      "Epoch 8/50\n",
      "1073/1073 [==============================] - 4s 4ms/step - loss: 0.6202 - accuracy: 0.7392 - val_loss: 0.6613 - val_accuracy: 0.7231\n",
      "Epoch 9/50\n",
      "1073/1073 [==============================] - 4s 4ms/step - loss: 0.6196 - accuracy: 0.7397 - val_loss: 0.6658 - val_accuracy: 0.7198\n",
      "Epoch 10/50\n",
      "1073/1073 [==============================] - 4s 4ms/step - loss: 0.6194 - accuracy: 0.7399 - val_loss: 0.6677 - val_accuracy: 0.7192\n",
      "Epoch 11/50\n",
      "1073/1073 [==============================] - 4s 4ms/step - loss: 0.6185 - accuracy: 0.7403 - val_loss: 0.6566 - val_accuracy: 0.7245\n",
      "Epoch 12/50\n",
      "1073/1073 [==============================] - 4s 4ms/step - loss: 0.6192 - accuracy: 0.7394 - val_loss: 0.6740 - val_accuracy: 0.7159\n",
      "Epoch 13/50\n",
      "1073/1073 [==============================] - 4s 4ms/step - loss: 0.6191 - accuracy: 0.7391 - val_loss: 0.6648 - val_accuracy: 0.7203\n",
      "Epoch 14/50\n",
      "1073/1073 [==============================] - 4s 4ms/step - loss: 0.6183 - accuracy: 0.7398 - val_loss: 0.6678 - val_accuracy: 0.7182\n",
      "Epoch 15/50\n",
      "1073/1073 [==============================] - 4s 4ms/step - loss: 0.6179 - accuracy: 0.7407 - val_loss: 0.6659 - val_accuracy: 0.7212\n",
      "Epoch 16/50\n",
      "1073/1073 [==============================] - 4s 4ms/step - loss: 0.6186 - accuracy: 0.7398 - val_loss: 0.6583 - val_accuracy: 0.7231\n",
      "Epoch 17/50\n",
      "1073/1073 [==============================] - 4s 4ms/step - loss: 0.6169 - accuracy: 0.7409 - val_loss: 0.6721 - val_accuracy: 0.7167\n",
      "Epoch 18/50\n",
      "1073/1073 [==============================] - 4s 4ms/step - loss: 0.6171 - accuracy: 0.7406 - val_loss: 0.6701 - val_accuracy: 0.7161\n",
      "Epoch 19/50\n",
      "1073/1073 [==============================] - 4s 4ms/step - loss: 0.6166 - accuracy: 0.7408 - val_loss: 0.6649 - val_accuracy: 0.7238\n",
      "Epoch 20/50\n",
      "1073/1073 [==============================] - 4s 4ms/step - loss: 0.6164 - accuracy: 0.7408 - val_loss: 0.6567 - val_accuracy: 0.7299\n",
      "Epoch 21/50\n",
      "1073/1073 [==============================] - 4s 4ms/step - loss: 0.6160 - accuracy: 0.7414 - val_loss: 0.6574 - val_accuracy: 0.7265\n",
      "Epoch 22/50\n",
      "1073/1073 [==============================] - 4s 4ms/step - loss: 0.6158 - accuracy: 0.7411 - val_loss: 0.6847 - val_accuracy: 0.7107\n",
      "Epoch 23/50\n",
      "1073/1073 [==============================] - 4s 4ms/step - loss: 0.6150 - accuracy: 0.7417 - val_loss: 0.6711 - val_accuracy: 0.7196\n",
      "Epoch 24/50\n",
      "1073/1073 [==============================] - 4s 4ms/step - loss: 0.6161 - accuracy: 0.7412 - val_loss: 0.6649 - val_accuracy: 0.7179\n",
      "Epoch 25/50\n",
      "1073/1073 [==============================] - 4s 4ms/step - loss: 0.6147 - accuracy: 0.7420 - val_loss: 0.6622 - val_accuracy: 0.7243\n",
      "Epoch 26/50\n",
      "1073/1073 [==============================] - 4s 4ms/step - loss: 0.6145 - accuracy: 0.7421 - val_loss: 0.6587 - val_accuracy: 0.7231\n",
      "Epoch 27/50\n",
      "1073/1073 [==============================] - 4s 4ms/step - loss: 0.6142 - accuracy: 0.7420 - val_loss: 0.6605 - val_accuracy: 0.7275\n",
      "Epoch 28/50\n",
      "1073/1073 [==============================] - 4s 4ms/step - loss: 0.6148 - accuracy: 0.7419 - val_loss: 0.6583 - val_accuracy: 0.7243\n",
      "Epoch 29/50\n",
      "1073/1073 [==============================] - 4s 4ms/step - loss: 0.6133 - accuracy: 0.7426 - val_loss: 0.6596 - val_accuracy: 0.7257\n",
      "Epoch 30/50\n",
      "1073/1073 [==============================] - 4s 4ms/step - loss: 0.6140 - accuracy: 0.7420 - val_loss: 0.6557 - val_accuracy: 0.7270\n",
      "Epoch 31/50\n",
      "1073/1073 [==============================] - 4s 4ms/step - loss: 0.6131 - accuracy: 0.7424 - val_loss: 0.6629 - val_accuracy: 0.7213\n",
      "Epoch 32/50\n",
      "1073/1073 [==============================] - 4s 4ms/step - loss: 0.6131 - accuracy: 0.7426 - val_loss: 0.6580 - val_accuracy: 0.7240\n",
      "Epoch 33/50\n",
      "1073/1073 [==============================] - 4s 4ms/step - loss: 0.6134 - accuracy: 0.7426 - val_loss: 0.6600 - val_accuracy: 0.7260\n",
      "Epoch 34/50\n",
      "1073/1073 [==============================] - 4s 4ms/step - loss: 0.6127 - accuracy: 0.7430 - val_loss: 0.6581 - val_accuracy: 0.7270\n",
      "Epoch 35/50\n",
      "1073/1073 [==============================] - 4s 4ms/step - loss: 0.6125 - accuracy: 0.7430 - val_loss: 0.6712 - val_accuracy: 0.7244\n",
      "Epoch 36/50\n",
      "1073/1073 [==============================] - 4s 4ms/step - loss: 0.6125 - accuracy: 0.7434 - val_loss: 0.6653 - val_accuracy: 0.7221\n",
      "Epoch 37/50\n",
      "1073/1073 [==============================] - 4s 4ms/step - loss: 0.6125 - accuracy: 0.7428 - val_loss: 0.6586 - val_accuracy: 0.7261\n",
      "Epoch 38/50\n",
      "1073/1073 [==============================] - 4s 4ms/step - loss: 0.6121 - accuracy: 0.7424 - val_loss: 0.6535 - val_accuracy: 0.7262\n",
      "Epoch 39/50\n",
      "1073/1073 [==============================] - 4s 4ms/step - loss: 0.6121 - accuracy: 0.7433 - val_loss: 0.6609 - val_accuracy: 0.7205\n",
      "Epoch 40/50\n",
      "1073/1073 [==============================] - 4s 4ms/step - loss: 0.6111 - accuracy: 0.7440 - val_loss: 0.6619 - val_accuracy: 0.7229\n",
      "Epoch 41/50\n",
      "1073/1073 [==============================] - 4s 4ms/step - loss: 0.6126 - accuracy: 0.7430 - val_loss: 0.6552 - val_accuracy: 0.7277\n",
      "Epoch 42/50\n",
      "1073/1073 [==============================] - 4s 4ms/step - loss: 0.6108 - accuracy: 0.7436 - val_loss: 0.6556 - val_accuracy: 0.7264\n",
      "Epoch 43/50\n",
      "1073/1073 [==============================] - 4s 4ms/step - loss: 0.6114 - accuracy: 0.7438 - val_loss: 0.6583 - val_accuracy: 0.7235\n",
      "Epoch 44/50\n",
      "1073/1073 [==============================] - 4s 4ms/step - loss: 0.6108 - accuracy: 0.7442 - val_loss: 0.6661 - val_accuracy: 0.7201\n",
      "Epoch 45/50\n",
      "1073/1073 [==============================] - 4s 4ms/step - loss: 0.6098 - accuracy: 0.7440 - val_loss: 0.6587 - val_accuracy: 0.7243\n",
      "Epoch 46/50\n",
      "1073/1073 [==============================] - 4s 4ms/step - loss: 0.6097 - accuracy: 0.7446 - val_loss: 0.6672 - val_accuracy: 0.7239\n",
      "Epoch 47/50\n",
      "1073/1073 [==============================] - 4s 4ms/step - loss: 0.6102 - accuracy: 0.7439 - val_loss: 0.6677 - val_accuracy: 0.7233\n",
      "Epoch 48/50\n",
      "1073/1073 [==============================] - 4s 4ms/step - loss: 0.6096 - accuracy: 0.7442 - val_loss: 0.6571 - val_accuracy: 0.7265\n",
      "Epoch 49/50\n",
      "1073/1073 [==============================] - 4s 4ms/step - loss: 0.6104 - accuracy: 0.7434 - val_loss: 0.6709 - val_accuracy: 0.7172\n",
      "Epoch 50/50\n",
      "1073/1073 [==============================] - 4s 4ms/step - loss: 0.6091 - accuracy: 0.7446 - val_loss: 0.6786 - val_accuracy: 0.7168\n"
     ]
    }
   ],
   "source": [
    "with tf.device('/CPU:0'):\n",
    "    model1_a.fit([X_train_1, x_train_s1_tfidfw2v, x_train_s2_tfidfw2v], y_train_enc, epochs = 50, batch_size = 512, \n",
    "           validation_data = ([X_val_1, x_val_s1_tfidfw2v, x_val_s2_tfidfw2v], y_val_enc))"
   ]
  },
  {
   "cell_type": "markdown",
   "id": "3f1b1031",
   "metadata": {},
   "source": [
    "## model1_b"
   ]
  },
  {
   "cell_type": "code",
   "execution_count": 11,
   "id": "c0370063",
   "metadata": {},
   "outputs": [],
   "source": [
    "input1 = Input(shape=(29,)) #for extracted features\n",
    "input2 = Input(shape=(300,)) #for sentence1 embeddings\n",
    "input3 = Input(shape=(300,)) #for sentence2 embeddings\n",
    "merged = concatenate([input1, input2, input3]) #merging all inputs\n",
    "norm1 = BatchNormalization()(merged)\n",
    "dense1 = Dense(units = 70, activation = 'relu')(norm1)\n",
    "dense2 = Dense(units = 60, activation = 'relu')(dense1)\n",
    "dense3 = Dense(units = 50, activation = 'relu')(dense2)\n",
    "dense4 = Dense(units = 40, activation = 'relu')(dense3)\n",
    "dense5 = Dense(units = 30, activation = 'relu')(dense4)\n",
    "dense6 = Dense(units = 20, activation = 'relu')(dense5)\n",
    "dense7 = Dense(units = 10, activation = 'relu')(dense6)\n",
    "output = Dense(units = 3, activation = 'softmax')(dense7)\n",
    "model1_b = Model(inputs = [input1, input2, input3], outputs = output)"
   ]
  },
  {
   "cell_type": "code",
   "execution_count": 12,
   "id": "76194602",
   "metadata": {},
   "outputs": [
    {
     "name": "stdout",
     "output_type": "stream",
     "text": [
      "Epoch 1/100\n",
      "4292/4292 [==============================] - 31s 7ms/step - loss: 0.7687 - accuracy: 0.6592 - val_loss: 0.6857 - val_accuracy: 0.7053\n",
      "Epoch 2/100\n",
      "4292/4292 [==============================] - 25s 6ms/step - loss: 0.6825 - accuracy: 0.7081 - val_loss: 0.6555 - val_accuracy: 0.7228\n",
      "Epoch 3/100\n",
      "4292/4292 [==============================] - 22s 5ms/step - loss: 0.6551 - accuracy: 0.7228 - val_loss: 0.6410 - val_accuracy: 0.7342\n",
      "Epoch 4/100\n",
      "4292/4292 [==============================] - 21s 5ms/step - loss: 0.6375 - accuracy: 0.7314 - val_loss: 0.6333 - val_accuracy: 0.7318\n",
      "Epoch 5/100\n",
      "4292/4292 [==============================] - 23s 5ms/step - loss: 0.6251 - accuracy: 0.7381 - val_loss: 0.6214 - val_accuracy: 0.7413\n",
      "Epoch 6/100\n",
      "4292/4292 [==============================] - 23s 5ms/step - loss: 0.6158 - accuracy: 0.7428 - val_loss: 0.6189 - val_accuracy: 0.7393\n",
      "Epoch 7/100\n",
      "4292/4292 [==============================] - 25s 6ms/step - loss: 0.6092 - accuracy: 0.7462 - val_loss: 0.6135 - val_accuracy: 0.7442\n",
      "Epoch 8/100\n",
      "4292/4292 [==============================] - 25s 6ms/step - loss: 0.6024 - accuracy: 0.7489 - val_loss: 0.6192 - val_accuracy: 0.7395\n",
      "Epoch 9/100\n",
      "4292/4292 [==============================] - 25s 6ms/step - loss: 0.5970 - accuracy: 0.7519 - val_loss: 0.6099 - val_accuracy: 0.7456\n",
      "Epoch 10/100\n",
      "4292/4292 [==============================] - 25s 6ms/step - loss: 0.5931 - accuracy: 0.7539 - val_loss: 0.6057 - val_accuracy: 0.7455\n",
      "Epoch 11/100\n",
      "4292/4292 [==============================] - 23s 5ms/step - loss: 0.5882 - accuracy: 0.7561 - val_loss: 0.6034 - val_accuracy: 0.7499\n",
      "Epoch 12/100\n",
      "4292/4292 [==============================] - 25s 6ms/step - loss: 0.5851 - accuracy: 0.7577 - val_loss: 0.6024 - val_accuracy: 0.7504\n",
      "Epoch 13/100\n",
      "4292/4292 [==============================] - 26s 6ms/step - loss: 0.5823 - accuracy: 0.7589 - val_loss: 0.6104 - val_accuracy: 0.7433\n",
      "Epoch 14/100\n",
      "4292/4292 [==============================] - 26s 6ms/step - loss: 0.5805 - accuracy: 0.7598 - val_loss: 0.6057 - val_accuracy: 0.7477\n",
      "Epoch 15/100\n",
      "4292/4292 [==============================] - 25s 6ms/step - loss: 0.5766 - accuracy: 0.7617 - val_loss: 0.6006 - val_accuracy: 0.7506\n",
      "Epoch 16/100\n",
      "4292/4292 [==============================] - 24s 6ms/step - loss: 0.5746 - accuracy: 0.7625 - val_loss: 0.5973 - val_accuracy: 0.7564\n",
      "Epoch 17/100\n",
      "4292/4292 [==============================] - 25s 6ms/step - loss: 0.5723 - accuracy: 0.7633 - val_loss: 0.6002 - val_accuracy: 0.7506\n",
      "Epoch 18/100\n",
      "4292/4292 [==============================] - 24s 5ms/step - loss: 0.5701 - accuracy: 0.7643 - val_loss: 0.5977 - val_accuracy: 0.7555\n",
      "Epoch 19/100\n",
      "4292/4292 [==============================] - 24s 6ms/step - loss: 0.5684 - accuracy: 0.7654 - val_loss: 0.5958 - val_accuracy: 0.7561\n",
      "Epoch 20/100\n",
      "4292/4292 [==============================] - 25s 6ms/step - loss: 0.5671 - accuracy: 0.7658 - val_loss: 0.5974 - val_accuracy: 0.7525\n",
      "Epoch 21/100\n",
      "4292/4292 [==============================] - 25s 6ms/step - loss: 0.5650 - accuracy: 0.7670 - val_loss: 0.5979 - val_accuracy: 0.7531\n",
      "Epoch 22/100\n",
      "4292/4292 [==============================] - 26s 6ms/step - loss: 0.5637 - accuracy: 0.7672 - val_loss: 0.5921 - val_accuracy: 0.7552\n",
      "Epoch 23/100\n",
      "4292/4292 [==============================] - 25s 6ms/step - loss: 0.5618 - accuracy: 0.7684 - val_loss: 0.5954 - val_accuracy: 0.7547\n",
      "Epoch 24/100\n",
      "4292/4292 [==============================] - 25s 6ms/step - loss: 0.5602 - accuracy: 0.7687 - val_loss: 0.6090 - val_accuracy: 0.7508\n",
      "Epoch 25/100\n",
      "4292/4292 [==============================] - 25s 6ms/step - loss: 0.5593 - accuracy: 0.7698 - val_loss: 0.6027 - val_accuracy: 0.7526\n",
      "Epoch 26/100\n",
      "4292/4292 [==============================] - 25s 6ms/step - loss: 0.5580 - accuracy: 0.7701 - val_loss: 0.5977 - val_accuracy: 0.7539\n",
      "Epoch 27/100\n",
      "4292/4292 [==============================] - 24s 6ms/step - loss: 0.5570 - accuracy: 0.7708 - val_loss: 0.5909 - val_accuracy: 0.7594\n",
      "Epoch 28/100\n",
      "4292/4292 [==============================] - 25s 6ms/step - loss: 0.5561 - accuracy: 0.7712 - val_loss: 0.5988 - val_accuracy: 0.7507\n",
      "Epoch 29/100\n",
      "4292/4292 [==============================] - 25s 6ms/step - loss: 0.5550 - accuracy: 0.7717 - val_loss: 0.5946 - val_accuracy: 0.7585\n",
      "Epoch 30/100\n",
      "4292/4292 [==============================] - 25s 6ms/step - loss: 0.5539 - accuracy: 0.7723 - val_loss: 0.6026 - val_accuracy: 0.7546\n",
      "Epoch 31/100\n",
      "4292/4292 [==============================] - 24s 6ms/step - loss: 0.5528 - accuracy: 0.7727 - val_loss: 0.5994 - val_accuracy: 0.7534\n",
      "Epoch 32/100\n",
      "4292/4292 [==============================] - 25s 6ms/step - loss: 0.5527 - accuracy: 0.7729 - val_loss: 0.6021 - val_accuracy: 0.7510\n",
      "Epoch 33/100\n",
      "4292/4292 [==============================] - 25s 6ms/step - loss: 0.5508 - accuracy: 0.7738 - val_loss: 0.5990 - val_accuracy: 0.7551\n",
      "Epoch 34/100\n",
      "4292/4292 [==============================] - 25s 6ms/step - loss: 0.5498 - accuracy: 0.7739 - val_loss: 0.5958 - val_accuracy: 0.7515\n",
      "Epoch 35/100\n",
      "4292/4292 [==============================] - 25s 6ms/step - loss: 0.5492 - accuracy: 0.7747 - val_loss: 0.6015 - val_accuracy: 0.7514\n",
      "Epoch 36/100\n",
      "4292/4292 [==============================] - 25s 6ms/step - loss: 0.5483 - accuracy: 0.7748 - val_loss: 0.5955 - val_accuracy: 0.7551\n",
      "Epoch 37/100\n",
      "4292/4292 [==============================] - 23s 5ms/step - loss: 0.5472 - accuracy: 0.7753 - val_loss: 0.6004 - val_accuracy: 0.7596\n",
      "Epoch 38/100\n",
      "4292/4292 [==============================] - 25s 6ms/step - loss: 0.5466 - accuracy: 0.7753 - val_loss: 0.6002 - val_accuracy: 0.7533\n",
      "Epoch 39/100\n",
      "4292/4292 [==============================] - 25s 6ms/step - loss: 0.5459 - accuracy: 0.7760 - val_loss: 0.6024 - val_accuracy: 0.7519\n",
      "Epoch 40/100\n",
      "4292/4292 [==============================] - 25s 6ms/step - loss: 0.5457 - accuracy: 0.7758 - val_loss: 0.6001 - val_accuracy: 0.7570\n",
      "Epoch 41/100\n",
      "4292/4292 [==============================] - 25s 6ms/step - loss: 0.5447 - accuracy: 0.7765 - val_loss: 0.6013 - val_accuracy: 0.7520\n",
      "Epoch 42/100\n",
      "4292/4292 [==============================] - 23s 5ms/step - loss: 0.5439 - accuracy: 0.7766 - val_loss: 0.5985 - val_accuracy: 0.7536\n",
      "Epoch 43/100\n",
      "4292/4292 [==============================] - 23s 5ms/step - loss: 0.5430 - accuracy: 0.7769 - val_loss: 0.6004 - val_accuracy: 0.7547\n",
      "Epoch 44/100\n",
      "4292/4292 [==============================] - 25s 6ms/step - loss: 0.5428 - accuracy: 0.7773 - val_loss: 0.6031 - val_accuracy: 0.7532\n",
      "Epoch 45/100\n",
      "4292/4292 [==============================] - 25s 6ms/step - loss: 0.5420 - accuracy: 0.7777 - val_loss: 0.6047 - val_accuracy: 0.7553\n",
      "Epoch 46/100\n",
      "4292/4292 [==============================] - 25s 6ms/step - loss: 0.5413 - accuracy: 0.7782 - val_loss: 0.6041 - val_accuracy: 0.7538\n",
      "Epoch 47/100\n",
      "4292/4292 [==============================] - 25s 6ms/step - loss: 0.5414 - accuracy: 0.7786 - val_loss: 0.6021 - val_accuracy: 0.7551\n",
      "Epoch 48/100\n",
      "4292/4292 [==============================] - 25s 6ms/step - loss: 0.5404 - accuracy: 0.7783 - val_loss: 0.6037 - val_accuracy: 0.7529\n",
      "Epoch 49/100\n",
      "4292/4292 [==============================] - 24s 6ms/step - loss: 0.5407 - accuracy: 0.7783 - val_loss: 0.6080 - val_accuracy: 0.7539\n",
      "Epoch 50/100\n",
      "4292/4292 [==============================] - 25s 6ms/step - loss: 0.5398 - accuracy: 0.7784 - val_loss: 0.6050 - val_accuracy: 0.7543\n",
      "Epoch 51/100\n",
      "4292/4292 [==============================] - 24s 6ms/step - loss: 0.5397 - accuracy: 0.7786 - val_loss: 0.6066 - val_accuracy: 0.7507\n",
      "Epoch 52/100\n",
      "4292/4292 [==============================] - 24s 6ms/step - loss: 0.5390 - accuracy: 0.7793 - val_loss: 0.6041 - val_accuracy: 0.7529\n",
      "Epoch 53/100\n",
      "4292/4292 [==============================] - 25s 6ms/step - loss: 0.5375 - accuracy: 0.7799 - val_loss: 0.6068 - val_accuracy: 0.7532\n",
      "Epoch 54/100\n",
      "4292/4292 [==============================] - 24s 6ms/step - loss: 0.5380 - accuracy: 0.7797 - val_loss: 0.6083 - val_accuracy: 0.7542\n",
      "Epoch 55/100\n",
      "4292/4292 [==============================] - 24s 5ms/step - loss: 0.5368 - accuracy: 0.7798 - val_loss: 0.6068 - val_accuracy: 0.7533\n",
      "Epoch 56/100\n",
      "4292/4292 [==============================] - 24s 6ms/step - loss: 0.5365 - accuracy: 0.7802 - val_loss: 0.6033 - val_accuracy: 0.7513\n",
      "Epoch 57/100\n",
      "4292/4292 [==============================] - 25s 6ms/step - loss: 0.5361 - accuracy: 0.7807 - val_loss: 0.6084 - val_accuracy: 0.7514\n",
      "Epoch 58/100\n",
      "4292/4292 [==============================] - 25s 6ms/step - loss: 0.5360 - accuracy: 0.7801 - val_loss: 0.6039 - val_accuracy: 0.7532\n",
      "Epoch 59/100\n",
      "4292/4292 [==============================] - 25s 6ms/step - loss: 0.5352 - accuracy: 0.7809 - val_loss: 0.6107 - val_accuracy: 0.7508\n",
      "Epoch 60/100\n",
      "4292/4292 [==============================] - 26s 6ms/step - loss: 0.5348 - accuracy: 0.7804 - val_loss: 0.6195 - val_accuracy: 0.7503\n",
      "Epoch 61/100\n",
      "4292/4292 [==============================] - 25s 6ms/step - loss: 0.5346 - accuracy: 0.7814 - val_loss: 0.6078 - val_accuracy: 0.7554\n",
      "Epoch 62/100\n",
      "4292/4292 [==============================] - 25s 6ms/step - loss: 0.5351 - accuracy: 0.7810 - val_loss: 0.6061 - val_accuracy: 0.7521\n",
      "Epoch 63/100\n",
      "4292/4292 [==============================] - 25s 6ms/step - loss: 0.5335 - accuracy: 0.7821 - val_loss: 0.6099 - val_accuracy: 0.7550\n",
      "Epoch 64/100\n",
      "4292/4292 [==============================] - 25s 6ms/step - loss: 0.5334 - accuracy: 0.7819 - val_loss: 0.6115 - val_accuracy: 0.7533\n",
      "Epoch 65/100\n",
      "4292/4292 [==============================] - 25s 6ms/step - loss: 0.5335 - accuracy: 0.7819 - val_loss: 0.6103 - val_accuracy: 0.7528\n",
      "Epoch 66/100\n",
      "4292/4292 [==============================] - 25s 6ms/step - loss: 0.5327 - accuracy: 0.7818 - val_loss: 0.6109 - val_accuracy: 0.7550\n",
      "Epoch 67/100\n",
      "4292/4292 [==============================] - 25s 6ms/step - loss: 0.5325 - accuracy: 0.7821 - val_loss: 0.6061 - val_accuracy: 0.7577\n",
      "Epoch 68/100\n",
      "4292/4292 [==============================] - 25s 6ms/step - loss: 0.5321 - accuracy: 0.7821 - val_loss: 0.6069 - val_accuracy: 0.7581\n",
      "Epoch 69/100\n",
      "4292/4292 [==============================] - 24s 6ms/step - loss: 0.5321 - accuracy: 0.7827 - val_loss: 0.6092 - val_accuracy: 0.7528\n",
      "Epoch 70/100\n",
      "4292/4292 [==============================] - 25s 6ms/step - loss: 0.5321 - accuracy: 0.7819 - val_loss: 0.6067 - val_accuracy: 0.7561\n",
      "Epoch 71/100\n",
      "4292/4292 [==============================] - 25s 6ms/step - loss: 0.5316 - accuracy: 0.7826 - val_loss: 0.6141 - val_accuracy: 0.7549\n",
      "Epoch 72/100\n",
      "4292/4292 [==============================] - 25s 6ms/step - loss: 0.5305 - accuracy: 0.7833 - val_loss: 0.6072 - val_accuracy: 0.7533\n",
      "Epoch 73/100\n",
      "4292/4292 [==============================] - 25s 6ms/step - loss: 0.5303 - accuracy: 0.7836 - val_loss: 0.6038 - val_accuracy: 0.7552\n",
      "Epoch 74/100\n",
      "4292/4292 [==============================] - 25s 6ms/step - loss: 0.5302 - accuracy: 0.7833 - val_loss: 0.6069 - val_accuracy: 0.7536\n",
      "Epoch 75/100\n",
      "4292/4292 [==============================] - 25s 6ms/step - loss: 0.5300 - accuracy: 0.7830 - val_loss: 0.6109 - val_accuracy: 0.7530\n",
      "Epoch 76/100\n",
      "4292/4292 [==============================] - 24s 6ms/step - loss: 0.5293 - accuracy: 0.7836 - val_loss: 0.6127 - val_accuracy: 0.7557\n",
      "Epoch 77/100\n",
      "4292/4292 [==============================] - 25s 6ms/step - loss: 0.5293 - accuracy: 0.7838 - val_loss: 0.6054 - val_accuracy: 0.7557\n",
      "Epoch 78/100\n",
      "4292/4292 [==============================] - 25s 6ms/step - loss: 0.5289 - accuracy: 0.7838 - val_loss: 0.6056 - val_accuracy: 0.7536\n",
      "Epoch 79/100\n",
      "4292/4292 [==============================] - 24s 6ms/step - loss: 0.5283 - accuracy: 0.7846 - val_loss: 0.6166 - val_accuracy: 0.7521\n",
      "Epoch 80/100\n",
      "4292/4292 [==============================] - 25s 6ms/step - loss: 0.5287 - accuracy: 0.7838 - val_loss: 0.6050 - val_accuracy: 0.7587\n",
      "Epoch 81/100\n",
      "4292/4292 [==============================] - 25s 6ms/step - loss: 0.5286 - accuracy: 0.7841 - val_loss: 0.6112 - val_accuracy: 0.7509\n",
      "Epoch 82/100\n",
      "4292/4292 [==============================] - 26s 6ms/step - loss: 0.5278 - accuracy: 0.7849 - val_loss: 0.6095 - val_accuracy: 0.7541\n",
      "Epoch 83/100\n",
      "4292/4292 [==============================] - 25s 6ms/step - loss: 0.5274 - accuracy: 0.7843 - val_loss: 0.6094 - val_accuracy: 0.7493\n",
      "Epoch 84/100\n",
      "4292/4292 [==============================] - 25s 6ms/step - loss: 0.5273 - accuracy: 0.7849 - val_loss: 0.6048 - val_accuracy: 0.7517\n",
      "Epoch 85/100\n",
      "4292/4292 [==============================] - 25s 6ms/step - loss: 0.5274 - accuracy: 0.7843 - val_loss: 0.6187 - val_accuracy: 0.7526\n",
      "Epoch 86/100\n",
      "4292/4292 [==============================] - 26s 6ms/step - loss: 0.5266 - accuracy: 0.7851 - val_loss: 0.6083 - val_accuracy: 0.7524\n",
      "Epoch 87/100\n",
      "4292/4292 [==============================] - 25s 6ms/step - loss: 0.5270 - accuracy: 0.7849 - val_loss: 0.6130 - val_accuracy: 0.7547\n",
      "Epoch 88/100\n",
      "4292/4292 [==============================] - 25s 6ms/step - loss: 0.5260 - accuracy: 0.7855 - val_loss: 0.6073 - val_accuracy: 0.7554\n",
      "Epoch 89/100\n",
      "4292/4292 [==============================] - 25s 6ms/step - loss: 0.5262 - accuracy: 0.7854 - val_loss: 0.6101 - val_accuracy: 0.7565\n",
      "Epoch 90/100\n",
      "4292/4292 [==============================] - 25s 6ms/step - loss: 0.5263 - accuracy: 0.7848 - val_loss: 0.6141 - val_accuracy: 0.7550\n",
      "Epoch 91/100\n",
      "4292/4292 [==============================] - 25s 6ms/step - loss: 0.5260 - accuracy: 0.7850 - val_loss: 0.6081 - val_accuracy: 0.7536\n",
      "Epoch 92/100\n",
      "4292/4292 [==============================] - 25s 6ms/step - loss: 0.5249 - accuracy: 0.7859 - val_loss: 0.6096 - val_accuracy: 0.7536\n",
      "Epoch 93/100\n",
      "4292/4292 [==============================] - 25s 6ms/step - loss: 0.5256 - accuracy: 0.7858 - val_loss: 0.6135 - val_accuracy: 0.7561\n",
      "Epoch 94/100\n",
      "4292/4292 [==============================] - 25s 6ms/step - loss: 0.5249 - accuracy: 0.7857 - val_loss: 0.6134 - val_accuracy: 0.7581\n",
      "Epoch 95/100\n",
      "4292/4292 [==============================] - 25s 6ms/step - loss: 0.5246 - accuracy: 0.7861 - val_loss: 0.6115 - val_accuracy: 0.7515\n",
      "Epoch 96/100\n",
      "4292/4292 [==============================] - 25s 6ms/step - loss: 0.5246 - accuracy: 0.7859 - val_loss: 0.6092 - val_accuracy: 0.7546\n",
      "Epoch 97/100\n",
      "4292/4292 [==============================] - 24s 6ms/step - loss: 0.5247 - accuracy: 0.7860 - val_loss: 0.6110 - val_accuracy: 0.7553\n",
      "Epoch 98/100\n",
      "4292/4292 [==============================] - 25s 6ms/step - loss: 0.5245 - accuracy: 0.7864 - val_loss: 0.6136 - val_accuracy: 0.7538\n",
      "Epoch 99/100\n",
      "4292/4292 [==============================] - 27s 6ms/step - loss: 0.5237 - accuracy: 0.7862 - val_loss: 0.6046 - val_accuracy: 0.7542\n",
      "Epoch 100/100\n",
      "4292/4292 [==============================] - 15s 4ms/step - loss: 0.5245 - accuracy: 0.7863 - val_loss: 0.6160 - val_accuracy: 0.7485\n"
     ]
    },
    {
     "data": {
      "text/plain": [
       "<keras.callbacks.History at 0x1ce888694a8>"
      ]
     },
     "execution_count": 12,
     "metadata": {},
     "output_type": "execute_result"
    }
   ],
   "source": [
    "model1_b.compile(optimizer = 'adam', loss = 'categorical_crossentropy', metrics = 'accuracy')\n",
    "model1_b.fit([X_train_1, x_train_s1_tfidfw2v, x_train_s2_tfidfw2v], y_train_enc, epochs = 100, batch_size = 128, \n",
    "           validation_data = ([X_val_1, x_val_s1_tfidfw2v, x_val_s2_tfidfw2v], y_val_enc))"
   ]
  },
  {
   "cell_type": "code",
   "execution_count": 13,
   "id": "d031212d",
   "metadata": {},
   "outputs": [],
   "source": [
    "from keras import backend as K\n",
    "K.set_value(model1_b.optimizer.learning_rate, 0.0001)"
   ]
  },
  {
   "cell_type": "code",
   "execution_count": 14,
   "id": "a06876b3",
   "metadata": {},
   "outputs": [
    {
     "name": "stdout",
     "output_type": "stream",
     "text": [
      "Epoch 1/20\n",
      "4292/4292 [==============================] - 17s 4ms/step - loss: 0.5067 - accuracy: 0.7943 - val_loss: 0.6106 - val_accuracy: 0.7558\n",
      "Epoch 2/20\n",
      "4292/4292 [==============================] - 15s 4ms/step - loss: 0.5030 - accuracy: 0.7957 - val_loss: 0.6165 - val_accuracy: 0.7540\n",
      "Epoch 3/20\n",
      "4292/4292 [==============================] - 15s 4ms/step - loss: 0.5018 - accuracy: 0.7963 - val_loss: 0.6167 - val_accuracy: 0.7544\n",
      "Epoch 4/20\n",
      "4292/4292 [==============================] - 15s 4ms/step - loss: 0.5012 - accuracy: 0.7962 - val_loss: 0.6164 - val_accuracy: 0.7552\n",
      "Epoch 5/20\n",
      "4292/4292 [==============================] - 15s 4ms/step - loss: 0.5002 - accuracy: 0.7971 - val_loss: 0.6217 - val_accuracy: 0.7525\n",
      "Epoch 6/20\n",
      "4292/4292 [==============================] - 15s 4ms/step - loss: 0.5000 - accuracy: 0.7970 - val_loss: 0.6203 - val_accuracy: 0.7544\n",
      "Epoch 7/20\n",
      "4292/4292 [==============================] - 16s 4ms/step - loss: 0.4994 - accuracy: 0.7976 - val_loss: 0.6193 - val_accuracy: 0.7537\n",
      "Epoch 8/20\n",
      "4292/4292 [==============================] - 16s 4ms/step - loss: 0.4998 - accuracy: 0.7973 - val_loss: 0.6187 - val_accuracy: 0.7537\n",
      "Epoch 9/20\n",
      "4292/4292 [==============================] - 15s 4ms/step - loss: 0.4992 - accuracy: 0.7976 - val_loss: 0.6171 - val_accuracy: 0.7535\n",
      "Epoch 10/20\n",
      "4292/4292 [==============================] - 16s 4ms/step - loss: 0.4991 - accuracy: 0.7974 - val_loss: 0.6229 - val_accuracy: 0.7535\n",
      "Epoch 11/20\n",
      "4292/4292 [==============================] - 15s 4ms/step - loss: 0.4983 - accuracy: 0.7981 - val_loss: 0.6209 - val_accuracy: 0.7542\n",
      "Epoch 12/20\n",
      "4292/4292 [==============================] - 15s 4ms/step - loss: 0.4983 - accuracy: 0.7979 - val_loss: 0.6199 - val_accuracy: 0.7543\n",
      "Epoch 13/20\n",
      "4292/4292 [==============================] - 16s 4ms/step - loss: 0.4985 - accuracy: 0.7977 - val_loss: 0.6202 - val_accuracy: 0.7552\n",
      "Epoch 14/20\n",
      "4292/4292 [==============================] - 15s 4ms/step - loss: 0.4984 - accuracy: 0.7979 - val_loss: 0.6233 - val_accuracy: 0.7540\n",
      "Epoch 15/20\n",
      "4292/4292 [==============================] - 16s 4ms/step - loss: 0.4979 - accuracy: 0.7982 - val_loss: 0.6217 - val_accuracy: 0.7536\n",
      "Epoch 16/20\n",
      "4292/4292 [==============================] - 15s 4ms/step - loss: 0.4979 - accuracy: 0.7979 - val_loss: 0.6231 - val_accuracy: 0.7541\n",
      "Epoch 17/20\n",
      "4292/4292 [==============================] - 15s 4ms/step - loss: 0.4976 - accuracy: 0.7983 - val_loss: 0.6224 - val_accuracy: 0.7537\n",
      "Epoch 18/20\n",
      "4292/4292 [==============================] - 15s 4ms/step - loss: 0.4977 - accuracy: 0.7982 - val_loss: 0.6253 - val_accuracy: 0.7544\n",
      "Epoch 19/20\n",
      "4292/4292 [==============================] - 15s 4ms/step - loss: 0.4976 - accuracy: 0.7981 - val_loss: 0.6231 - val_accuracy: 0.7531\n",
      "Epoch 20/20\n",
      "4292/4292 [==============================] - 15s 4ms/step - loss: 0.4978 - accuracy: 0.7981 - val_loss: 0.6241 - val_accuracy: 0.7549\n"
     ]
    },
    {
     "data": {
      "text/plain": [
       "<keras.callbacks.History at 0x1d0a5d7e978>"
      ]
     },
     "execution_count": 14,
     "metadata": {},
     "output_type": "execute_result"
    }
   ],
   "source": [
    "model1_b.fit([X_train_1, x_train_s1_tfidfw2v, x_train_s2_tfidfw2v], y_train_enc, epochs = 20, batch_size = 128, \n",
    "           validation_data = ([X_val_1, x_val_s1_tfidfw2v, x_val_s2_tfidfw2v], y_val_enc))"
   ]
  },
  {
   "cell_type": "markdown",
   "id": "94872dae",
   "metadata": {},
   "source": [
    "## Model2: using only average fasttext embeddings"
   ]
  },
  {
   "cell_type": "code",
   "execution_count": 14,
   "id": "4b978477",
   "metadata": {},
   "outputs": [],
   "source": [
    "x_train_s1_avg_fasttext = np.load('x_train_s1_avg_fasttext.npy', mmap_mode='r')\n",
    "x_train_s2_avg_fasttext = np.load('x_train_s2_avg_fasttext.npy', mmap_mode='r')\n",
    "x_val_s1_avg_fasttext = np.load('x_val_s1_avg_fasttext.npy', mmap_mode='r')\n",
    "x_val_s2_avg_fasttext = np.load('x_val_s2_avg_fasttext.npy', mmap_mode='r')\n",
    "x_test_s1_avg_fasttext = np.load('x_test_s1_avg_fasttext.npy', mmap_mode='r')\n",
    "x_test_s2_avg_fasttext = np.load('x_test_s2_avg_fasttext.npy', mmap_mode='r')"
   ]
  },
  {
   "cell_type": "code",
   "execution_count": 16,
   "id": "2ac7b4c8",
   "metadata": {},
   "outputs": [],
   "source": [
    "input2 = Input(shape=(300,)) #for sentence1 embeddings\n",
    "norm2 = BatchNormalization()(input2)\n",
    "input3 = Input(shape=(300,)) #for sentence2 embeddings\n",
    "norm3 = BatchNormalization()(input3)\n",
    "merged = concatenate([norm2, norm3]) #merging all inputs\n",
    "#norm1 = BatchNormalization()(merged)\n",
    "dense1 = Dense(units = 100, activation = 'relu', kernel_regularizer = L1(0.00001))(merged)\n",
    "drop1 = Dropout(0.01)(dense1)\n",
    "dense2 = Dense(units = 100, activation = 'relu', kernel_regularizer = L1(0.00001))(drop1)\n",
    "drop2 = Dropout(0.01)(dense2)\n",
    "dense3 = Dense(units = 100, activation = 'relu', kernel_regularizer = L1(0.00001))(drop2)\n",
    "dense4 = Dense(units = 50, activation = 'relu')(dense3)\n",
    "output = Dense(units = 3, activation = 'softmax')(dense4)\n",
    "model2_a = Model(inputs = [input2, input3], outputs = output)"
   ]
  },
  {
   "cell_type": "code",
   "execution_count": 18,
   "id": "e5751143",
   "metadata": {},
   "outputs": [
    {
     "name": "stdout",
     "output_type": "stream",
     "text": [
      "Epoch 1/100\n",
      "4292/4292 [==============================] - 23s 5ms/step - loss: 0.8644 - accuracy: 0.6295 - val_loss: 0.7856 - val_accuracy: 0.6819\n",
      "Epoch 2/100\n",
      "4292/4292 [==============================] - 21s 5ms/step - loss: 0.7768 - accuracy: 0.6826 - val_loss: 0.7426 - val_accuracy: 0.7025\n",
      "Epoch 3/100\n",
      "4292/4292 [==============================] - 20s 5ms/step - loss: 0.7464 - accuracy: 0.7010 - val_loss: 0.7265 - val_accuracy: 0.7112\n",
      "Epoch 4/100\n",
      "4292/4292 [==============================] - 20s 5ms/step - loss: 0.7280 - accuracy: 0.7114 - val_loss: 0.7223 - val_accuracy: 0.7166\n",
      "Epoch 5/100\n",
      "4292/4292 [==============================] - 20s 5ms/step - loss: 0.7162 - accuracy: 0.7192 - val_loss: 0.7038 - val_accuracy: 0.7273\n",
      "Epoch 6/100\n",
      "4292/4292 [==============================] - 20s 5ms/step - loss: 0.7073 - accuracy: 0.7241 - val_loss: 0.7044 - val_accuracy: 0.7298\n",
      "Epoch 7/100\n",
      "4292/4292 [==============================] - 20s 5ms/step - loss: 0.7011 - accuracy: 0.7277 - val_loss: 0.6997 - val_accuracy: 0.7361\n",
      "Epoch 8/100\n",
      "4292/4292 [==============================] - 20s 5ms/step - loss: 0.6959 - accuracy: 0.7317 - val_loss: 0.6993 - val_accuracy: 0.7363\n",
      "Epoch 9/100\n",
      "4292/4292 [==============================] - 20s 5ms/step - loss: 0.6910 - accuracy: 0.7350 - val_loss: 0.6925 - val_accuracy: 0.7357\n",
      "Epoch 10/100\n",
      "4292/4292 [==============================] - 20s 5ms/step - loss: 0.6876 - accuracy: 0.7373 - val_loss: 0.6924 - val_accuracy: 0.7368\n",
      "Epoch 11/100\n",
      "4292/4292 [==============================] - 20s 5ms/step - loss: 0.6848 - accuracy: 0.7393 - val_loss: 0.6927 - val_accuracy: 0.7409\n",
      "Epoch 12/100\n",
      "4292/4292 [==============================] - 20s 5ms/step - loss: 0.6829 - accuracy: 0.7407 - val_loss: 0.6917 - val_accuracy: 0.7391\n",
      "Epoch 13/100\n",
      "4292/4292 [==============================] - 20s 5ms/step - loss: 0.6803 - accuracy: 0.7424 - val_loss: 0.6851 - val_accuracy: 0.7424\n",
      "Epoch 14/100\n",
      "4292/4292 [==============================] - 20s 5ms/step - loss: 0.6789 - accuracy: 0.7434 - val_loss: 0.6887 - val_accuracy: 0.7402\n",
      "Epoch 15/100\n",
      "4292/4292 [==============================] - 20s 5ms/step - loss: 0.6763 - accuracy: 0.7455 - val_loss: 0.6925 - val_accuracy: 0.7353\n",
      "Epoch 16/100\n",
      "4292/4292 [==============================] - 20s 5ms/step - loss: 0.6747 - accuracy: 0.7458 - val_loss: 0.6901 - val_accuracy: 0.7367\n",
      "Epoch 17/100\n",
      "4292/4292 [==============================] - 20s 5ms/step - loss: 0.6738 - accuracy: 0.7476 - val_loss: 0.6897 - val_accuracy: 0.7392\n",
      "Epoch 18/100\n",
      "4292/4292 [==============================] - 20s 5ms/step - loss: 0.6719 - accuracy: 0.7488 - val_loss: 0.6846 - val_accuracy: 0.7424\n",
      "Epoch 19/100\n",
      "4292/4292 [==============================] - 20s 5ms/step - loss: 0.6709 - accuracy: 0.7492 - val_loss: 0.6910 - val_accuracy: 0.7428\n",
      "Epoch 20/100\n",
      "4292/4292 [==============================] - 20s 5ms/step - loss: 0.6701 - accuracy: 0.7502 - val_loss: 0.6910 - val_accuracy: 0.7405\n",
      "Epoch 21/100\n",
      "4292/4292 [==============================] - 20s 5ms/step - loss: 0.6680 - accuracy: 0.7518 - val_loss: 0.6843 - val_accuracy: 0.7430\n",
      "Epoch 22/100\n",
      "4292/4292 [==============================] - 20s 5ms/step - loss: 0.6683 - accuracy: 0.7519 - val_loss: 0.6869 - val_accuracy: 0.7432\n",
      "Epoch 23/100\n",
      "4292/4292 [==============================] - 20s 5ms/step - loss: 0.6667 - accuracy: 0.7523 - val_loss: 0.6850 - val_accuracy: 0.7493\n",
      "Epoch 24/100\n",
      "4292/4292 [==============================] - 20s 5ms/step - loss: 0.6662 - accuracy: 0.7527 - val_loss: 0.6942 - val_accuracy: 0.7424\n",
      "Epoch 25/100\n",
      "4292/4292 [==============================] - 20s 5ms/step - loss: 0.6657 - accuracy: 0.7537 - val_loss: 0.6892 - val_accuracy: 0.7438\n",
      "Epoch 26/100\n",
      "4292/4292 [==============================] - 20s 5ms/step - loss: 0.6652 - accuracy: 0.7541 - val_loss: 0.6882 - val_accuracy: 0.7471\n",
      "Epoch 27/100\n",
      "4292/4292 [==============================] - 21s 5ms/step - loss: 0.6640 - accuracy: 0.7549 - val_loss: 0.6878 - val_accuracy: 0.7467\n",
      "Epoch 28/100\n",
      "4292/4292 [==============================] - 20s 5ms/step - loss: 0.6633 - accuracy: 0.7555 - val_loss: 0.6927 - val_accuracy: 0.7458\n",
      "Epoch 29/100\n",
      "4292/4292 [==============================] - 20s 5ms/step - loss: 0.6629 - accuracy: 0.7559 - val_loss: 0.6905 - val_accuracy: 0.7415\n",
      "Epoch 30/100\n",
      "4292/4292 [==============================] - 19s 5ms/step - loss: 0.6627 - accuracy: 0.7559 - val_loss: 0.6907 - val_accuracy: 0.7471\n",
      "Epoch 31/100\n",
      "4292/4292 [==============================] - 20s 5ms/step - loss: 0.6615 - accuracy: 0.7565 - val_loss: 0.6915 - val_accuracy: 0.7455\n",
      "Epoch 32/100\n",
      "4292/4292 [==============================] - 20s 5ms/step - loss: 0.6621 - accuracy: 0.7566 - val_loss: 0.6891 - val_accuracy: 0.7422\n",
      "Epoch 33/100\n",
      "4292/4292 [==============================] - 19s 5ms/step - loss: 0.6613 - accuracy: 0.7575 - val_loss: 0.6895 - val_accuracy: 0.7510\n",
      "Epoch 34/100\n",
      "4292/4292 [==============================] - 19s 5ms/step - loss: 0.6601 - accuracy: 0.7573 - val_loss: 0.6833 - val_accuracy: 0.7512\n",
      "Epoch 35/100\n",
      "4292/4292 [==============================] - 20s 5ms/step - loss: 0.6605 - accuracy: 0.7577 - val_loss: 0.6820 - val_accuracy: 0.7462\n",
      "Epoch 36/100\n",
      "4292/4292 [==============================] - 20s 5ms/step - loss: 0.6597 - accuracy: 0.7581 - val_loss: 0.6930 - val_accuracy: 0.7451\n",
      "Epoch 37/100\n",
      "4292/4292 [==============================] - 19s 5ms/step - loss: 0.6594 - accuracy: 0.7589 - val_loss: 0.6906 - val_accuracy: 0.7441\n",
      "Epoch 38/100\n",
      "4292/4292 [==============================] - 19s 4ms/step - loss: 0.6583 - accuracy: 0.7587 - val_loss: 0.6842 - val_accuracy: 0.7522\n",
      "Epoch 39/100\n",
      "4292/4292 [==============================] - 19s 4ms/step - loss: 0.6579 - accuracy: 0.7593 - val_loss: 0.6901 - val_accuracy: 0.7441\n",
      "Epoch 40/100\n",
      "4292/4292 [==============================] - 19s 4ms/step - loss: 0.6580 - accuracy: 0.7600 - val_loss: 0.6944 - val_accuracy: 0.7413\n",
      "Epoch 41/100\n",
      "4292/4292 [==============================] - 19s 4ms/step - loss: 0.6575 - accuracy: 0.7598 - val_loss: 0.6866 - val_accuracy: 0.7528\n",
      "Epoch 42/100\n",
      "4292/4292 [==============================] - 19s 5ms/step - loss: 0.6568 - accuracy: 0.7604 - val_loss: 0.6852 - val_accuracy: 0.7477\n",
      "Epoch 43/100\n",
      "4292/4292 [==============================] - 19s 4ms/step - loss: 0.6568 - accuracy: 0.7603 - val_loss: 0.6862 - val_accuracy: 0.7477\n",
      "Epoch 44/100\n",
      "4292/4292 [==============================] - 19s 4ms/step - loss: 0.6571 - accuracy: 0.7600 - val_loss: 0.6966 - val_accuracy: 0.7448\n",
      "Epoch 45/100\n",
      "4292/4292 [==============================] - 19s 4ms/step - loss: 0.6565 - accuracy: 0.7603 - val_loss: 0.6841 - val_accuracy: 0.7514\n",
      "Epoch 46/100\n",
      "4292/4292 [==============================] - 20s 5ms/step - loss: 0.6563 - accuracy: 0.7609 - val_loss: 0.6892 - val_accuracy: 0.7495\n",
      "Epoch 47/100\n",
      "4292/4292 [==============================] - 20s 5ms/step - loss: 0.6565 - accuracy: 0.7605 - val_loss: 0.6907 - val_accuracy: 0.7467\n",
      "Epoch 48/100\n",
      "4292/4292 [==============================] - 19s 4ms/step - loss: 0.6559 - accuracy: 0.7612 - val_loss: 0.6903 - val_accuracy: 0.7446\n",
      "Epoch 49/100\n",
      "4292/4292 [==============================] - 19s 4ms/step - loss: 0.6555 - accuracy: 0.7615 - val_loss: 0.6864 - val_accuracy: 0.7478\n",
      "Epoch 50/100\n",
      "4292/4292 [==============================] - 19s 4ms/step - loss: 0.6555 - accuracy: 0.7614 - val_loss: 0.6844 - val_accuracy: 0.7489\n",
      "Epoch 51/100\n",
      "4292/4292 [==============================] - 19s 4ms/step - loss: 0.6553 - accuracy: 0.7615 - val_loss: 0.6917 - val_accuracy: 0.7484\n",
      "Epoch 52/100\n",
      "4292/4292 [==============================] - 19s 4ms/step - loss: 0.6549 - accuracy: 0.7621 - val_loss: 0.6888 - val_accuracy: 0.7474\n",
      "Epoch 53/100\n",
      "4292/4292 [==============================] - 19s 4ms/step - loss: 0.6547 - accuracy: 0.7623 - val_loss: 0.6824 - val_accuracy: 0.7499\n",
      "Epoch 54/100\n",
      "4292/4292 [==============================] - 19s 4ms/step - loss: 0.6547 - accuracy: 0.7623 - val_loss: 0.6927 - val_accuracy: 0.7459\n",
      "Epoch 55/100\n",
      "4292/4292 [==============================] - 19s 4ms/step - loss: 0.6536 - accuracy: 0.7629 - val_loss: 0.6843 - val_accuracy: 0.7471\n",
      "Epoch 56/100\n",
      "4292/4292 [==============================] - 19s 4ms/step - loss: 0.6543 - accuracy: 0.7622 - val_loss: 0.6868 - val_accuracy: 0.7498\n",
      "Epoch 57/100\n",
      "4292/4292 [==============================] - 19s 4ms/step - loss: 0.6542 - accuracy: 0.7622 - val_loss: 0.6891 - val_accuracy: 0.7485\n",
      "Epoch 58/100\n",
      "4292/4292 [==============================] - 19s 4ms/step - loss: 0.6538 - accuracy: 0.7632 - val_loss: 0.6941 - val_accuracy: 0.7465\n",
      "Epoch 59/100\n",
      "4292/4292 [==============================] - 19s 4ms/step - loss: 0.6540 - accuracy: 0.7629 - val_loss: 0.6860 - val_accuracy: 0.7495\n",
      "Epoch 60/100\n",
      "4292/4292 [==============================] - 19s 4ms/step - loss: 0.6530 - accuracy: 0.7632 - val_loss: 0.6826 - val_accuracy: 0.7514\n",
      "Epoch 61/100\n",
      "4292/4292 [==============================] - 19s 4ms/step - loss: 0.6531 - accuracy: 0.7632 - val_loss: 0.6835 - val_accuracy: 0.7540\n",
      "Epoch 62/100\n",
      "4292/4292 [==============================] - 19s 4ms/step - loss: 0.6532 - accuracy: 0.7636 - val_loss: 0.6850 - val_accuracy: 0.7512\n",
      "Epoch 63/100\n",
      "4292/4292 [==============================] - 19s 4ms/step - loss: 0.6527 - accuracy: 0.7641 - val_loss: 0.6889 - val_accuracy: 0.7508\n",
      "Epoch 64/100\n",
      "4292/4292 [==============================] - 20s 5ms/step - loss: 0.6532 - accuracy: 0.7635 - val_loss: 0.6879 - val_accuracy: 0.7497\n",
      "Epoch 65/100\n",
      "4292/4292 [==============================] - 20s 5ms/step - loss: 0.6527 - accuracy: 0.7639 - val_loss: 0.6910 - val_accuracy: 0.7480\n",
      "Epoch 66/100\n",
      "4292/4292 [==============================] - 20s 5ms/step - loss: 0.6524 - accuracy: 0.7641 - val_loss: 0.6928 - val_accuracy: 0.7481\n",
      "Epoch 67/100\n",
      "4292/4292 [==============================] - 20s 5ms/step - loss: 0.6523 - accuracy: 0.7640 - val_loss: 0.6891 - val_accuracy: 0.7481\n",
      "Epoch 68/100\n",
      "4292/4292 [==============================] - 19s 5ms/step - loss: 0.6525 - accuracy: 0.7639 - val_loss: 0.6913 - val_accuracy: 0.7488\n",
      "Epoch 69/100\n",
      "4292/4292 [==============================] - 19s 4ms/step - loss: 0.6516 - accuracy: 0.7643 - val_loss: 0.6891 - val_accuracy: 0.7479\n",
      "Epoch 70/100\n",
      "4292/4292 [==============================] - 19s 4ms/step - loss: 0.6519 - accuracy: 0.7640 - val_loss: 0.6905 - val_accuracy: 0.7494\n",
      "Epoch 71/100\n",
      "4292/4292 [==============================] - 19s 5ms/step - loss: 0.6520 - accuracy: 0.7643 - val_loss: 0.6893 - val_accuracy: 0.7507\n",
      "Epoch 72/100\n",
      "4292/4292 [==============================] - 20s 5ms/step - loss: 0.6518 - accuracy: 0.7646 - val_loss: 0.6936 - val_accuracy: 0.7486\n",
      "Epoch 73/100\n",
      "4292/4292 [==============================] - 20s 5ms/step - loss: 0.6515 - accuracy: 0.7642 - val_loss: 0.6994 - val_accuracy: 0.7466\n",
      "Epoch 74/100\n",
      "4292/4292 [==============================] - 20s 5ms/step - loss: 0.6518 - accuracy: 0.7643 - val_loss: 0.6875 - val_accuracy: 0.7501\n",
      "Epoch 75/100\n",
      "4292/4292 [==============================] - 20s 5ms/step - loss: 0.6521 - accuracy: 0.7645 - val_loss: 0.6969 - val_accuracy: 0.7439\n",
      "Epoch 76/100\n",
      "4292/4292 [==============================] - 20s 5ms/step - loss: 0.6515 - accuracy: 0.7644 - val_loss: 0.6913 - val_accuracy: 0.7498\n",
      "Epoch 77/100\n",
      "4292/4292 [==============================] - 19s 4ms/step - loss: 0.6509 - accuracy: 0.7654 - val_loss: 0.6896 - val_accuracy: 0.7515\n",
      "Epoch 78/100\n",
      "4292/4292 [==============================] - 19s 5ms/step - loss: 0.6509 - accuracy: 0.7651 - val_loss: 0.6957 - val_accuracy: 0.7477\n",
      "Epoch 79/100\n",
      "4292/4292 [==============================] - 20s 5ms/step - loss: 0.6509 - accuracy: 0.7650 - val_loss: 0.6959 - val_accuracy: 0.7505\n",
      "Epoch 80/100\n",
      "4292/4292 [==============================] - 20s 5ms/step - loss: 0.6509 - accuracy: 0.7649 - val_loss: 0.6867 - val_accuracy: 0.7519\n",
      "Epoch 81/100\n",
      "4292/4292 [==============================] - 20s 5ms/step - loss: 0.6511 - accuracy: 0.7654 - val_loss: 0.6954 - val_accuracy: 0.7452\n",
      "Epoch 82/100\n",
      "4292/4292 [==============================] - 20s 5ms/step - loss: 0.6503 - accuracy: 0.7653 - val_loss: 0.6917 - val_accuracy: 0.7426\n",
      "Epoch 83/100\n",
      "4292/4292 [==============================] - 20s 5ms/step - loss: 0.6512 - accuracy: 0.7654 - val_loss: 0.6951 - val_accuracy: 0.7481\n",
      "Epoch 84/100\n",
      "4292/4292 [==============================] - 20s 5ms/step - loss: 0.6504 - accuracy: 0.7656 - val_loss: 0.6919 - val_accuracy: 0.7452\n",
      "Epoch 85/100\n",
      "4292/4292 [==============================] - 20s 5ms/step - loss: 0.6503 - accuracy: 0.7655 - val_loss: 0.6934 - val_accuracy: 0.7490\n",
      "Epoch 86/100\n",
      "4292/4292 [==============================] - 20s 5ms/step - loss: 0.6499 - accuracy: 0.7662 - val_loss: 0.6913 - val_accuracy: 0.7529\n",
      "Epoch 87/100\n",
      "4292/4292 [==============================] - 20s 5ms/step - loss: 0.6498 - accuracy: 0.7663 - val_loss: 0.6931 - val_accuracy: 0.7514\n",
      "Epoch 88/100\n",
      "4292/4292 [==============================] - 20s 5ms/step - loss: 0.6500 - accuracy: 0.7664 - val_loss: 0.6976 - val_accuracy: 0.7470\n",
      "Epoch 89/100\n",
      "4292/4292 [==============================] - 20s 5ms/step - loss: 0.6503 - accuracy: 0.7658 - val_loss: 0.6921 - val_accuracy: 0.7480\n",
      "Epoch 90/100\n",
      "4292/4292 [==============================] - 20s 5ms/step - loss: 0.6498 - accuracy: 0.7659 - val_loss: 0.7017 - val_accuracy: 0.7446\n",
      "Epoch 91/100\n",
      "4292/4292 [==============================] - 20s 5ms/step - loss: 0.6500 - accuracy: 0.7654 - val_loss: 0.6922 - val_accuracy: 0.7494\n",
      "Epoch 92/100\n",
      "4292/4292 [==============================] - 20s 5ms/step - loss: 0.6500 - accuracy: 0.7653 - val_loss: 0.6941 - val_accuracy: 0.7506\n",
      "Epoch 93/100\n",
      "4292/4292 [==============================] - 19s 5ms/step - loss: 0.6495 - accuracy: 0.7655 - val_loss: 0.6933 - val_accuracy: 0.7494\n",
      "Epoch 94/100\n",
      "4292/4292 [==============================] - 19s 5ms/step - loss: 0.6492 - accuracy: 0.7665 - val_loss: 0.7037 - val_accuracy: 0.7443\n",
      "Epoch 95/100\n",
      "4292/4292 [==============================] - 20s 5ms/step - loss: 0.6491 - accuracy: 0.7663 - val_loss: 0.6915 - val_accuracy: 0.7514\n",
      "Epoch 96/100\n",
      "4292/4292 [==============================] - 20s 5ms/step - loss: 0.6490 - accuracy: 0.7665 - val_loss: 0.6905 - val_accuracy: 0.7484\n",
      "Epoch 97/100\n",
      "4292/4292 [==============================] - 20s 5ms/step - loss: 0.6494 - accuracy: 0.7662 - val_loss: 0.6915 - val_accuracy: 0.7502\n",
      "Epoch 98/100\n",
      "4292/4292 [==============================] - 20s 5ms/step - loss: 0.6491 - accuracy: 0.7668 - val_loss: 0.6973 - val_accuracy: 0.7465\n",
      "Epoch 99/100\n",
      "4292/4292 [==============================] - 20s 5ms/step - loss: 0.6491 - accuracy: 0.7664 - val_loss: 0.6911 - val_accuracy: 0.7488\n",
      "Epoch 100/100\n",
      "4292/4292 [==============================] - 20s 5ms/step - loss: 0.6491 - accuracy: 0.7667 - val_loss: 0.6987 - val_accuracy: 0.7457\n"
     ]
    }
   ],
   "source": [
    "model2_a.compile(optimizer = 'adam', loss = 'categorical_crossentropy', metrics = 'accuracy')\n",
    "\n",
    "tf.debugging.set_log_device_placement(True)\n",
    "\n",
    "# Place tensors on the CPU\n",
    "with tf.device('/CPU:0'):\n",
    "    model2_a.fit([x_train_s1_avg_fasttext, x_train_s2_avg_fasttext], y_train_enc, epochs = 100, batch_size = 128, \n",
    "           validation_data = ([x_val_s1_avg_fasttext, x_val_s2_avg_fasttext], y_val_enc))"
   ]
  },
  {
   "cell_type": "code",
   "execution_count": 19,
   "id": "bb7a533b",
   "metadata": {},
   "outputs": [],
   "source": [
    "from keras import backend as K\n",
    "K.set_value(model2_a.optimizer.learning_rate, 0.0001)"
   ]
  },
  {
   "cell_type": "code",
   "execution_count": 20,
   "id": "ae8891cd",
   "metadata": {},
   "outputs": [
    {
     "name": "stdout",
     "output_type": "stream",
     "text": [
      "Epoch 1/20\n",
      "4292/4292 [==============================] - 20s 5ms/step - loss: 0.6116 - accuracy: 0.7845 - val_loss: 0.6761 - val_accuracy: 0.7562\n",
      "Epoch 2/20\n",
      "4292/4292 [==============================] - 20s 5ms/step - loss: 0.6013 - accuracy: 0.7890 - val_loss: 0.6778 - val_accuracy: 0.7566\n",
      "Epoch 3/20\n",
      "4292/4292 [==============================] - 20s 5ms/step - loss: 0.5973 - accuracy: 0.7901 - val_loss: 0.6782 - val_accuracy: 0.7568\n",
      "Epoch 4/20\n",
      "4292/4292 [==============================] - 20s 5ms/step - loss: 0.5947 - accuracy: 0.7915 - val_loss: 0.6782 - val_accuracy: 0.7579\n",
      "Epoch 5/20\n",
      "4292/4292 [==============================] - 20s 5ms/step - loss: 0.5934 - accuracy: 0.7912 - val_loss: 0.6788 - val_accuracy: 0.7576\n",
      "Epoch 6/20\n",
      "4292/4292 [==============================] - 20s 5ms/step - loss: 0.5918 - accuracy: 0.7922 - val_loss: 0.6771 - val_accuracy: 0.7573\n",
      "Epoch 7/20\n",
      "4292/4292 [==============================] - 20s 5ms/step - loss: 0.5903 - accuracy: 0.7930 - val_loss: 0.6789 - val_accuracy: 0.7590\n",
      "Epoch 8/20\n",
      "4292/4292 [==============================] - 20s 5ms/step - loss: 0.5897 - accuracy: 0.7930 - val_loss: 0.6780 - val_accuracy: 0.7571\n",
      "Epoch 9/20\n",
      "4292/4292 [==============================] - 20s 5ms/step - loss: 0.5884 - accuracy: 0.7937 - val_loss: 0.6797 - val_accuracy: 0.7588\n",
      "Epoch 10/20\n",
      "4292/4292 [==============================] - 20s 5ms/step - loss: 0.5873 - accuracy: 0.7940 - val_loss: 0.6799 - val_accuracy: 0.7568\n",
      "Epoch 11/20\n",
      "4292/4292 [==============================] - 20s 5ms/step - loss: 0.5869 - accuracy: 0.7941 - val_loss: 0.6811 - val_accuracy: 0.7574\n",
      "Epoch 12/20\n",
      "4292/4292 [==============================] - 20s 5ms/step - loss: 0.5861 - accuracy: 0.7948 - val_loss: 0.6798 - val_accuracy: 0.7569\n",
      "Epoch 13/20\n",
      "4292/4292 [==============================] - 20s 5ms/step - loss: 0.5851 - accuracy: 0.7951 - val_loss: 0.6813 - val_accuracy: 0.7559\n",
      "Epoch 14/20\n",
      "4292/4292 [==============================] - 20s 5ms/step - loss: 0.5850 - accuracy: 0.7946 - val_loss: 0.6817 - val_accuracy: 0.7564\n",
      "Epoch 15/20\n",
      "4292/4292 [==============================] - 20s 5ms/step - loss: 0.5842 - accuracy: 0.7948 - val_loss: 0.6841 - val_accuracy: 0.7552\n",
      "Epoch 16/20\n",
      "4292/4292 [==============================] - 20s 5ms/step - loss: 0.5839 - accuracy: 0.7947 - val_loss: 0.6820 - val_accuracy: 0.7580\n",
      "Epoch 17/20\n",
      "4292/4292 [==============================] - 20s 5ms/step - loss: 0.5830 - accuracy: 0.7954 - val_loss: 0.6804 - val_accuracy: 0.7576\n",
      "Epoch 18/20\n",
      "4292/4292 [==============================] - 20s 5ms/step - loss: 0.5827 - accuracy: 0.7954 - val_loss: 0.6826 - val_accuracy: 0.7581\n",
      "Epoch 19/20\n",
      "4292/4292 [==============================] - 20s 5ms/step - loss: 0.5823 - accuracy: 0.7958 - val_loss: 0.6818 - val_accuracy: 0.7580\n",
      "Epoch 20/20\n",
      "4292/4292 [==============================] - 20s 5ms/step - loss: 0.5820 - accuracy: 0.7953 - val_loss: 0.6835 - val_accuracy: 0.7579\n"
     ]
    }
   ],
   "source": [
    "with tf.device('/CPU:0'):\n",
    "    model2_a.fit([x_train_s1_avg_fasttext, x_train_s2_avg_fasttext], y_train_enc, epochs = 20, batch_size = 128, \n",
    "           validation_data = ([x_val_s1_avg_fasttext, x_val_s2_avg_fasttext], y_val_enc))"
   ]
  },
  {
   "cell_type": "markdown",
   "id": "fd1be5ca",
   "metadata": {},
   "source": [
    "# model3: tfidf weighted fasttext embeddings "
   ]
  },
  {
   "cell_type": "code",
   "execution_count": 17,
   "id": "b9010dbd",
   "metadata": {},
   "outputs": [],
   "source": [
    "x_train_s1_tfidf_fasttext = np.load('train_s1_tfidf_fasttext.npy', mmap_mode='r')\n",
    "x_train_s2_tfidf_fasttext = np.load('train_s2_tfidf_fasttext.npy', mmap_mode='r')\n",
    "x_val_s1_tfidf_fasttext = np.load('val_s1_tfidf_fasttext.npy', mmap_mode='r')\n",
    "x_val_s2_tfidf_fasttext = np.load('val_s2_tfidf_fasttext.npy', mmap_mode='r')\n",
    "x_test_s1_tfidf_fasttext = np.load('test_s1_tfidf_fasttext.npy', mmap_mode='r')\n",
    "x_test_s2_tfidf_fasttext = np.load('test_s2_tfidf_fasttext.npy', mmap_mode='r')"
   ]
  },
  {
   "cell_type": "code",
   "execution_count": 26,
   "id": "1957aa0e",
   "metadata": {},
   "outputs": [],
   "source": [
    "input2 = Input(shape=(300,)) #for sentence1 embeddings\n",
    "norm2 = BatchNormalization()(input2)\n",
    "input3 = Input(shape=(300,)) #for sentence2 embeddings\n",
    "norm3 = BatchNormalization()(input3)\n",
    "merged = concatenate([norm2, norm3]) #merging all inputs\n",
    "#norm1 = BatchNormalization()(merged)\n",
    "dense1 = Dense(units = 100, activation = 'relu', kernel_regularizer = L1(0.00001))(merged)\n",
    "drop1 = Dropout(0.01)(dense1)\n",
    "dense2 = Dense(units = 100, activation = 'relu', kernel_regularizer = L1(0.00001))(drop1)\n",
    "drop2 = Dropout(0.01)(dense2)\n",
    "dense3 = Dense(units = 100, activation = 'relu', kernel_regularizer = L1(0.00001))(drop2)\n",
    "dense4 = Dense(units = 50, activation = 'relu')(dense3)\n",
    "output = Dense(units = 3, activation = 'softmax')(dense4)\n",
    "model3 = Model(inputs = [input2, input3], outputs = output)"
   ]
  },
  {
   "cell_type": "code",
   "execution_count": null,
   "id": "72713ad5",
   "metadata": {},
   "outputs": [],
   "source": [
    "model3.compile(optimizer = 'adam', loss = 'categorical_crossentropy', metrics = 'accuracy')\n",
    "\n",
    "tf.debugging.set_log_device_placement(True)\n",
    "\n",
    "# Place tensors on the CPU\n",
    "with tf.device('/CPU:0'):\n",
    "    model3.fit([x_train_s1_tfidf_fasttext, x_train_s2_tfidf_fasttext], y_train_enc, epochs = 100, batch_size = 128, \n",
    "           validation_data = ([x_val_s1_tfidf_fasttext, x_val_s2_tfidf_fasttext], y_val_enc))"
   ]
  },
  {
   "cell_type": "code",
   "execution_count": 28,
   "id": "b36e24a5",
   "metadata": {},
   "outputs": [],
   "source": [
    "from keras import backend as K\n",
    "K.set_value(model2_a.optimizer.learning_rate, 0.0001)"
   ]
  },
  {
   "cell_type": "code",
   "execution_count": 29,
   "id": "e53f61ca",
   "metadata": {},
   "outputs": [
    {
     "name": "stdout",
     "output_type": "stream",
     "text": [
      "Epoch 1/20\n",
      "4292/4292 [==============================] - 22s 5ms/step - loss: 0.6575 - accuracy: 0.7645 - val_loss: 0.7161 - val_accuracy: 0.7389\n",
      "Epoch 2/20\n",
      "4292/4292 [==============================] - 20s 5ms/step - loss: 0.6574 - accuracy: 0.7648 - val_loss: 0.7147 - val_accuracy: 0.7398\n",
      "Epoch 3/20\n",
      "4292/4292 [==============================] - 20s 5ms/step - loss: 0.6570 - accuracy: 0.7644 - val_loss: 0.7154 - val_accuracy: 0.7404\n",
      "Epoch 4/20\n",
      "4292/4292 [==============================] - 20s 5ms/step - loss: 0.6566 - accuracy: 0.7650 - val_loss: 0.7211 - val_accuracy: 0.7345\n",
      "Epoch 5/20\n",
      "4292/4292 [==============================] - 20s 5ms/step - loss: 0.6569 - accuracy: 0.7642 - val_loss: 0.7158 - val_accuracy: 0.7375\n",
      "Epoch 6/20\n",
      "4292/4292 [==============================] - 20s 5ms/step - loss: 0.6562 - accuracy: 0.7650 - val_loss: 0.7148 - val_accuracy: 0.7400\n",
      "Epoch 7/20\n",
      "4292/4292 [==============================] - 20s 5ms/step - loss: 0.6573 - accuracy: 0.7646 - val_loss: 0.7190 - val_accuracy: 0.7347\n",
      "Epoch 8/20\n",
      "4292/4292 [==============================] - 20s 5ms/step - loss: 0.6566 - accuracy: 0.7646 - val_loss: 0.7182 - val_accuracy: 0.7392\n",
      "Epoch 9/20\n",
      "4292/4292 [==============================] - 20s 5ms/step - loss: 0.6564 - accuracy: 0.7649 - val_loss: 0.7261 - val_accuracy: 0.7327\n",
      "Epoch 10/20\n",
      "4292/4292 [==============================] - 20s 5ms/step - loss: 0.6561 - accuracy: 0.7654 - val_loss: 0.7198 - val_accuracy: 0.7415\n",
      "Epoch 11/20\n",
      "4292/4292 [==============================] - 20s 5ms/step - loss: 0.6568 - accuracy: 0.7655 - val_loss: 0.7195 - val_accuracy: 0.7376\n",
      "Epoch 12/20\n",
      "4292/4292 [==============================] - 20s 5ms/step - loss: 0.6566 - accuracy: 0.7652 - val_loss: 0.7172 - val_accuracy: 0.7385\n",
      "Epoch 13/20\n",
      "4292/4292 [==============================] - 20s 5ms/step - loss: 0.6557 - accuracy: 0.7653 - val_loss: 0.7186 - val_accuracy: 0.7360\n",
      "Epoch 14/20\n",
      "4292/4292 [==============================] - 20s 5ms/step - loss: 0.6568 - accuracy: 0.7652 - val_loss: 0.7143 - val_accuracy: 0.7430\n",
      "Epoch 15/20\n",
      "4292/4292 [==============================] - 20s 5ms/step - loss: 0.6558 - accuracy: 0.7658 - val_loss: 0.7180 - val_accuracy: 0.7387\n",
      "Epoch 16/20\n",
      "4292/4292 [==============================] - 20s 5ms/step - loss: 0.6566 - accuracy: 0.7650 - val_loss: 0.7182 - val_accuracy: 0.7397\n",
      "Epoch 17/20\n",
      "4292/4292 [==============================] - 20s 5ms/step - loss: 0.6563 - accuracy: 0.7648 - val_loss: 0.7168 - val_accuracy: 0.7434\n",
      "Epoch 18/20\n",
      "4292/4292 [==============================] - 20s 5ms/step - loss: 0.6564 - accuracy: 0.7656 - val_loss: 0.7197 - val_accuracy: 0.7402\n",
      "Epoch 19/20\n",
      "4292/4292 [==============================] - 20s 5ms/step - loss: 0.6566 - accuracy: 0.7650 - val_loss: 0.7179 - val_accuracy: 0.7381\n",
      "Epoch 20/20\n",
      "4292/4292 [==============================] - 20s 5ms/step - loss: 0.6559 - accuracy: 0.7651 - val_loss: 0.7208 - val_accuracy: 0.7375\n"
     ]
    }
   ],
   "source": [
    "with tf.device('/CPU:0'):\n",
    "    model3.fit([x_train_s1_tfidf_fasttext, x_train_s2_tfidf_fasttext], y_train_enc, epochs = 20, batch_size = 128, \n",
    "           validation_data = ([x_val_s1_tfidf_fasttext, x_val_s2_tfidf_fasttext], y_val_enc))"
   ]
  },
  {
   "cell_type": "markdown",
   "id": "d153408f",
   "metadata": {},
   "source": [
    "# model4: tfidf weighted fasttext embeddings + extracted features"
   ]
  },
  {
   "cell_type": "code",
   "execution_count": 11,
   "id": "9630b759",
   "metadata": {},
   "outputs": [],
   "source": [
    "input1 = Input(shape=(29,)) #for extracted features\n",
    "input2 = Input(shape=(300,)) #for sentence1 embeddings\n",
    "input3 = Input(shape=(300,)) #for sentence2 embeddings\n",
    "merged = concatenate([input1, input2, input3]) #merging all inputs\n",
    "norm1 = BatchNormalization()(merged)\n",
    "dense1 = Dense(units = 100, activation = 'relu')(norm1)\n",
    "dense2 = Dense(units = 80, activation = 'relu')(dense1)\n",
    "dense3 = Dense(units = 50, activation = 'relu')(dense2)\n",
    "dense4 = Dense(units = 40, activation = 'relu')(dense3)\n",
    "dense5 = Dense(units = 30, activation = 'relu')(dense4)\n",
    "dense6 = Dense(units = 20, activation = 'relu')(dense5)\n",
    "dense7 = Dense(units = 10, activation = 'relu')(dense6)\n",
    "output = Dense(units = 3, activation = 'softmax')(dense7)\n",
    "model4 = Model(inputs = [input1, input2, input3], outputs = output)"
   ]
  },
  {
   "cell_type": "code",
   "execution_count": 18,
   "id": "342680ea",
   "metadata": {},
   "outputs": [
    {
     "name": "stdout",
     "output_type": "stream",
     "text": [
      "Epoch 1/100\n",
      "4292/4292 [==============================] - 29s 6ms/step - loss: 0.7686 - accuracy: 0.6611 - val_loss: 0.6894 - val_accuracy: 0.7044\n",
      "Epoch 2/100\n",
      "4292/4292 [==============================] - 25s 6ms/step - loss: 0.6815 - accuracy: 0.7097 - val_loss: 0.6564 - val_accuracy: 0.7202\n",
      "Epoch 3/100\n",
      "4292/4292 [==============================] - 25s 6ms/step - loss: 0.6504 - accuracy: 0.7251 - val_loss: 0.6398 - val_accuracy: 0.7303\n",
      "Epoch 4/100\n",
      "4292/4292 [==============================] - 24s 6ms/step - loss: 0.6295 - accuracy: 0.7359 - val_loss: 0.6328 - val_accuracy: 0.7362\n",
      "Epoch 5/100\n",
      "4292/4292 [==============================] - 25s 6ms/step - loss: 0.6150 - accuracy: 0.7440 - val_loss: 0.6152 - val_accuracy: 0.7445\n",
      "Epoch 6/100\n",
      "4292/4292 [==============================] - 27s 6ms/step - loss: 0.6029 - accuracy: 0.7497 - val_loss: 0.6131 - val_accuracy: 0.7430\n",
      "Epoch 7/100\n",
      "4292/4292 [==============================] - 24s 6ms/step - loss: 0.5941 - accuracy: 0.7540 - val_loss: 0.6167 - val_accuracy: 0.7448\n",
      "Epoch 8/100\n",
      "4292/4292 [==============================] - 26s 6ms/step - loss: 0.5862 - accuracy: 0.7579 - val_loss: 0.6113 - val_accuracy: 0.7483\n",
      "Epoch 9/100\n",
      "4292/4292 [==============================] - 26s 6ms/step - loss: 0.5788 - accuracy: 0.7616 - val_loss: 0.6129 - val_accuracy: 0.7469\n",
      "Epoch 10/100\n",
      "4292/4292 [==============================] - 25s 6ms/step - loss: 0.5738 - accuracy: 0.7638 - val_loss: 0.6102 - val_accuracy: 0.7483\n",
      "Epoch 11/100\n",
      "4292/4292 [==============================] - 25s 6ms/step - loss: 0.5677 - accuracy: 0.7668 - val_loss: 0.6095 - val_accuracy: 0.7502\n",
      "Epoch 12/100\n",
      "4292/4292 [==============================] - 27s 6ms/step - loss: 0.5632 - accuracy: 0.7694 - val_loss: 0.6064 - val_accuracy: 0.7473\n",
      "Epoch 13/100\n",
      "4292/4292 [==============================] - 27s 6ms/step - loss: 0.5598 - accuracy: 0.7706 - val_loss: 0.6031 - val_accuracy: 0.7479\n",
      "Epoch 14/100\n",
      "4292/4292 [==============================] - 26s 6ms/step - loss: 0.5564 - accuracy: 0.7724 - val_loss: 0.6043 - val_accuracy: 0.7528\n",
      "Epoch 15/100\n",
      "4292/4292 [==============================] - 25s 6ms/step - loss: 0.5519 - accuracy: 0.7744 - val_loss: 0.6024 - val_accuracy: 0.7519\n",
      "Epoch 16/100\n",
      "4292/4292 [==============================] - 25s 6ms/step - loss: 0.5496 - accuracy: 0.7757 - val_loss: 0.6088 - val_accuracy: 0.7564\n",
      "Epoch 17/100\n",
      "4292/4292 [==============================] - 24s 6ms/step - loss: 0.5461 - accuracy: 0.7771 - val_loss: 0.6043 - val_accuracy: 0.7553\n",
      "Epoch 18/100\n",
      "4292/4292 [==============================] - 26s 6ms/step - loss: 0.5432 - accuracy: 0.7790 - val_loss: 0.6042 - val_accuracy: 0.7521\n",
      "Epoch 19/100\n",
      "4292/4292 [==============================] - 26s 6ms/step - loss: 0.5412 - accuracy: 0.7799 - val_loss: 0.6133 - val_accuracy: 0.7489\n",
      "Epoch 20/100\n",
      "4292/4292 [==============================] - 25s 6ms/step - loss: 0.5389 - accuracy: 0.7808 - val_loss: 0.6108 - val_accuracy: 0.7493\n",
      "Epoch 21/100\n",
      "4292/4292 [==============================] - 25s 6ms/step - loss: 0.5367 - accuracy: 0.7814 - val_loss: 0.6033 - val_accuracy: 0.7529\n",
      "Epoch 22/100\n",
      "4292/4292 [==============================] - 25s 6ms/step - loss: 0.5341 - accuracy: 0.7829 - val_loss: 0.6086 - val_accuracy: 0.7498\n",
      "Epoch 23/100\n",
      "4292/4292 [==============================] - 25s 6ms/step - loss: 0.5320 - accuracy: 0.7842 - val_loss: 0.6050 - val_accuracy: 0.7527\n",
      "Epoch 24/100\n",
      "4292/4292 [==============================] - 25s 6ms/step - loss: 0.5307 - accuracy: 0.7848 - val_loss: 0.6127 - val_accuracy: 0.7517\n",
      "Epoch 25/100\n",
      "4292/4292 [==============================] - 27s 6ms/step - loss: 0.5289 - accuracy: 0.7854 - val_loss: 0.6072 - val_accuracy: 0.7539\n",
      "Epoch 26/100\n",
      "4292/4292 [==============================] - 26s 6ms/step - loss: 0.5266 - accuracy: 0.7867 - val_loss: 0.6091 - val_accuracy: 0.7564\n",
      "Epoch 27/100\n",
      "4292/4292 [==============================] - 28s 6ms/step - loss: 0.5253 - accuracy: 0.7870 - val_loss: 0.6061 - val_accuracy: 0.7541\n",
      "Epoch 28/100\n",
      "4292/4292 [==============================] - 26s 6ms/step - loss: 0.5235 - accuracy: 0.7879 - val_loss: 0.6106 - val_accuracy: 0.7570\n",
      "Epoch 29/100\n",
      "4292/4292 [==============================] - 26s 6ms/step - loss: 0.5219 - accuracy: 0.7885 - val_loss: 0.6070 - val_accuracy: 0.7541\n",
      "Epoch 30/100\n",
      "4292/4292 [==============================] - 26s 6ms/step - loss: 0.5209 - accuracy: 0.7890 - val_loss: 0.6150 - val_accuracy: 0.7527\n",
      "Epoch 31/100\n",
      "4292/4292 [==============================] - 27s 6ms/step - loss: 0.5194 - accuracy: 0.7898 - val_loss: 0.6124 - val_accuracy: 0.7534\n",
      "Epoch 32/100\n",
      "4292/4292 [==============================] - 26s 6ms/step - loss: 0.5183 - accuracy: 0.7901 - val_loss: 0.6099 - val_accuracy: 0.7524\n",
      "Epoch 33/100\n",
      "4292/4292 [==============================] - 26s 6ms/step - loss: 0.5164 - accuracy: 0.7912 - val_loss: 0.6063 - val_accuracy: 0.7522\n",
      "Epoch 34/100\n",
      "4292/4292 [==============================] - 25s 6ms/step - loss: 0.5155 - accuracy: 0.7914 - val_loss: 0.6070 - val_accuracy: 0.7519\n",
      "Epoch 35/100\n",
      "4292/4292 [==============================] - 26s 6ms/step - loss: 0.5145 - accuracy: 0.7919 - val_loss: 0.6200 - val_accuracy: 0.7525\n",
      "Epoch 36/100\n",
      "4292/4292 [==============================] - 26s 6ms/step - loss: 0.5124 - accuracy: 0.7930 - val_loss: 0.6100 - val_accuracy: 0.7522\n",
      "Epoch 37/100\n",
      "4292/4292 [==============================] - 29s 7ms/step - loss: 0.5117 - accuracy: 0.7933 - val_loss: 0.6173 - val_accuracy: 0.7521\n",
      "Epoch 38/100\n",
      "4292/4292 [==============================] - 21s 5ms/step - loss: 0.5104 - accuracy: 0.7938 - val_loss: 0.6100 - val_accuracy: 0.7548\n",
      "Epoch 39/100\n",
      "4292/4292 [==============================] - 17s 4ms/step - loss: 0.5093 - accuracy: 0.7949 - val_loss: 0.6241 - val_accuracy: 0.7489\n",
      "Epoch 40/100\n",
      "4292/4292 [==============================] - 17s 4ms/step - loss: 0.5085 - accuracy: 0.7949 - val_loss: 0.6174 - val_accuracy: 0.7512\n",
      "Epoch 41/100\n",
      "4292/4292 [==============================] - 17s 4ms/step - loss: 0.5070 - accuracy: 0.7955 - val_loss: 0.6229 - val_accuracy: 0.7531\n",
      "Epoch 42/100\n",
      "4292/4292 [==============================] - 17s 4ms/step - loss: 0.5069 - accuracy: 0.7961 - val_loss: 0.6067 - val_accuracy: 0.7546\n",
      "Epoch 43/100\n",
      "4292/4292 [==============================] - 18s 4ms/step - loss: 0.5050 - accuracy: 0.7972 - val_loss: 0.6161 - val_accuracy: 0.7490\n",
      "Epoch 44/100\n",
      "4292/4292 [==============================] - 18s 4ms/step - loss: 0.5048 - accuracy: 0.7964 - val_loss: 0.6152 - val_accuracy: 0.7515\n",
      "Epoch 45/100\n",
      "4292/4292 [==============================] - 18s 4ms/step - loss: 0.5036 - accuracy: 0.7979 - val_loss: 0.6158 - val_accuracy: 0.7552\n",
      "Epoch 46/100\n",
      "4292/4292 [==============================] - 17s 4ms/step - loss: 0.5034 - accuracy: 0.7972 - val_loss: 0.6199 - val_accuracy: 0.7578\n",
      "Epoch 47/100\n",
      "4292/4292 [==============================] - 17s 4ms/step - loss: 0.5029 - accuracy: 0.7975 - val_loss: 0.6195 - val_accuracy: 0.7530\n",
      "Epoch 48/100\n",
      "4292/4292 [==============================] - 17s 4ms/step - loss: 0.5012 - accuracy: 0.7987 - val_loss: 0.6241 - val_accuracy: 0.7537\n",
      "Epoch 49/100\n",
      "4292/4292 [==============================] - 18s 4ms/step - loss: 0.5007 - accuracy: 0.7985 - val_loss: 0.6327 - val_accuracy: 0.7540\n",
      "Epoch 50/100\n",
      "4292/4292 [==============================] - 18s 4ms/step - loss: 0.4998 - accuracy: 0.7988 - val_loss: 0.6232 - val_accuracy: 0.7524\n",
      "Epoch 51/100\n",
      "4292/4292 [==============================] - 18s 4ms/step - loss: 0.4993 - accuracy: 0.7990 - val_loss: 0.6199 - val_accuracy: 0.7545\n",
      "Epoch 52/100\n",
      "4292/4292 [==============================] - 17s 4ms/step - loss: 0.4987 - accuracy: 0.7995 - val_loss: 0.6205 - val_accuracy: 0.7531\n",
      "Epoch 53/100\n",
      "4292/4292 [==============================] - 18s 4ms/step - loss: 0.4978 - accuracy: 0.7998 - val_loss: 0.6173 - val_accuracy: 0.7535\n",
      "Epoch 54/100\n",
      "4292/4292 [==============================] - 17s 4ms/step - loss: 0.4969 - accuracy: 0.8003 - val_loss: 0.6381 - val_accuracy: 0.7479\n",
      "Epoch 55/100\n",
      "4292/4292 [==============================] - 18s 4ms/step - loss: 0.4958 - accuracy: 0.8010 - val_loss: 0.6415 - val_accuracy: 0.7504\n",
      "Epoch 56/100\n",
      "4292/4292 [==============================] - 19s 4ms/step - loss: 0.4950 - accuracy: 0.8012 - val_loss: 0.6204 - val_accuracy: 0.7518\n",
      "Epoch 57/100\n",
      "4292/4292 [==============================] - 21s 5ms/step - loss: 0.4948 - accuracy: 0.8011 - val_loss: 0.6281 - val_accuracy: 0.7525\n",
      "Epoch 58/100\n",
      "4292/4292 [==============================] - 19s 4ms/step - loss: 0.4946 - accuracy: 0.8016 - val_loss: 0.6273 - val_accuracy: 0.7487\n",
      "Epoch 59/100\n",
      "4292/4292 [==============================] - 18s 4ms/step - loss: 0.4933 - accuracy: 0.8021 - val_loss: 0.6313 - val_accuracy: 0.7499\n",
      "Epoch 60/100\n",
      "4292/4292 [==============================] - 19s 4ms/step - loss: 0.4928 - accuracy: 0.8024 - val_loss: 0.6465 - val_accuracy: 0.7489\n",
      "Epoch 61/100\n",
      "4292/4292 [==============================] - 20s 5ms/step - loss: 0.4923 - accuracy: 0.8021 - val_loss: 0.6383 - val_accuracy: 0.7497\n",
      "Epoch 62/100\n",
      "4292/4292 [==============================] - 20s 5ms/step - loss: 0.4918 - accuracy: 0.8017 - val_loss: 0.6383 - val_accuracy: 0.7507\n",
      "Epoch 63/100\n",
      "4292/4292 [==============================] - 24s 6ms/step - loss: 0.4906 - accuracy: 0.8028 - val_loss: 0.6399 - val_accuracy: 0.7505\n",
      "Epoch 64/100\n",
      "4292/4292 [==============================] - 19s 4ms/step - loss: 0.4903 - accuracy: 0.8028 - val_loss: 0.6412 - val_accuracy: 0.7512\n",
      "Epoch 65/100\n",
      "4292/4292 [==============================] - 19s 4ms/step - loss: 0.4902 - accuracy: 0.8036 - val_loss: 0.6257 - val_accuracy: 0.7513\n",
      "Epoch 66/100\n",
      "4292/4292 [==============================] - 19s 5ms/step - loss: 0.4898 - accuracy: 0.8038 - val_loss: 0.6437 - val_accuracy: 0.7491\n",
      "Epoch 67/100\n",
      "4292/4292 [==============================] - 22s 5ms/step - loss: 0.4885 - accuracy: 0.8045 - val_loss: 0.6414 - val_accuracy: 0.7490\n",
      "Epoch 68/100\n",
      "4292/4292 [==============================] - 19s 4ms/step - loss: 0.4885 - accuracy: 0.8040 - val_loss: 0.6318 - val_accuracy: 0.7496\n",
      "Epoch 69/100\n",
      "4292/4292 [==============================] - 18s 4ms/step - loss: 0.4877 - accuracy: 0.8043 - val_loss: 0.6349 - val_accuracy: 0.7507\n",
      "Epoch 70/100\n",
      "4292/4292 [==============================] - 18s 4ms/step - loss: 0.4868 - accuracy: 0.8048 - val_loss: 0.6367 - val_accuracy: 0.7554\n",
      "Epoch 71/100\n",
      "4292/4292 [==============================] - 18s 4ms/step - loss: 0.4870 - accuracy: 0.8048 - val_loss: 0.6480 - val_accuracy: 0.7509\n",
      "Epoch 72/100\n",
      "4292/4292 [==============================] - 18s 4ms/step - loss: 0.4864 - accuracy: 0.8045 - val_loss: 0.6337 - val_accuracy: 0.7511\n",
      "Epoch 73/100\n",
      "4292/4292 [==============================] - 18s 4ms/step - loss: 0.4862 - accuracy: 0.8058 - val_loss: 0.6400 - val_accuracy: 0.7466\n",
      "Epoch 74/100\n",
      "4292/4292 [==============================] - 18s 4ms/step - loss: 0.4858 - accuracy: 0.8052 - val_loss: 0.6464 - val_accuracy: 0.7470\n",
      "Epoch 75/100\n",
      "4292/4292 [==============================] - 18s 4ms/step - loss: 0.4846 - accuracy: 0.8061 - val_loss: 0.6332 - val_accuracy: 0.7517\n",
      "Epoch 76/100\n",
      "4292/4292 [==============================] - 18s 4ms/step - loss: 0.4848 - accuracy: 0.8061 - val_loss: 0.6404 - val_accuracy: 0.7482\n",
      "Epoch 77/100\n",
      "4292/4292 [==============================] - 18s 4ms/step - loss: 0.4845 - accuracy: 0.8062 - val_loss: 0.6372 - val_accuracy: 0.7512\n",
      "Epoch 78/100\n",
      "4292/4292 [==============================] - 18s 4ms/step - loss: 0.4841 - accuracy: 0.8063 - val_loss: 0.6506 - val_accuracy: 0.7452\n",
      "Epoch 79/100\n",
      "4292/4292 [==============================] - 18s 4ms/step - loss: 0.4827 - accuracy: 0.8069 - val_loss: 0.6409 - val_accuracy: 0.7478\n",
      "Epoch 80/100\n",
      "4292/4292 [==============================] - 18s 4ms/step - loss: 0.4829 - accuracy: 0.8070 - val_loss: 0.6454 - val_accuracy: 0.7484\n",
      "Epoch 81/100\n",
      "4292/4292 [==============================] - 17s 4ms/step - loss: 0.4830 - accuracy: 0.8067 - val_loss: 0.6392 - val_accuracy: 0.7466\n",
      "Epoch 82/100\n",
      "4292/4292 [==============================] - 17s 4ms/step - loss: 0.4825 - accuracy: 0.8068 - val_loss: 0.6366 - val_accuracy: 0.7519\n",
      "Epoch 83/100\n",
      "4292/4292 [==============================] - 17s 4ms/step - loss: 0.4821 - accuracy: 0.8071 - val_loss: 0.6520 - val_accuracy: 0.7480\n",
      "Epoch 84/100\n",
      "4292/4292 [==============================] - 17s 4ms/step - loss: 0.4815 - accuracy: 0.8076 - val_loss: 0.6281 - val_accuracy: 0.7508\n",
      "Epoch 85/100\n",
      "4292/4292 [==============================] - 17s 4ms/step - loss: 0.4803 - accuracy: 0.8083 - val_loss: 0.6511 - val_accuracy: 0.7524\n",
      "Epoch 86/100\n",
      "4292/4292 [==============================] - 17s 4ms/step - loss: 0.4808 - accuracy: 0.8075 - val_loss: 0.6431 - val_accuracy: 0.7488\n",
      "Epoch 87/100\n",
      "4292/4292 [==============================] - 18s 4ms/step - loss: 0.4800 - accuracy: 0.8078 - val_loss: 0.6495 - val_accuracy: 0.7484\n",
      "Epoch 88/100\n",
      "4292/4292 [==============================] - 18s 4ms/step - loss: 0.4798 - accuracy: 0.8079 - val_loss: 0.6540 - val_accuracy: 0.7456\n",
      "Epoch 89/100\n",
      "4292/4292 [==============================] - 17s 4ms/step - loss: 0.4797 - accuracy: 0.8081 - val_loss: 0.6521 - val_accuracy: 0.7466\n",
      "Epoch 90/100\n",
      "4292/4292 [==============================] - 17s 4ms/step - loss: 0.4792 - accuracy: 0.8081 - val_loss: 0.6741 - val_accuracy: 0.7452\n",
      "Epoch 91/100\n",
      "4292/4292 [==============================] - 17s 4ms/step - loss: 0.4786 - accuracy: 0.8088 - val_loss: 0.6479 - val_accuracy: 0.7469\n",
      "Epoch 92/100\n",
      "4292/4292 [==============================] - 17s 4ms/step - loss: 0.4787 - accuracy: 0.8085 - val_loss: 0.6471 - val_accuracy: 0.7528\n",
      "Epoch 93/100\n",
      "4292/4292 [==============================] - 17s 4ms/step - loss: 0.4781 - accuracy: 0.8094 - val_loss: 0.6496 - val_accuracy: 0.7487\n",
      "Epoch 94/100\n",
      "4292/4292 [==============================] - 17s 4ms/step - loss: 0.4777 - accuracy: 0.8092 - val_loss: 0.6468 - val_accuracy: 0.7491\n",
      "Epoch 95/100\n",
      "4292/4292 [==============================] - 18s 4ms/step - loss: 0.4773 - accuracy: 0.8098 - val_loss: 0.6441 - val_accuracy: 0.7497\n",
      "Epoch 96/100\n",
      "4292/4292 [==============================] - 18s 4ms/step - loss: 0.4765 - accuracy: 0.8095 - val_loss: 0.6444 - val_accuracy: 0.7462\n",
      "Epoch 97/100\n",
      "4292/4292 [==============================] - 17s 4ms/step - loss: 0.4765 - accuracy: 0.8096 - val_loss: 0.6418 - val_accuracy: 0.7481\n",
      "Epoch 98/100\n",
      "4292/4292 [==============================] - 17s 4ms/step - loss: 0.4760 - accuracy: 0.8103 - val_loss: 0.6471 - val_accuracy: 0.7472\n",
      "Epoch 99/100\n",
      "4292/4292 [==============================] - 17s 4ms/step - loss: 0.4759 - accuracy: 0.8100 - val_loss: 0.6417 - val_accuracy: 0.7487\n",
      "Epoch 100/100\n",
      "4292/4292 [==============================] - 17s 4ms/step - loss: 0.4760 - accuracy: 0.8098 - val_loss: 0.6552 - val_accuracy: 0.7453\n"
     ]
    }
   ],
   "source": [
    "model4.compile(optimizer = 'adam', loss = 'categorical_crossentropy', metrics = 'accuracy')\n",
    "tf.debugging.set_log_device_placement(True)\n",
    "# Place tensors on the CPU\n",
    "with tf.device('/CPU:0'):\n",
    "    model4.fit([X_train_1, x_train_s1_tfidf_fasttext, x_train_s2_tfidf_fasttext], y_train_enc, epochs = 100, batch_size = 128, \n",
    "           validation_data = ([X_val_1, x_val_s1_tfidf_fasttext, x_val_s2_tfidf_fasttext], y_val_enc))"
   ]
  },
  {
   "cell_type": "markdown",
   "id": "058e660d",
   "metadata": {},
   "source": [
    "# Error analysis on model4"
   ]
  },
  {
   "cell_type": "markdown",
   "id": "c2fdc786",
   "metadata": {},
   "source": [
    "**train accuracy = 0.8, validation accuracy = 0.75**"
   ]
  },
  {
   "cell_type": "markdown",
   "id": "061d2ebe",
   "metadata": {},
   "source": [
    "## Confusion matrix: model4"
   ]
  },
  {
   "cell_type": "code",
   "execution_count": 19,
   "id": "767a41d1",
   "metadata": {},
   "outputs": [],
   "source": [
    "val_pred = model4.predict([X_val_1, x_val_s1_tfidf_fasttext, x_val_s2_tfidf_fasttext])"
   ]
  },
  {
   "cell_type": "code",
   "execution_count": 22,
   "id": "72258ac9",
   "metadata": {},
   "outputs": [],
   "source": [
    "label_pred = tf.argmax(val_pred, axis = 1)"
   ]
  },
  {
   "cell_type": "code",
   "execution_count": 31,
   "id": "97466114",
   "metadata": {},
   "outputs": [],
   "source": [
    "data =  {'y_Actual':  y_val,\n",
    "        'y_Predicted': label_pred}\n",
    "df = pd.DataFrame(data, columns=['y_Actual','y_Predicted'])\n",
    "confusion_matrix = pd.crosstab(df['y_Actual'], df['y_Predicted'], rownames=['Actual'], colnames=['Predicted'], margins = True)"
   ]
  },
  {
   "cell_type": "code",
   "execution_count": 42,
   "id": "291f3b3a",
   "metadata": {},
   "outputs": [
    {
     "data": {
      "image/png": "[encoded data removed]",
      "text/plain": [
       "<Figure size 576x432 with 2 Axes>"
      ]
     },
     "metadata": {
      "needs_background": "light"
     },
     "output_type": "display_data"
    }
   ],
   "source": [
    "plt.figure(figsize = (8,6))\n",
    "colormap = sns.color_palette(\"coolwarm\", 12)\n",
    "sns.heatmap(confusion_matrix, annot=True, cmap = colormap, annot_kws={\"fontsize\":16})\n",
    "plt.show()"
   ]
  },
  {
   "cell_type": "markdown",
   "id": "ee11131f",
   "metadata": {},
   "source": [
    "**meaning of labels = 0:neutral, 1:contradiction, 2:entailment**<br>\n",
    "-It seems that most errors are occuring for neutral pairs which are predicted as contradiction<br>\n",
    "-best oerformance is for entailment pairs<br>\n",
    "-"
   ]
  },
  {
   "cell_type": "markdown",
   "id": "f86ddb8c",
   "metadata": {},
   "source": [
    "## Erronous points: model4"
   ]
  },
  {
   "cell_type": "code",
   "execution_count": 50,
   "id": "f1f68f3c",
   "metadata": {},
   "outputs": [],
   "source": [
    "df2 = val_df[['sentence1', 'sentence2']]"
   ]
  },
  {
   "cell_type": "code",
   "execution_count": 51,
   "id": "6de2c2b5",
   "metadata": {},
   "outputs": [
    {
     "name": "stderr",
     "output_type": "stream",
     "text": [
      "C:\\Users\\anike\\.conda\\envs\\tf_test\\lib\\site-packages\\ipykernel_launcher.py:1: SettingWithCopyWarning: \n",
      "A value is trying to be set on a copy of a slice from a DataFrame.\n",
      "Try using .loc[row_indexer,col_indexer] = value instead\n",
      "\n",
      "See the caveats in the documentation: https://pandas.pydata.org/pandas-docs/stable/user_guide/indexing.html#returning-a-view-versus-a-copy\n",
      "  \"\"\"Entry point for launching an IPython kernel.\n",
      "C:\\Users\\anike\\.conda\\envs\\tf_test\\lib\\site-packages\\ipykernel_launcher.py:2: SettingWithCopyWarning: \n",
      "A value is trying to be set on a copy of a slice from a DataFrame.\n",
      "Try using .loc[row_indexer,col_indexer] = value instead\n",
      "\n",
      "See the caveats in the documentation: https://pandas.pydata.org/pandas-docs/stable/user_guide/indexing.html#returning-a-view-versus-a-copy\n",
      "  \n"
     ]
    }
   ],
   "source": [
    "df2['y_true'] = y_val\n",
    "df2['y_pred'] = label_pred"
   ]
  },
  {
   "cell_type": "code",
   "execution_count": 53,
   "id": "f5eacca6",
   "metadata": {},
   "outputs": [],
   "source": [
    "# all incorrectly predicted pairs\n",
    "erronous_pairs = df2[df2['y_true']!=df2['y_pred']]"
   ]
  },
  {
   "cell_type": "code",
   "execution_count": 69,
   "id": "076bb5b5",
   "metadata": {},
   "outputs": [
    {
     "name": "stdout",
     "output_type": "stream",
     "text": [
      "some pairs of sentences belonging to entailment but predicted as contradiction:\n",
      "....................................................................................................\n",
      "sentence1 : A guy wearing a black shirt and gray pants pushing his shopping cart past a candy aisle of a Walmart.\n",
      "sentence2 : A man is inside a store.\n",
      "actual label : 2\n",
      "predicted label : 1\n",
      "....................................................................................................\n",
      "sentence1 : A girl is throwing a football on the beach.\n",
      "sentence2 : A girl is playing with a football.\n",
      "actual label : 2\n",
      "predicted label : 1\n",
      "....................................................................................................\n",
      "sentence1 : A middle-aged man in a bicycle race trying his hardest on the sand surrounded by watching crowd.\n",
      "sentence2 : A man is riding a bicycle.\n",
      "actual label : 2\n",
      "predicted label : 1\n",
      "....................................................................................................\n",
      "sentence1 : A motorcycle rider is making a sharp turn.\n",
      "sentence2 : The motorcyclist is turning.\n",
      "actual label : 2\n",
      "predicted label : 1\n",
      "....................................................................................................\n",
      "sentence1 : Men and women in swimsuits hangout on rocks above water.\n",
      "sentence2 : The men and women are dressed in clothes for the beach.\n",
      "actual label : 2\n",
      "predicted label : 1\n",
      "....................................................................................................\n"
     ]
    }
   ],
   "source": [
    "#true:entailment | pred:contradiction \n",
    "ec = df2[(df2['y_true'] == 2) & (df2['y_pred'] == 1)]\n",
    "print('some pairs of sentences belonging to entailment but predicted as contradiction:')\n",
    "print('.'*100)\n",
    "for i,row in ec.sample(5).iterrows():\n",
    "    print('sentence1 : {}\\nsentence2 : {}\\nactual label : {}\\npredicted label : {}'.format(row['sentence1'],row['sentence2'], row['y_true'], row['y_pred']))\n",
    "    print('.'*100)"
   ]
  },
  {
   "cell_type": "markdown",
   "id": "d2dfded5",
   "metadata": {},
   "source": [
    "**Observations:** It seems that the model is not being able to draw the meaning of the sentences. Because two sentences here mean essentially the same ,still the model thinks that they are opposite in meaning. The model is incapable of learning the meaning, sequence information and symantics."
   ]
  },
  {
   "cell_type": "code",
   "execution_count": 70,
   "id": "cdeb8c92",
   "metadata": {},
   "outputs": [
    {
     "name": "stdout",
     "output_type": "stream",
     "text": [
      "some pairs of sentences belonging to contradiction and predicted as contradiction:\n",
      "....................................................................................................\n",
      "sentence1 : A boy wearing blue jeans is skateboarding.\n",
      "sentence2 : a boy sleeps in a car\n",
      "actual label : 1\n",
      "predicted label : 1\n",
      "....................................................................................................\n",
      "sentence1 : A person in gray snowboarding down a hill.\n",
      "sentence2 : The snowboarder is wearing white.\n",
      "actual label : 1\n",
      "predicted label : 1\n",
      "....................................................................................................\n",
      "sentence1 : A man in a green safety jacket and pants stands, facing away, near bags of trash while people stand on the curb across the street.\n",
      "sentence2 : Nobody has a jacket\n",
      "actual label : 1\n",
      "predicted label : 1\n",
      "....................................................................................................\n",
      "sentence1 : A cyclists rides up a hill amid cheering bystanders.\n",
      "sentence2 : The person is on a motorcycle.\n",
      "actual label : 1\n",
      "predicted label : 1\n",
      "....................................................................................................\n",
      "sentence1 : A man snowboards.\n",
      "sentence2 : A man is drinking coffee at the cafe.\n",
      "actual label : 1\n",
      "predicted label : 1\n",
      "....................................................................................................\n"
     ]
    }
   ],
   "source": [
    "#true:contradiction | pred:contradiction \n",
    "cc = df2[(df2['y_true'] == 1) & (df2['y_pred'] == 1)]\n",
    "print('some pairs of sentences belonging to contradiction and predicted as contradiction:')\n",
    "print('.'*100)\n",
    "for i,row in cc.sample(5).iterrows():\n",
    "    print('sentence1 : {}\\nsentence2 : {}\\nactual label : {}\\npredicted label : {}'.format(row['sentence1'],row['sentence2'], row['y_true'], row['y_pred']))\n",
    "    print('.'*100)"
   ]
  },
  {
   "cell_type": "code",
   "execution_count": 71,
   "id": "0b3799e7",
   "metadata": {},
   "outputs": [
    {
     "name": "stdout",
     "output_type": "stream",
     "text": [
      "some pairs of sentences belonging to entailment and predicted as entailment:\n",
      "....................................................................................................\n",
      "sentence1 : Two people in winter clothing sliding down a snow-covered hill.\n",
      "sentence2 : People are sledding down a hill.\n",
      "actual label : 2\n",
      "predicted label : 2\n",
      "....................................................................................................\n",
      "sentence1 : Speakers in a room full of people sitting in chairs.\n",
      "sentence2 : There are people indoors.\n",
      "actual label : 2\n",
      "predicted label : 2\n",
      "....................................................................................................\n",
      "sentence1 : A man in a black coat eats a doughnut while other men look out of frame.\n",
      "sentence2 : A man in a black coat eats a doughnut.\n",
      "actual label : 2\n",
      "predicted label : 2\n",
      "....................................................................................................\n",
      "sentence1 : A group of teenagers are standing in front of some tents, most of them are holding skateboards.\n",
      "sentence2 : A group of teenagers are holding skateboards\n",
      "actual label : 2\n",
      "predicted label : 2\n",
      "....................................................................................................\n",
      "sentence1 : A woman is writing something on a post-it note which is hanging on a bulletin board with a lot of other post-it notes.\n",
      "sentence2 : The woman is writing a note.\n",
      "actual label : 2\n",
      "predicted label : 2\n",
      "....................................................................................................\n"
     ]
    }
   ],
   "source": [
    "#true:entailment | pred:entailment \n",
    "ee = df2[(df2['y_true'] == 2) & (df2['y_pred'] == 2)]\n",
    "print('some pairs of sentences belonging to entailment and predicted as entailment:')\n",
    "print('.'*100)\n",
    "for i,row in ee.sample(5).iterrows():\n",
    "    print('sentence1 : {}\\nsentence2 : {}\\nactual label : {}\\npredicted label : {}'.format(row['sentence1'],row['sentence2'], row['y_true'], row['y_pred']))\n",
    "    print('.'*100)"
   ]
  },
  {
   "cell_type": "markdown",
   "id": "b46ab9b5",
   "metadata": {},
   "source": [
    "**observation:** It seems that when two sentences share some words or pos then the model is abe to identify them correctly"
   ]
  },
  {
   "cell_type": "code",
   "execution_count": 68,
   "id": "667a41aa",
   "metadata": {},
   "outputs": [
    {
     "name": "stdout",
     "output_type": "stream",
     "text": [
      "some pairs of sentences belonging to contradiction but predicted as entailment:\n",
      "....................................................................................................\n",
      "sentence1 : the shadow silhouette of a woman standing near the water looking at a large attraction on the other side.\n",
      "sentence2 : She is in the water.\n",
      "actual label : 1\n",
      "predicted label : 2\n",
      "....................................................................................................\n",
      "sentence1 : A woman prepares ingredients for a bowl of soup.\n",
      "sentence2 : A soup bowl prepares a woman.\n",
      "actual label : 1\n",
      "predicted label : 2\n",
      "....................................................................................................\n",
      "sentence1 : A girl in a red polka dot bikini is jumping off a sand dune.\n",
      "sentence2 : A girl in a bikini is buried in the sand.\n",
      "actual label : 1\n",
      "predicted label : 2\n",
      "....................................................................................................\n",
      "sentence1 : A husky and a black cat nuzzling.\n",
      "sentence2 : A cat attacks a dog.\n",
      "actual label : 1\n",
      "predicted label : 2\n",
      "....................................................................................................\n",
      "sentence1 : A woman holds her child out of a red window, next to a Color TV sign.\n",
      "sentence2 : The TV holds a woman who holds a child.\n",
      "actual label : 1\n",
      "predicted label : 2\n",
      "....................................................................................................\n"
     ]
    }
   ],
   "source": [
    "#true:contradiction | pred:entailment \n",
    "contradict_entailment = df2[(df2['y_true'] == 1) & (df2['y_pred'] == 2)]\n",
    "print('some pairs of sentences belonging to contradiction but predicted as entailment:')\n",
    "print('.'*100)\n",
    "for i,row in contradict_entailment.sample(5).iterrows():\n",
    "    print('sentence1 : {}\\nsentence2 : {}\\nactual label : {}\\npredicted label : {}'.format(row['sentence1'],row['sentence2'], row['y_true'], row['y_pred']))\n",
    "    print('.'*100)"
   ]
  },
  {
   "cell_type": "markdown",
   "id": "4a9b915d",
   "metadata": {},
   "source": [
    "**observation:** Again we can see that the model is only considering presence of similar words to predict the label. It is not considering semantic meaning or polarity. Also it is not being able to recognize structure and voice of sentences."
   ]
  },
  {
   "cell_type": "code",
   "execution_count": null,
   "id": "631364dd",
   "metadata": {},
   "outputs": [],
   "source": []
  }
 ],
 "metadata": {
  "kernelspec": {
   "display_name": "tf_test",
   "language": "python",
   "name": "tf_test"
  },
  "language_info": {
   "codemirror_mode": {
    "name": "ipython",
    "version": 3
   },
   "file_extension": ".py",
   "mimetype": "text/x-python",
   "name": "python",
   "nbconvert_exporter": "python",
   "pygments_lexer": "ipython3",
   "version": "3.6.13"
  }
 },
 "nbformat": 4,
 "nbformat_minor": 5
}
